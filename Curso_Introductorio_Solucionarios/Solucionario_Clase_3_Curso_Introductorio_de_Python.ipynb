{
  "nbformat": 4,
  "nbformat_minor": 0,
  "metadata": {
    "colab": {
      "name": "(Solucionario) Clase 3 - Curso Introductorio de Python.ipynb",
      "provenance": [],
      "collapsed_sections": [],
      "toc_visible": true
    },
    "kernelspec": {
      "name": "python3",
      "display_name": "Python 3"
    },
    "language_info": {
      "name": "python"
    }
  },
  "cells": [
    {
      "cell_type": "markdown",
      "metadata": {
        "id": "7CZnS3EA0NVn"
      },
      "source": [
        "# Solucionario de la Clase 3 - Curso Introductorio de Python\n"
      ]
    },
    {
      "cell_type": "markdown",
      "metadata": {
        "id": "1KWE4fsUdjHP"
      },
      "source": [
        "## Mini-desafíos"
      ]
    },
    {
      "cell_type": "markdown",
      "metadata": {
        "id": "eK4Lm4w9WHfk"
      },
      "source": [
        "#### **Mini-desafío:** Diccionarios\n",
        "1. Realizar un programa que pida al usuario un número de legajo y el nombre completo, luego lo guarde en un diccionario. En caso de que el número de legajo ya se encuentre en el diccionario, se debe mostrar un mensaje de advertencia.\n",
        "\n",
        " Usar dos celdas de código, en una crear el diccionario, y en la otra agregar el nombre y legajo y mostrar el contenido total. La idea es que cuando se ejecute varias veces la segunda celda se agrege un nuevo nombre y legajo a lo que ya había sido almacenado en el diccionario."
      ]
    },
    {
      "cell_type": "code",
      "metadata": {
        "id": "2dcL9YmnWfbv"
      },
      "source": [
        "# Celda 1\n",
        "# Ejecutar esta celda 1 vez para crear el diccionario vacío\n",
        "dic = {}\n",
        "print(dic)"
      ],
      "execution_count": null,
      "outputs": []
    },
    {
      "cell_type": "code",
      "metadata": {
        "id": "6aiGms-8_9T3"
      },
      "source": [
        "# Celda 2\n",
        "# Ejecutar esta celda cada vez que se quiera agregar un elemento\n",
        "\n",
        "legajo = int(input(\"Ingrese el numero de legajo: \"))\n",
        "nombre = input(\"Ingrese el nombre completo: \")\n",
        "\n",
        "if legajo in dic:\n",
        "  print(\"Ese alumno ya esta registrado.\")\n",
        "\n",
        "else:\n",
        "  dic[legajo] = nombre\n",
        "\n",
        "print(dic)\n"
      ],
      "execution_count": null,
      "outputs": []
    },
    {
      "cell_type": "markdown",
      "metadata": {
        "id": "Khd7tKm0UKF9"
      },
      "source": [
        "2. Realizar un programa que decodifique [código morse](https://es.wikipedia.org/wiki/C%C3%B3digo_morse). El usuario debe ingresar una palabra en código morse, usando una secuencia de puntos, guiones y espacios como la siguiente:\n",
        "\n",
        "  ```.--. .-. --- --. .-. .- -- .- -.-. .. --- -.```\n",
        "  \n",
        "  Luego, separando por espacios, cada letra debe ser convertida de morse a una letra del alfabeto, y por último la traducción se muestra en pantalla como un *string*. Les proponemos definir un *diccionario* que ayude a realizar la traducción. Es importante considerar qué dato será la clave, y cuál el contenido, de forma en que les sea más útil para lograr resolver el desafío.\n",
        "\n",
        "  **Tips:** Revisar los métodos `.split()` y `.join()` para convertir entre strings y listas."
      ]
    },
    {
      "cell_type": "code",
      "metadata": {
        "id": "4PppgdUsstps"
      },
      "source": [
        "# Solución\n",
        "\n",
        "morse_code = {'.-': 'A', '-...': 'B', '-.-.': 'C', '-..': 'D', '.': 'E', \n",
        "              '..-.': 'F', '--.': 'G', '....': 'H', '..': 'I', '.---': 'J', \n",
        "              '-.-': 'K', '.-..': 'L', '--': 'M', '-.': 'N', '---': 'O', \n",
        "              '.--.': 'P', '--.-': 'Q', '.-.': 'R', '...': 'S', '-': 'T', \n",
        "              '..-': 'U', '...-': 'V', '.--': 'W', '-..-': 'X', '-.--': 'Y', \n",
        "              '--..': 'Z'}\n",
        "\n",
        "frase = '.--. .-. --- --. .-. .- -- .- -.-. .. --- -.'\n",
        "\n",
        "letras = frase.split()\n",
        "\n",
        "for i in range(len(letras)):\n",
        "  letras[i] = morse_code[letras[i]]\n",
        "\n",
        "print( ''.join(letras) )"
      ],
      "execution_count": null,
      "outputs": []
    },
    {
      "cell_type": "markdown",
      "metadata": {
        "id": "GTYqk43YWl_3"
      },
      "source": [
        "#### **Mini-desafío:** Sets\n",
        "1. Se cuentan con varios sets que contienen nombres de personas a las que les gusta un cierto sabor de helado:\n",
        "\n",
        "  ```python\n",
        "vainilla = { \"Juan\", \"Marina\", \"Tomas\", \"Paula\" }\n",
        "chocolate = { \"Pedro\", \"Paula\", \"Marina\" }\n",
        "dulceDeLeche = { \"Juan\", \"Julian\", \"Pedro\", \"Marina\" }\n",
        "```\n",
        "\n",
        "  Responder, usando operaciones de sets:\n",
        "\n",
        "  - ¿Hay alguna persona a la que le gusten todos los sabores?\n",
        "\n",
        "  - ¿Hay alguna persona a la que le guste la vainilla y no el dulce de leche?\n",
        "\n",
        "  - ¿Cuántas personas distintas tenemos?"
      ]
    },
    {
      "cell_type": "code",
      "metadata": {
        "id": "WL5tcyol38FZ"
      },
      "source": [
        "# Solución - parte 1\n",
        "\n",
        "vainilla = {\"Juan\", \"Marina\", \"Tomas\", \"Paula\"}\n",
        "chocolate = {\"Pedro\", \"Paula\", \"Marina\"}\n",
        "dulceDeLeche = {\"Juan\", \"Julian\", \"Pedro\", \"Marina\"}\n",
        "\n",
        "print(\"Le gustan todos los sabores a:\", vainilla & chocolate & dulceDeLeche)\n",
        "\n",
        "print(\"Le gusta la vainilla y no el dulce de leche a:\", vainilla - dulceDeLeche)\n",
        "\n",
        "print(\"Total de personas:\", len(vainilla | chocolate | dulceDeLeche))"
      ],
      "execution_count": null,
      "outputs": []
    },
    {
      "cell_type": "markdown",
      "metadata": {
        "id": "PL9TFHl-XYnH"
      },
      "source": [
        "2. Diseñar un programa que analiza si una frase es un [pangrama](https://es.wikipedia.org/wiki/Pangrama) del idioma inglés, es decir, si contiene todas las letras del alfabeto al menos 1 vez. El programa debe ser capaz de ignorar espacios y signos de puntuación. Por ejemplo:\n",
        "```python\n",
        "frase = \"the quick brown fox jumps over the lazy dog\"\n",
        "```\n",
        "  El siguiente set puede serles de utilidad:\n",
        "  ```python\n",
        "  letras = set(\"abcdefghijklmnopqrstuvwxyz\")\n",
        "  ```"
      ]
    },
    {
      "cell_type": "code",
      "metadata": {
        "id": "o2mfpzBXXamN"
      },
      "source": [
        "# Solución - parte 2\n",
        "\n",
        "letras = set(\"abcdefghijklmnopqrstuvwxyz\")\n",
        "\n",
        "frase = input(\"Ingrese una frase: \")\n",
        "\n",
        "if letras.issubset( set(frase) ):\n",
        "  print(\"La frase es un pangrama del idioma inglés!\")\n",
        "else:\n",
        "  print(\"La frase no es un pangrama.\")"
      ],
      "execution_count": null,
      "outputs": []
    },
    {
      "cell_type": "markdown",
      "metadata": {
        "id": "hpW3cNya1ESA"
      },
      "source": [
        "## Ejercitación integradora\n",
        "$\\newcommand{\\dif}{\\bigstar}$$\\newcommand{\\facil}{\\color{\\green}{\\dif}}$ $\\newcommand{\\pieceofcake}{\\color{\\cyan}{\\dif}}$$\\newcommand{\\medio}{\\color{\\yellow}{\\dif\\dif}}$$\\newcommand{\\media}{\\medio}$$\\newcommand{\\normal}{\\medio}$  $\\newcommand{\\dificil}{\\color{\\orange}{\\dif\\dif\\dif}}$ $\\newcommand{\\imposible}{\\color{\\red}{\\dif\\dif\\dif\\dif}}$"
      ]
    },
    {
      "cell_type": "markdown",
      "metadata": {
        "id": "Rvlf1T7MNTjo"
      },
      "source": [
        "### $\\facil$ El ABC de Python\n",
        "\n",
        "*Aclaración: Este desafío es inventado, es posible que haya errores fácticos en cuanto a los alfabetos reales.*\n",
        "\n",
        "Encontramos una piedra antigua en una plaza de Buenos Aires cuyas inscripciones nos ayudan a decifrar nuevos alfabetos. Gracias a estas inscripciones descubrimos que las letras del [alfabeto latino arcaico](https://es.wikipedia.org/wiki/Alfabeto_latino#Alfabeto_latino_arcaico) tienen una correspondencia con el [alfabeto latino](https://es.wikipedia.org/wiki/Alfabeto_latino) y vamos a crear un programa que nos ayude a traducir palabras de un alfabeto a otro.\n",
        "\n",
        "Crear una función que recibe un *string*, transforma todos los caracteres del *alfabeto latino arcaico*  en caracteres modernos, no modifica el resto de los caracteres (signos de puntuacion, espacios, letras, números, etc.) y devuelve el resultado con *return*.\n",
        "\n",
        "**Ejemplos:**\n",
        "\n",
        "`traducir( \"𐌀𐌋𐌅𐌀𐌁𐌄𐌕𐌏\" )` → `\"ALFABETO\"`\n",
        "\n",
        "`traducir( \"¡𐌐𐌄𐌓𐌃𐌉!\" )` → `\"¡PERDI!\"`\n",
        "\n",
        "`traducir( \"¿𐌔𐌉 𐌏 𐌍𐌏? 𐌌𐌌𐌌... 𐌔𐌉.\" )` → `\"¿SI O NO? MMM... SI.\"`\n",
        "\n",
        "**Correspondencia entre alfabetos:**\n",
        "```python\n",
        "Arcaico : Moderno\n",
        "'𐌀' : 'A',\n",
        "'𐌁' : 'B',\n",
        "'𐌂' : 'C',\n",
        "'𐌃' : 'D',\n",
        "'𐌄' : 'E',\n",
        "'𐌅' : 'F',\n",
        "'𐌆' : 'Z',\n",
        "'𐌇' : 'H',\n",
        "'𐌉' : 'I',\n",
        "'𐌊' : 'K',\n",
        "'𐌋' : 'L',\n",
        "'𐌌' : 'M',\n",
        "'𐌍' : 'N',\n",
        "'𐌏' : 'O',\n",
        "'𐌐' : 'P',\n",
        "'𐌒' : 'Q',\n",
        "'𐌓' : 'R',\n",
        "'𐌔' : 'S',\n",
        "'𐌕' : 'T',\n",
        "'𐌖' : 'V',\n",
        "'𐌗' : 'X'\n",
        "```\n",
        "\n"
      ]
    },
    {
      "cell_type": "code",
      "metadata": {
        "id": "KyqzDnT4e_U2"
      },
      "source": [
        "arcaico = {'𐌀' : 'A', '𐌁' : 'B', '𐌂' : 'C', '𐌃' : 'D', '𐌄' : 'E', '𐌅' : 'F',\n",
        "           '𐌆' : 'Z', '𐌇' : 'H', '𐌉' : 'I', '𐌊' : 'K', '𐌋' : 'L', '𐌌' : 'M',\n",
        "           '𐌍' : 'N', '𐌏' : 'O', '𐌐' : 'P', '𐌒' : 'Q', '𐌓' : 'R', '𐌔' : 'S',\n",
        "           '𐌕' : 'T', '𐌖' : 'V', '𐌗' : 'X' }\n",
        "\n",
        "def traducir(texto):\n",
        "  resultado = \"\"\n",
        "  for letra in texto:\n",
        "    if letra in arcaico:\n",
        "      resultado += arcaico[letra]\n",
        "    else:\n",
        "      resultado += letra\n",
        "  return resultado\n",
        "\n",
        "print(traducir(\"𐌀𐌋𐌅𐌀𐌁𐌄𐌕𐌏\"))\n",
        "print(traducir(\"¡𐌐𐌄𐌓𐌃𐌉!\"))\n",
        "print(traducir(\"¿𐌔𐌉 𐌏 𐌍𐌏? 𐌌𐌌𐌌... 𐌔𐌉.\"))\n",
        "print(traducir(\"𐌀𐌋𐌅𐌀𐌁𐌄𐌕𐌏, ¡𐌐𐌄𐌓𐌃𐌉!, ¿𐌔𐌉 𐌏 𐌍𐌏? 𐌌𐌌𐌌... 𐌔𐌉.\"))"
      ],
      "execution_count": null,
      "outputs": []
    },
    {
      "cell_type": "markdown",
      "metadata": {
        "id": "0_lEQuB-fIH4"
      },
      "source": [
        "###$\\facil$ Análisis estadístico de fallas en lotes de producción II\n",
        "\n",
        "Adaptar la solución al ejercicio integrador de la clase pasada para utilizar librerías en lugar de programar todo de forma manual. Pueden usar la librería **csv** para importar el archivo, y las librerías **numpy** o **scipy** para calcular la media, varianza, moda y mediana.\n",
        "\n",
        "**Tip:** Pueden investigar el uso de estos métodos en la documentación de las librerías:\n",
        "\n",
        "* Media: [numpy.mean](https://numpy.org/doc/stable/reference/generated/numpy.mean.html)\n",
        "* Varianza: [numpy.var](https://numpy.org/doc/stable/reference/generated/numpy.var.html)\n",
        "* Moda: [scipy.stats.mode](https://docs.scipy.org/doc/scipy/reference/generated/scipy.stats.mode.html)\n",
        "* Mediana: [numpy.median](https://numpy.org/doc/stable/reference/generated/numpy.median.html)\n",
        "\n",
        "A continuación pueden ver una copia de la consigna:\n",
        "\n",
        "Una planta de producción de botellas plásticas fabrica 1000 lotes de botellas por día. Debido al proceso de fabricación algunas de las botellas salen falladas. Estos fallos son detectados automáticamente durante el proceso de control de calidad y se cargan en una base de datos que registra la cantidad de productos fallados por cada lote. El departamento de control de calidad sospecha que la cantidad de fallos por lote sigue una distribución de *Poisson*, pero todavía no conocen la media y la varianza.\n",
        "\n",
        "Se pide importar los datos de los últimos 30 días (en total son 30000 datos) y calcular la *media*, la *varianza*, la *moda* y la *mediana* de la distribución de datos medidos. Los datos se encuentran en el archivo *ControlCalidadBotellas.csv* bajo la columna *Fallas*.\n",
        "\n",
        "**Definiciones:**\n",
        "- **Media:** El valor promedio:\n",
        "\n",
        "  $\\mu=\\frac{X_1+X_2+X_3+\\cdots+X_n}{n}$\n",
        "\n",
        "- **Varianza:** El promedio de las distancias al cuadrado entre cada valor y la media:\n",
        "\n",
        "  $\\sigma^2=\\frac{(X_1-\\mu)^2+(X_2-\\mu)^2+\\cdots+(X_n-\\mu)^2}{n}$\n",
        "\n",
        "- **Moda:** El valor que ocurre con mayor frecuencia.\n",
        "\n",
        "- **Mediana:** El valor que cumple la propiedad que la mitad de las veces el valor medido es menor a la mediana y la otra mitad de las veces es mayor.\n",
        "\n",
        "Si las sospechas acerca de la distribución fueran correctas, entonces de acuerdo a las propiedades de la distribución de Poisson la media y la varianza deberían ser iguales. Además la moda sería $\\lceil{\\mu}\\rceil-1$. ¿Esta sospecha les parece acertada?"
      ]
    },
    {
      "cell_type": "code",
      "metadata": {
        "id": "H8YZTOZuS8Vg"
      },
      "source": [
        "! wget \"https://raw.githubusercontent.com/IEEESBITBA/Curso-Python/master/Curso_Introductorio_Datos/ControlCalidadBotellas.csv\""
      ],
      "execution_count": null,
      "outputs": []
    },
    {
      "cell_type": "code",
      "metadata": {
        "id": "Im6dY0MQcV80"
      },
      "source": [
        "# Instalar las librerías en el entorno de Colab\n",
        "! pip install numpy\n",
        "! pip install scipy"
      ],
      "execution_count": null,
      "outputs": []
    },
    {
      "cell_type": "code",
      "metadata": {
        "id": "IJ1WFX5zqvHN"
      },
      "source": [
        "import csv\n",
        "import numpy\n",
        "from scipy import stats\n",
        "\n",
        "# Lectura del archivo\n",
        "csvfile = open(\"ControlCalidadBotellas.csv\")\n",
        "lector = csv.reader(csvfile)\n",
        "\n",
        "# Armo una lista con laa cantidad de fallas por día\n",
        "fallas = []\n",
        "for fila in lector:\n",
        "  if fila[1] != \"Fallas\":\n",
        "    fallas.append( int(fila[1]) )\n",
        "\n",
        "# Cálculo de las diferentes métricas\n",
        "media = numpy.mean(fallas)\n",
        "var = numpy.var(fallas)\n",
        "moda, count = stats.mode(fallas)\n",
        "mediana = numpy.median(fallas)\n",
        "\n",
        "print(\"La media es:\", media)\n",
        "print(\"La varianza es:\", var)\n",
        "print(\"La moda es:\", moda[0])\n",
        "print(\"La mediana es:\", mediana)"
      ],
      "execution_count": null,
      "outputs": []
    },
    {
      "cell_type": "markdown",
      "metadata": {
        "id": "VWdCPrBJxITk"
      },
      "source": [
        "### $\\facil$ Diccionario²\n",
        "Se recibieron distintos postulantes para un empleo de traductor. Crear un **diccionario** en el cual la *clave* de cada elemento sea el nombre de un candidato y el *contenido* sea un **diccionario** de los idiomas que aprendió. Para armar el diccionario de idiomas de cada candidato, los elementos deben tener como *clave* el nombre del idioma y como *contenido* el valor True o False para los siguientes idiomas: Español, Inglés, Chino, Frances, Italiano.\n",
        "\n",
        "Ejemplo de **diccionario** de idiomas:\n",
        "\n",
        "```python\n",
        "{\"Español\":True, \"Inglés\":True, \"Chino\":False, \"Frances\":False, \"Italiano\":True}\n",
        "```\n",
        "\n",
        "Inventar valores para 5 candidatos.\n",
        "\n",
        "El usuario luego debe poder ingresar el nombre de un idioma y el programa deberá mostrar en pantalla el nombre de aquellos candidatos que aprendieron ese idioma."
      ]
    },
    {
      "cell_type": "code",
      "metadata": {
        "id": "XkTbUn75ABOV"
      },
      "source": [
        "postulantes = {\n",
        "    \"Juan\" : {\"Español\":True, \"Ingles\":True, \"Chino\":False, \n",
        "              \"Frances\":False, \"Italiano\":True}, \n",
        "    \"Pablo\" : {\"Español\":False, \"Ingles\":True, \"Chino\":True, \n",
        "               \"Frances\":False, \"Italiano\":True}, \n",
        "    \"Carlos\" : {\"Español\":True, \"Ingles\":False, \"Chino\":False, \n",
        "                \"Frances\":True, \"Italiano\":True},\n",
        "    \"Ana\" : {\"Español\":True, \"Ingles\":True, \"Chino\":True, \n",
        "             \"Frances\":False, \"Italiano\":True},\n",
        "    \"Maria\" : {\"Español\":False, \"Ingles\":True, \"Chino\":False, \n",
        "               \"Frances\":False, \"Italiano\":True}\n",
        "}\n",
        "\n",
        "idioma = input(\"Ingrese un idioma: \")\n",
        "\n",
        "for nombre, dicParticular in postulantes.items():\n",
        "    if idioma in dicParticular and dicParticular[idioma] == True:\n",
        "        print(nombre, 'habla', idioma)"
      ],
      "execution_count": null,
      "outputs": []
    },
    {
      "cell_type": "markdown",
      "metadata": {
        "id": "0CqTiYpZG-AO"
      },
      "source": [
        "### $\\normal$  Une y triunfarás (continuación de Diccionario²)\n",
        "Se recibieron distintos postulantes para un empleo de traductor. Crear un **diccionario** en el cuál la *key* de cada elemento sea el nombre de un candidato y el *contenido* sea un **set** con los idiomas que aprendió.\n",
        "Inventar sets para 5 candidatos.\n",
        "\n",
        "Ejemplo del **set** de idiomas:\n",
        "\n",
        "```python\n",
        "{\"Español\", \"Inglés\", \"Portugués\", \"Italiano\"}\n",
        "```\n",
        "\n",
        "- Mostrar en pantalla los idiomas que todos los candidatos aprendieron.\n",
        "- Mostrar en pantalla todos los candidatos que aprendieron por lo menos Español e Inglés.\n"
      ]
    },
    {
      "cell_type": "code",
      "metadata": {
        "id": "TKyvJXLZBO1O"
      },
      "source": [
        "postulantes = {\n",
        "    \"Juan\" : {\"Español\", \"Ingles\", \"Italiano\"} , \n",
        "    \"Pablo\" : {\"Ingles\", \"Chino\", \"Italiano\"}, \n",
        "    \"Carlos\" : {\"Español\", \"Frances\", \"Italiano\"},\n",
        "    \"Ana\" : {\"Español\", \"Ingles\", \"Chino\", \"Italiano\"},\n",
        "    \"Maria\" : {\"Ingles\", \"Italiano\"}\n",
        "}\n",
        "\n",
        "# Creamos un set con todos los idiomas\n",
        "todos = {\"Español\", \"Ingles\", \"Chino\", \"Frances\", \"Italiano\"}\n",
        "\n",
        "for p in postulantes:\n",
        "  todos &= postulantes[p] # Es lo mismo que: todos = todos & postulantes[p]\n",
        "\n",
        "print(\"Todos los candidatos aprendieron este(os) idioma(s):\")\n",
        "for i in todos:\n",
        "  print(i)\n",
        "\n",
        "# Creamos un set vacio\n",
        "esp_ing = set() \n",
        "for p in postulantes:\n",
        "  if \"Español\" in postulantes[p] and \"Ingles\" in postulantes[p]:  \n",
        "    # Qué postulantes que saben ingles y español\n",
        "    esp_ing.add(p)\n",
        "\n",
        "print(\"Los candidatos que aprendieron al menos Español e Inglés:\")\n",
        "for i in esp_ing:\n",
        "  print(i)"
      ],
      "execution_count": null,
      "outputs": []
    },
    {
      "cell_type": "markdown",
      "metadata": {
        "id": "Z8gmZrau0b4E"
      },
      "source": [
        "### $\\medio$ Análisis de idiomas\n",
        "\n",
        "Importar el archivo **noticia.txt**"
      ]
    },
    {
      "cell_type": "code",
      "metadata": {
        "id": "OVOe9jNU6IQO"
      },
      "source": [
        "! wget \"https://raw.githubusercontent.com/IEEESBITBA/Curso-Python/master/Curso_Introductorio_Datos/noticia.txt\""
      ],
      "execution_count": null,
      "outputs": []
    },
    {
      "cell_type": "markdown",
      "metadata": {
        "id": "QtD86PdpWrpv"
      },
      "source": [
        "Calcular la [frecuencia de aparición de letras](https://es.wikipedia.org/wiki/Frecuencia_de_aparici%C3%B3n_de_letras). Compararla con la frecuencia de letras característica del idioma Español (en el articulo de wikipedia pueden encontrarla). ¿Existe alguna relación?\n",
        "\n",
        "**Tips:**\n",
        "- Pasar todas las letras a mayúsculas o todas a  minúsculas.\n",
        "- Reemplazar las vocales con tilde por la misma vocal sin tilde antes de realizar el conteo.\n",
        "- Descartar los números y caracteres no deseados. El método `.isalpha()` les puede ser de utilidad para este propósito."
      ]
    },
    {
      "cell_type": "code",
      "metadata": {
        "id": "OfggPtvUVmNT"
      },
      "source": [
        "def segundo_valor(x):\n",
        "  return x[1]\n",
        "\n",
        "file = open(\"noticia.txt\") # cargamos el archivo a la memoria\n",
        "contenido = file.readlines() # calculamos todas las lineas\n",
        "\n",
        "tildes = {'á':'a', 'é':'e', 'í':'i', 'ó':'o', 'ú':'u'}\n",
        "\n",
        "total = 0\n",
        "ocurrencias = {}\n",
        "for renglon in contenido:\n",
        "  renglon_lower = renglon.lower() # pasamos a minúscula el archivo.\n",
        "  for letra in renglon_lower:\n",
        "    # Si la letra tiene tilde, la remplazo por su versión sin tilde.\n",
        "    if letra in tildes:     \n",
        "      letra = tildes[letra]\n",
        "    \n",
        "    if letra.isalpha():     \n",
        "      # Si la letra es alfanumerica, la agrego a la lista de ocurrencias.\n",
        "      # Info get(): https://www.w3schools.com/python/ref_dictionary_get.asp\n",
        "      ocurrencias[letra] = ocurrencias.get(letra, 0) + 1  \n",
        "      total += 1\n",
        "\n",
        "items = ocurrencias.items()\n",
        "\n",
        "# Info Sorted: https://www.programiz.com/python-programming/methods/built-in/sorted\n",
        "# Ordenamos las ocurrencias de mayor a menor.\n",
        "lista = sorted(items, key = segundo_valor, reverse = True) \n",
        "\n",
        "for k,v in lista:\n",
        "  print(\"{} aparece {} veces: {:0.3f} %\".format(k, v, v/total * 100))"
      ],
      "execution_count": null,
      "outputs": []
    },
    {
      "cell_type": "markdown",
      "metadata": {
        "id": "WQK4B7zHjucS"
      },
      "source": [
        "### $\\dificil$ Menta y Dulce de leche\n",
        "\n",
        "**Introducción:**\n",
        "\n",
        "*Una de las muchas ventajas de los sets y los diccionarios es que permiten averiguar si contienen cierto elemento con gran velocidad, sin importar la cantidad de elementos que almacenan (esto se debe a que internamente utilizan una [función hash](https://es.wikipedia.org/wiki/Funci%C3%B3n_hash)). Acceder al valor asociado a cierta clave en un diccionario también es una operación muy veloz.*\n",
        "\n",
        "*En comparación, verificar si un elemento se encuentra dentro de una lista es lento, ya que el tiempo necesario es proporcional a la cantidad de elementos en la lista y para listas muy grandes con miles, millones o billones de elementos (como puede suceder en una base de datos) esto puede ser un problema importante. Sin embargo, una vez que se conoce el índice del elemento, acceder al elemento es una operación tan rápida como en un diccionario.*\n",
        "\n",
        "**Problema:**\n",
        "\n",
        "Volviendo de hacer las compras en el supermercado, pasás cerca de una heladería y decidís comprar helado para tus hermanos, los cuales son amantes de la menta granizada y del dulce de leche con nuez. El negocio ofrece helado en todo tipo de formato, desde mini-cucuruchos hasta potes de 1 kilo, y cada formato cuesta cierta cantidad de dinero. Decidís gastar exactamente todo el dinero que te queda luego de haber ido al supermercado, de forma tal que no sobre ni falte.\n",
        "\n",
        "Programar una función que recibe una lista con los precios de los distintos formatos en que se vende el helado, y además reciba la cantidad de dinero disponible para gastar. La función debe encontrar la manera de comprar cierto formato de helado sabor menta, y cierto formato sabor dulce de leche, de manera de gastar la totalidad del dinero disponible. En consecuencia, la cantidad de formatos seleccionados debe ser exactamente 2. Está permitido seleccionar el mismo formato para ambos sabores de helado. La función debe devolver con *return* una lista de 2 elementos, los cuales serán los precios de los formatos de helado seleccionados. En caso de no existir una combinación que satisface los requisitos se debe devolver ``[-1, -1]``.\n",
        "\n",
        "**Tips:**\n",
        " - Al usar un set o un diccionario como estructura de datos pueden mejorar la velocidad con la que el programa analiza si cierto elemento se encuentra dentro de los datos. La operación ``mi_set = set( mi_lista )`` puede serles de utilidad para este propósito.\n",
        "\n",
        "**Ejemplos:**\n",
        "\n",
        "`buscar_precios( [1, 2, 3, 4, 5] , 8)` → `[3, 5]`\n",
        "\n",
        "`buscar_precios( [7, 4, 2, 6, 7, 7] , 4)` → `[2, 2]`\n",
        "\n",
        "`buscar_precios( [4, 3, 7, 5] , 5)` → `[-1, -1]`\n",
        "\n",
        "\\\n",
        "\n",
        "$\\dificil$ *Challenge*: Modificar la función para que el resultado sea un sólo número: La cantidad de maneras diferentes de conseguir el objetivo (si dos formatos tienen el mismo precio, igualmente califican como formatos diferentes)."
      ]
    },
    {
      "cell_type": "markdown",
      "metadata": {
        "id": "DD6GAhfxIJKx"
      },
      "source": [
        "#### Solución"
      ]
    },
    {
      "cell_type": "code",
      "metadata": {
        "id": "OtPrN6jRIJ4t"
      },
      "source": [
        "def buscar_precios(lista_precios, dinero):\n",
        "  # Convertir la lista en un set\n",
        "  set_precios = set(lista_precios)\n",
        "\n",
        "  # Iterar por todos los precios en el set\n",
        "  # Analizar si el dinero restante se encuentra en el set\n",
        "  for p in set_precios:\n",
        "    restante = dinero - p\n",
        "    if restante in set_precios:\n",
        "      return [p, restante]\n",
        "\n",
        "  # En caso de no lograr una combinación, devolver [-1, -1]\n",
        "  return [-1, -1]\n",
        "\n",
        "print(buscar_precios( [1, 2, 3, 4, 5] , 8))\n",
        "print(buscar_precios( [7, 4, 2, 6, 7, 7] , 4))\n",
        "print(buscar_precios( [4, 3, 7, 5] , 5))"
      ],
      "execution_count": null,
      "outputs": []
    },
    {
      "cell_type": "markdown",
      "metadata": {
        "id": "T-2T4936QvlX"
      },
      "source": [
        "#### Solución: Challenge"
      ]
    },
    {
      "cell_type": "code",
      "metadata": {
        "id": "9qwHYmviQxL5"
      },
      "source": [
        "def buscar_precios(lista_precios, dinero):\n",
        "  resultado = 0\n",
        "\n",
        "  # Convertir la lista en un diccionario\n",
        "  # Las claves serán los precios, los valores serán la cantidad de ocurrencias\n",
        "  dict_precios = dict()\n",
        "  \n",
        "  # Iterar por todos los precios en la lista\n",
        "  for p in lista_precios:\n",
        "    # Agregar los elementos previos al diccionario\n",
        "    dict_precios[p] = dict_precios.get(p, 0) + 1\n",
        "\n",
        "    # Analizar si el dinero restante se encuentra en el dict y cuantas veces\n",
        "    # Para evitar contar dos veces, chequeamos con los elementos anteriores\n",
        "    restante = dinero - p\n",
        "    if restante in dict_precios:\n",
        "      resultado += dict_precios[restante]\n",
        "\n",
        "  return resultado\n",
        "\n",
        "print(buscar_precios( [1, 2, 3, 4, 5, 4] , 8))\n",
        "print(buscar_precios( [7, 4, 2, 6, 7, 7] , 9))\n",
        "print(buscar_precios( [4, 3, 7, 5] , 5))"
      ],
      "execution_count": null,
      "outputs": []
    },
    {
      "cell_type": "markdown",
      "metadata": {
        "id": "58bbfFzqurNj"
      },
      "source": [
        "### $\\dificil$ Dr. Chaos, el malevolo semiótico\n",
        "\n",
        "\"Chaos es caos en inglés\" te diría Dr. Chaos, charlando con una taza de té Chai en la mano. En verdad no es tán malo como su nombre lo hace aparentar... si es que tenés un buen manejo de los idiomas.\n",
        "\n",
        "Dr. Chaos esta armando un diccionario. Este diccionario tiene la particularidad de no tener definiciones; el diccionario de Dr. Chaos define *una palabra como otra*. Dr. Chaos quiere comenzar a traducir la literatura de todo el mundo usando el diccionario y ha venido a ti, el *Number One* programador de Python. \n",
        "\n",
        "**Objetivo:** Cambiar las palabras de una oración usando el diccionario de Dr. Chaos e imprimir la nueva oración en el lenguaje unificado.\n",
        "\n",
        "**Ejemplos:**\n",
        "\n",
        " - Input 1:\n",
        " ```python \n",
        "diccionario = {\"hola\":\"你好\",\"como\":\"how\",\"estás\":\"estáis\"}\n",
        "oracion = \"hola, como estás?\"\n",
        "```\n",
        "  Output 1:\n",
        "```python \n",
        "\"你好, how estáis?\"\n",
        "```\n",
        "\n",
        " - Input 2:\n",
        " ```python \n",
        "diccionario = {\"ve\":\"regards\",\"bien\":\"bom\",\"se\":\"it\"}\n",
        "oracion = \"se ve bien!\"\n",
        "```\n",
        "\n",
        " Output 2:\n",
        "```python \n",
        "\"it regards bom!\"\n",
        "```\n",
        "\n",
        "\n",
        "**Tips:** \n",
        "\n",
        "* Los símbolos de interrogación, exclamación, los puntos y comas no forman parte de las palabras y no se deben modificar.\n",
        " \n",
        "* Suponer que las letras son todas minúsculas.\n"
      ]
    },
    {
      "cell_type": "markdown",
      "metadata": {
        "id": "4zEDfhn7QfrW"
      },
      "source": [
        "#### Solución"
      ]
    },
    {
      "cell_type": "code",
      "metadata": {
        "id": "kDvIsxZCxawO"
      },
      "source": [
        "# Solución 1\n",
        "\n",
        "espanolToChaos = {\"ve\":\"regards\", \"bien\":\"bom\", \"se\":\"it\"}\n",
        "oracion = \"se ve bien!\"\n",
        "whitespace = [\" \", \".\", \",\", \"!\", \"?\"]\n",
        "\n",
        "resultado = \"\"\n",
        "palabra = \"\"\n",
        "for i in range(0, len(oracion)):\n",
        "    letra = oracion[i]\n",
        "    if letra in whitespace: # reviso si la letra es una espacio en blanco\n",
        "        if palabra != \"\":\n",
        "            # traducir la palabra que tengo hasta ahora y agregarla\n",
        "            resultado = resultado+espanolToChaos[palabra] \n",
        "    \n",
        "        resultado = resultado+letra # agrego el espacio a la palabra nueva\n",
        "        palabra = \"\"\n",
        "    else:\n",
        "        palabra = palabra + letra\n",
        "        \n",
        "print(resultado)"
      ],
      "execution_count": null,
      "outputs": []
    },
    {
      "cell_type": "code",
      "metadata": {
        "id": "8va1BwGcGuhe"
      },
      "source": [
        "# Solución 2\n",
        "\n",
        "espanolToChaos = {\"ve\":\"regards\", \"bien\":\"bom\", \"se\":\"it\"}\n",
        "oracion = \"se ve bien!\"\n",
        "whitespace = [\" \", \".\", \",\", \"!\", \"?\"]\n",
        "\n",
        "resultado = \"\"\n",
        "palabra = \"\"\n",
        "for letra in oracion:\n",
        "  # Si alcance un signo de puntuación, traduzco la palabra actual\n",
        "  if letra in whitespace:\n",
        "    resultado += espanolToChaos[palabra] \n",
        "    resultado += letra  # Agrego el signo de puntuación\n",
        "    palabra = \"\"        # reseteo la palabra actual\n",
        "  # Si la letra no es un signo de puntuación, la guardo en palabra\n",
        "  else:\n",
        "    palabra += letra \n",
        "\n",
        "print(resultado)"
      ],
      "execution_count": null,
      "outputs": []
    },
    {
      "cell_type": "markdown",
      "metadata": {
        "id": "2a0QjbS3QrlX"
      },
      "source": [
        "###$\\imposible$ Quiero Retruco\n",
        "El [Truco](https://es.wikipedia.org/wiki/Truco_argentino) es un juego de cartas muy popular en Argentina. Se suele jugar con naipes españoles de 40 cartas, las cuales tienen 4 palos (basto, oro, espada y copa) y 10 números (1, 2, 3, 4, 5, 6, 7, 10, 11 y 12).\n",
        "Si bien en esta ocasión no vamos a programar un juego de truco, sí vamos a resolver uno de los problemas más usuales que surgen cuando jugamos, el cual es definir qué carta gana y qué carta pierde cuando hay un duelo entre dos cartas. \n",
        "\n",
        "<img src=\"https://raw.githubusercontent.com/IEEESBITBA/Curso-Python/master/_assets/truco_jerarquia.png\" height=300 alt =\"Esquema de hierarquia de cartas para el juego truco argentino\" title=\"Un palo le gana a 7 espadas y ambos pierden ante una espada envainada? What?\">\n",
        "\n",
        "En la imagen podemos observar el orden de importancia de las cartas de izquierda a derecha. El 1 de espada es la más importante (y por lo tanto **siempre** gana) mientras que los 4s son las cartas de menor importancia (casi siempre pierden). Las cartas en la misma columna empatan si se enfrentan.\n",
        "\n",
        "- Programar una función con dos inputs tipo string **carta A** y **carta B** que retorne la carta ganadora (tipo string), o \"empate\" en caso de que lo haya. \n",
        "\n",
        "**Ejemplos de como debería funcionar:**\n",
        "\n",
        " ```\n",
        "   dueloDeCartas(\"1 de espada\", \"1 de basto\")\n",
        "   >>> 1 de espada\n",
        "   dueloDeCartas(\"7 de oro\", \"5 de oro\")\n",
        "   >>> 7 de oro\n",
        "   dueloDeCartas(\"11 de copa\", \"11 de espada\")\n",
        "   >>> empate\n",
        "```\n",
        "\n",
        " **Pista:** <font color=\"white\"> usar un diccionario donde la **clave** sea el nombre de la carta, y su **contenido** su importancia (un tipo **int**). Aprovechen la instrucción *for* para evitar tener que cargar todas las cartas una por una.\n",
        "</font>\n",
        "\n",
        "**Plus:**\n",
        "\n",
        "- A veces se suele jugar al truco con más de dos jugadores. Podría ocurrir duelos en los que participan $n$ cartas. Programar una función cuyo input sea una lista de strings con todas las cartas y retorne la ganadora. (En caso de empate que retorne alguna de las ganadoras, o una lista con las ganadoras).\n",
        "\n",
        "**Ejemplos de cómo podría funcionar:**\n",
        "```\n",
        "   dueloDeCartas([\"7 de basto\",\"7 de espada\",\"12 de espada\", \"4 de espada\"])\n",
        "   >>> \"7 de espada\"\n",
        "   dueloDeCartas([\"4 de espada\",\"7 de basto\",\"7 de copa\", \"5 de copa\"]) #también podría haber dado 7 de basto \n",
        "   >>> \"7 de copa\"\n",
        "```\n",
        "<font size = 0.5> El texto de la pista es de de color blanco, seleccionalo para verlo. </font>\n",
        "\n"
      ]
    },
    {
      "cell_type": "markdown",
      "metadata": {
        "id": "FdsIdtdhQgpn"
      },
      "source": [
        "#### Solución"
      ]
    },
    {
      "cell_type": "code",
      "metadata": {
        "id": "L3jCZ-sc6Nd-"
      },
      "source": [
        "# Solución 1: diccionario\n",
        "\n",
        "\"\"\" \n",
        "Antes de hacer la funcion dueloDeCartas, creamos el diccionario que leerá \n",
        "para saber que carta gana \n",
        "\"\"\"\n",
        "\n",
        "valorCarta = dict() \n",
        "\n",
        "# casos especiales: esto no lo puedo hacer con un for\n",
        "valorCarta[\"1 de espada\"] = 14    \n",
        "valorCarta[\"1 de basto\"] = 13     \n",
        "valorCarta[\"7 de espada\"] = 12\n",
        "valorCarta[\"7 de oro\"] = 11\n",
        "\n",
        "# el resto de los valores son de 10 para abajo\n",
        "valor = 10\n",
        "for x in [3, 2, 1, 12, 11, 10, 7, 6, 5, 4]: \n",
        "    # itero por los numeros de las cartas, de la mas a la menos poderosa\n",
        "    if x == 1: # con este if elijo que palos de este numero guardo\n",
        "        palos = [\"oro\",\"copa\"] \n",
        "    elif x == 7:\n",
        "        palos = [\"basto\", \"copa\"]\n",
        "    else: \n",
        "        palos = [\"oro\", \"copa\", \"basto\", \"espada\"]\n",
        "\n",
        "    # para todos los palos que elegí, guardo la carta con el mismo valor\n",
        "    for palo in palos:\n",
        "        valorCarta[str(x) + \" de \" + palo] = valor\n",
        "        \n",
        "    valor -= 1 # la carta que viene es menos poderosa\n",
        "\n",
        "def dueloDeCartas(cartaA, cartaB):\n",
        "    # usamos el diccionario que creamos para saber el valor de las cartas\n",
        "    # que nos pasan\n",
        "    if valorCarta[cartaA] > valorCarta[cartaB]:\n",
        "        return cartaA\n",
        "    elif valorCarta[cartaA] < valorCarta[cartaB]:\n",
        "        return cartaB\n",
        "    else:\n",
        "        return \"empate\"\n",
        "    \n",
        "    \n",
        "# verificamos que la funcion ande correctamente\n",
        "print(dueloDeCartas(\"7 de basto\",\"1 de basto\"))\n",
        "print(dueloDeCartas(\"1 de copa\", \"1 de oro\"))\n",
        "print(dueloDeCartas(\"7 de copa\",\"3 de copa\"))"
      ],
      "execution_count": null,
      "outputs": []
    },
    {
      "cell_type": "code",
      "metadata": {
        "id": "SvEw17LdV6hb"
      },
      "source": [
        "#Solución 2: lista\n",
        "\n",
        "cartas = [[\"1 de espada\"],\n",
        "          [\"1 de basto\"],\n",
        "          [\"7 de espada\"],\n",
        "          [\"7 de oro\"],\n",
        "          [\"3 de espada\", \"3 de basto\", \"3 de oro\", \"3 de copa\"],\n",
        "          [\"2 de espada\", \"2 de basto\", \"2 de oro\", \"2 de copa\"],\n",
        "          [\"1 de oro\", \"1 de copa\"],\n",
        "          [\"12 de espada\", \"12 de basto\", \"12 de oro\", \"12 de copa\"],\n",
        "          [\"11 de espada\", \"11 de basto\", \"11 de oro\", \"11 de copa\"],\n",
        "          [\"10 de espada\", \"10 de basto\", \"10 de oro\", \"10 de copa\"],\n",
        "          [\"7 de oro\", \"7 de copa\"],          \n",
        "          [\"6 de espada\", \"6 de basto\", \"6 de oro\", \"6 de copa\"],\n",
        "          [\"5 de espada\", \"5 de basto\", \"5 de oro\", \"5 de copa\"],\n",
        "          [\"4 de espada\", \"4 de basto\", \"4 de oro\", \"4 de copa\"]]\n",
        "\n",
        "def dueloDeCartas(cartaA, cartaB):\n",
        "  resultado = \"\"\n",
        "  for c in cartas:\n",
        "    if cartaA in c and cartaB in c:\n",
        "      resultado = \"empate\"\n",
        "      break\n",
        "    if cartaA in c:\n",
        "      resultado = cartaA\n",
        "      break\n",
        "    if cartaB in c:\n",
        "      resultado = cartaB\n",
        "      break\n",
        "  return resultado\n",
        "\n",
        "print(dueloDeCartas(\"7 de basto\", \"1 de basto\"))\n",
        "print(dueloDeCartas(\"2 de copa\", \"3 de oro\"))\n",
        "print(dueloDeCartas(\"7 de copa\", \"3 de copa\"))\n",
        "print(dueloDeCartas(\"11 de copa\", \"11 de espada\"))"
      ],
      "execution_count": null,
      "outputs": []
    },
    {
      "cell_type": "markdown",
      "metadata": {
        "id": "Rk5xjYj9k4Ad"
      },
      "source": [
        "## **Opcional**: Mini-desafío json\n",
        "Estás encargado de un servidor con millones de usuarios. \n",
        "\n",
        "Se pide escribir un programa que reciba el email y contraseña del usuario y se fije si existe el usuario y si coincide la contraseña.\n",
        "\n",
        "Se tienen datos encolumnados en formato json que nos llegan en el siguiente formato:\n",
        "```json\n",
        "{\n",
        "\t\"usuarios\" : [\"mica@mail.co\", \"jerry@gma.com\",\"alber@soup.co\"],\n",
        "\t\"contra\" : [\"abc123\", \"caballitos\", \"yoloswag\"]\n",
        "}\n",
        "```\n",
        "La entrada del programa son tres líneas, el programa entonces va tener tres `input()`. La primer línea contiene el `json`, la segunda el `email` a verificar, y la tercera la `contraseña`. Por ende, las primeras líneas de su programa podrían ser:\n",
        "```python\n",
        "import json\n",
        "usuarios = json.loads(input())\n",
        "email = input()\n",
        "password = input()\n",
        "```\n",
        "\n",
        "La salida del programa será `OK` si el usuario **se encuentra en la base de datos** ***y*** **si coincide la contraseña**, imprimimos `DNE` (does not exist) si el usuario no existe y `NO` en cualquier otro caso.\n",
        "\n",
        "#### Caso de ejemplo:\n",
        "**Entrada**:\n",
        "```json\n",
        "{\"usuarios\": [\"mica@mail.co\",\"jerry@gma.com\",\"alber@soup.co\"],\"contra\": [\"abc123\",\"caballitos\",\"yoloswag\"]}\n",
        "mica@mail.co\n",
        "caballitos\n",
        "```\n",
        "El usuario existe y la contraseña también... pero no le corresponde la contraseña `caballitos` al usuario `mica@mail.co` (la contraseña de `mica@mail.co` sería `abc123`), por ende imprimimos:\n",
        "\n",
        "**Salida:**\n",
        "```\n",
        "NO\n",
        "```\n",
        "\n",
        "_Considere que no hay usuarios repetidos_."
      ]
    },
    {
      "cell_type": "markdown",
      "metadata": {
        "id": "0fD2QKoklGjz"
      },
      "source": [
        "####Solución"
      ]
    },
    {
      "cell_type": "code",
      "metadata": {
        "id": "1EZhTLiCk0BI"
      },
      "source": [
        "import json\n",
        "\n",
        "\n",
        "usuarios = json.loads(input())\n",
        "email = input(\"Mail: \")\n",
        "password = input(\"Contraseña: \")\n",
        "\n",
        "if email in usuarios[\"usuarios\"]:\n",
        "  index = usuarios[\"usuarios\"].index(email)\n",
        "  if password == usuarios[\"contra\"][index]:\n",
        "    print(\"OK\")\n",
        "  else:\n",
        "    print(\"NO\")\n",
        "else:\n",
        "  print(\"DNE\")"
      ],
      "execution_count": null,
      "outputs": []
    }
  ]
}