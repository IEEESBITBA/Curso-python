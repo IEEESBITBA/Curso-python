{
  "nbformat": 4,
  "nbformat_minor": 0,
  "metadata": {
    "colab": {
      "name": "Clase 1 - Introducción a la Programación con Python.ipynb",
      "provenance": [],
      "collapsed_sections": []
    },
    "kernelspec": {
      "name": "python3",
      "display_name": "Python 3"
    }
  },
  "cells": [
    {
      "cell_type": "markdown",
      "metadata": {
        "id": "qliXmtgXzm5h"
      },
      "source": [
        "# ¡Bienvenidos al Curso!\n",
        "¡Hola! Somos estudiantes voluntarios en la rama estudiantil IEEE del Instituto Tecnológico de Buenos Aires y organizamos este curso de Python gratuito y abierto al público general.\n",
        "\n",
        "\\\n",
        "<img height=\"150\" src=\"https://raw.githubusercontent.com/IEEESBITBA/Curso-python/master/_assets/logo-oficial.png\">\n",
        "\n",
        "\\\n",
        "\\\n",
        "Este curso forma parte de una serie de cursos que ofrecemos, la cual tiene como objetivo principal aprender lo suficiente para automatizar tareas comunes, manipular archivos y hojas de datos de manera eficiente, y representar información gráficamente de manera sencilla. Todas estas tareas pueden ser realizadas usando programación sin necesitar convertirse en un experto del tema.\n",
        "\n",
        "El contenido de este curso introductorio está orientado hacia aquellos que no tienen experiencia programando en Python. Se verán conceptos y temas fundamentales acerca de la programación y del lenguaje Python, poniendo en práctica lo aprendido mediante desafíos interactivos y ejercicios prácticos.\n",
        "\n",
        "\\\n",
        "El curso consiste en 3 clases, los temas y conceptos a cubrir son los siguientes:\n",
        "\n",
        "\n",
        "**Clase 1 :**\n",
        "*     Introducción a la programación en Python.\n",
        "*     Variables.\n",
        "*     Operadores.\n",
        "*     Control de flujo (if, while, for).\n",
        "*     Funciones.\n",
        "\n",
        "**Clase 2 :**\n",
        "*     Tipos de datos (int, float, string, boolean).\n",
        "*     Operaciones con tipos de datos.\n",
        "*     Listas.\n",
        "*     Operaciones con listas.\n",
        "*     Manipulación de archivos de texto.\n",
        "\n",
        "**Clase 3 :**\n",
        "*     Estructuras de datos (Dictionary, Set, Tuple).\n",
        "*     Operaciones con estructuras de datos.\n",
        "*     Introducción a librerías y ejemplos.\n",
        "*     Casos de aplicación.\n",
        "\n",
        "\\\n",
        "\n",
        "En nuestro esmero por proveer un curso adaptable y flexible a la disponibilidad de la mayor cantidad de personas, se optó por una modalidad \"semi-sincrónica\", en la cual los participantes lleven adelante un ritmo similar, pero que dentro de cada semana puedan dedicar su tiempo de la forma que prefieran.\n",
        "\n",
        "Las clases serán subidas a [nuestra página](https://ieeeitba.org.ar/cursospython) semanalmente y estarán compuestas de videos y textos complementarios como también desafíos prácticos para pensar y resolver. Entre clase y clase tendrán una semana para leer, ver los videos, practicar, y conversar con sus compañeros. El fin de semana entre clase y clase habrá un Livestream donde podrán sacarse las dudas que tengan.\n",
        "\n",
        "¡No dejen pasar la oportunidad de resolver los desafíos! Son una gran oportunidad para comprender realmente lo que acaban de ver y practicar, algunos son fáciles y otros difíciles así que no se desanimen si tarda en llegar la idea para resolverlos, ya que ese es el punto, desafiarse!\n",
        "\n",
        "La ejercitación integradora incluye muchos más problemas al final de la clase, en este caso no es crucial terminarlos todos, pero sí les recomendamos hacer los que puedan y de acuerdo al tiempo del que dispongan ya que creemos que la puesta en práctica de los conocimientos es la mejor manera de aprender a programar.\n",
        "\n",
        "\\\n",
        "**Certificado:** Para obtener un certificado de finalización del curso se deben completar exitosamente los desafíos de entrega obligatoria. Estos desafíos son de corrección automática y sin límites de intentos. Hay 1 desafío a entregar por clase, un total de 3. La corrección se realizará mediante [esta página](https://www.hackerrank.com/2022-2c-curso-introductorio-de-python) utilizando la plataforma HackerRank. Tienen hasta la fecha final del curso para realizar los 3 ejercicios, no se desesperen si alguno les lleva más de una semana.\n",
        "\n",
        "\\\n",
        "**Comunicación:** Vamos a estar en contacto a través de nuestro [canal de Discord](https://discord.gg/FDjTCcWpMq), allí pueden conversar con otros participantes del curso, y hacer todas las consultas que deseen, por más elementales que puedan ser. Están invitados a participar y ayudar a sus compañeros, además los distintos ayudantes del curso intentaremos ayudarlos con sus consultas, y las que no hayan podido ser respondidas durante la semana se podrán consultar en los Livestreams.\n",
        "\n",
        "\\\n",
        "\n",
        "**Livestream:** Las transmisiones en vivo serán los días sábados de 18 a 19 hs (UTC−03:00), allí se responderan las dudas y problemáticas más usuales o concurridas, estos quedarán grabados en caso de que no hayan podido verlo en vivo o quieran volver a verlo. El Livestream aparecerá disponible los días y horarios correspondientes en [nuestro canal de Youtube](https://www.youtube.com/channel/UCpWHvOSiPtDIwIw8Tb_9g6A).\n",
        "\n",
        "\\\n",
        "\n",
        "**Nota 1:** Para poder guardar los ejercicios que resuelvan les recomendamos guardar una copia del documento en su Google Drive. La próxima vez que quieran entrar a la clase y mantener su progreso pueden acceder desde su carpeta de Drive, en lugar de usar el link original.\n",
        "\n",
        "\n",
        "<img height=\"300\" src=\"https://raw.githubusercontent.com/IEEESBITBA/Curso-python/master/_assets/guardar_copia_en_drive.png\">\n",
        "\n",
        "\\\n",
        "\n",
        "**Nota 2:** Si alguno de los videos no les aparece por defecto, deberán ejecutar las celdas de código en la que se encuentra ese video y luego reproducirlo. Para ejecutar una celda, tienen que clickear sobre el botón superior izquierdo del bloque en que se encuentra el código.\n",
        "Cada video tratará los temas explicados en la clase. Asimismo estos se complementan con la información escrita del curso.\n",
        "\n",
        "\\\n",
        "¡Esperamos que les sirva!\n",
        "\n",
        "\\\n",
        "El material es de libre distribución bajo la licencia [Creative Commons](https://creativecommons.org) CC-BY-NC-SA.\n"
      ]
    },
    {
      "cell_type": "markdown",
      "metadata": {
        "id": "w5OjZK9gMWtl"
      },
      "source": [
        "A continuación les dejamos un video acerca de cómo será la dinámica del curso y sus clases."
      ]
    },
    {
      "cell_type": "code",
      "metadata": {
        "colab": {
          "base_uri": "https://localhost:8080/",
          "height": 471
        },
        "id": "GH5Q4ZU_3YTv",
        "outputId": "e15af004-8b16-463c-861c-c15bc200654b"
      },
      "source": [
        "# Link a Youtube: https://www.youtube.com/watch?v=7pjIgZkM_Hc\n",
        "# Tema: Dinámicas del curso\n",
        "\n",
        "from IPython.display import YouTubeVideo\n",
        "YouTubeVideo('7pjIgZkM_Hc', width=800, height=450)"
      ],
      "execution_count": null,
      "outputs": [
        {
          "output_type": "execute_result",
          "data": {
            "text/plain": [
              "<IPython.lib.display.YouTubeVideo at 0x7f981c160d90>"
            ],
            "text/html": [
              "\n",
              "        <iframe\n",
              "            width=\"800\"\n",
              "            height=\"450\"\n",
              "            src=\"https://www.youtube.com/embed/7pjIgZkM_Hc\"\n",
              "            frameborder=\"0\"\n",
              "            allowfullscreen\n",
              "        ></iframe>\n",
              "        "
            ],
            "image/jpeg": "[encoded data removed]"
          },
          "metadata": {},
          "execution_count": 1
        }
      ]
    },
    {
      "cell_type": "markdown",
      "metadata": {
        "id": "-MOuLSRt4lqA"
      },
      "source": [
        "# Uso de Google Colab\n",
        "\n",
        "Uno puede elegir qué plataforma usar a la hora de programar sus proyectos dependiendo de su experiencia, gustos y costumbres. Desde IEEE-ITBA les recomendamos iniciarse utilizando Google Colab, una plataforma gratuita y simple de utilizar que nos brinda Google. \n",
        "\n",
        "Posteriormente cuando ya tengan más experiencia, y si así lo desean, pueden descargarse y utilizar otros programas como PyCharm, Visual Studio Code o Sublime. Si bien son un poquito más completos, se requiere descargarlos e instalar el compilador de Python. Brindan muchas más herramientas y posibilidades que esta plataforma.\n"
      ]
    },
    {
      "cell_type": "code",
      "metadata": {
        "colab": {
          "base_uri": "https://localhost:8080/",
          "height": 471
        },
        "id": "Ahsf4Vvz4rmu",
        "outputId": "f63d347a-37a8-4588-c7e2-4438fef3da09"
      },
      "source": [
        "# Link a Youtube: https://www.youtube.com/watch?v=GO5JY2OWnuI\n",
        "# Temas: Uso de la plataforma Google Colab\n",
        "\n",
        "from IPython.display import YouTubeVideo\n",
        "YouTubeVideo('GO5JY2OWnuI', width=800, height=450)"
      ],
      "execution_count": null,
      "outputs": [
        {
          "output_type": "execute_result",
          "data": {
            "text/plain": [
              "<IPython.lib.display.YouTubeVideo at 0x7f980497a410>"
            ],
            "text/html": [
              "\n",
              "        <iframe\n",
              "            width=\"800\"\n",
              "            height=\"450\"\n",
              "            src=\"https://www.youtube.com/embed/GO5JY2OWnuI\"\n",
              "            frameborder=\"0\"\n",
              "            allowfullscreen\n",
              "        ></iframe>\n",
              "        "
            ],
            "image/jpeg": "[encoded data removed]"
          },
          "metadata": {},
          "execution_count": 2
        }
      ]
    },
    {
      "cell_type": "markdown",
      "metadata": {
        "id": "O63cYKbC1ABf"
      },
      "source": [
        "# Clase 1"
      ]
    },
    {
      "cell_type": "code",
      "metadata": {
        "colab": {
          "base_uri": "https://localhost:8080/",
          "height": 471
        },
        "id": "u4fa1CA6DL42",
        "outputId": "f09873d5-7457-4da3-e13d-4cafc9f087ed"
      },
      "source": [
        "# Link a Youtube: https://www.youtube.com/watch?v=BK08jdq1l6M&list=PL0YqVCFDPJTnJYWRxmGJsj_xJA-FfdySC\n",
        "# Temas: Introducción a la Programación\n",
        "\n",
        "from IPython.display import YouTubeVideo\n",
        "YouTubeVideo('BK08jdq1l6M', width=800, height=450)"
      ],
      "execution_count": null,
      "outputs": [
        {
          "output_type": "execute_result",
          "data": {
            "text/plain": [
              "<IPython.lib.display.YouTubeVideo at 0x7f98049b25d0>"
            ],
            "text/html": [
              "\n",
              "        <iframe\n",
              "            width=\"800\"\n",
              "            height=\"450\"\n",
              "            src=\"https://www.youtube.com/embed/BK08jdq1l6M\"\n",
              "            frameborder=\"0\"\n",
              "            allowfullscreen\n",
              "        ></iframe>\n",
              "        "
            ],
            "image/jpeg": "[encoded data removed]"
          },
          "metadata": {},
          "execution_count": 3
        }
      ]
    },
    {
      "cell_type": "markdown",
      "metadata": {
        "id": "FKxyOvV40jf8"
      },
      "source": [
        "## Introducción a la programación\n",
        "\n",
        "La programación es el proceso que se utiliza para diseñar e implementar un programa de computadora, valiéndose de algún lenguaje que permita comunicar una serie de acciones que se requiere que la computadora realice. Podemos pensar que es una caja negra que recibe alguna información, la cual es llamada *input* (entrada), realiza alguna acción, y devuelve información, la cual es llamada *output* (salida).\n",
        "\n",
        "![Black Box](https://raw.githubusercontent.com/IEEESBITBA/Curso-Python/master/_assets/BlackBox.png)\n",
        "\n",
        "## Lenguajes de programación\n",
        "Un lenguaje de programación es un [lenguaje formal](https://es.wikipedia.org/wiki/Lenguaje_formal) que proporciona una serie de instrucciones, las cuales permiten a un programador escribir secuencias de órdenes para controlar el comportamiento físico y lógico de una computadora, con el objetivo de que produzca diversas acciones deseadas por el programador (¡y los usuarios!).\n",
        "\n",
        "Algunos de los lenguajes mas populares en los últimos tiempos (lejos de ser los únicos) son Python, Java, C++, JavaScript, PHP, etc.\n",
        "\n",
        "<img src=\"https://i.imgur.com/12T9u0f.jpg\" height=\"300\" alt = \"Collage de lenguajes de programación populares\" title=\"Hay varios otros lenguajes, como Go, Go!, Gosu etc. \">\n",
        "\n"
      ]
    },
    {
      "cell_type": "markdown",
      "metadata": {
        "id": "ZqGv35XH1Y1G"
      },
      "source": [
        "### ¿Por qué Python?\n",
        "Elegimos Python porque es uno de los lenguajes de programación con reglas más simples e intuitivas que existen; esto explica la creciente popularidad que ha tenido en los ultimos tiempos.\n",
        "\n",
        "A pesar de su simpleza, es muy utilizado tanto en la industria para servidores y servicios web, así como también en el área académica para redes neuronales, deep learning, simulación, etc.\n",
        "\n",
        "La comunidad de Python es una de las más grandes. Por lo tanto cualquier duda que tengan, a partir de ahora, Google es su amigo: pueden buscar la duda que tengan y seguramente alguien ya haya tenido ese problema. Una de los sitios web más conocidos para este fin es [StackOverflow](https://stackoverflow.com/)."
      ]
    },
    {
      "cell_type": "markdown",
      "metadata": {
        "id": "6AB7wy0q0i9G"
      },
      "source": [
        "## Input, Output y Variables\n"
      ]
    },
    {
      "cell_type": "code",
      "metadata": {
        "id": "DzAASCSd1IW-",
        "colab": {
          "base_uri": "https://localhost:8080/",
          "height": 471
        },
        "outputId": "59bcb66a-77c4-49db-8a73-6e878d7010b5"
      },
      "source": [
        "# Link a Youtube: https://www.youtube.com/watch?v=su9lzFaYhbM&list=PL0YqVCFDPJTnJYWRxmGJsj_xJA-FfdySC&index=3&ab_channel=IEEEITBA\n",
        "# Temas: Input, Output y Variables.\n",
        "\n",
        "from IPython.display import YouTubeVideo\n",
        "YouTubeVideo('su9lzFaYhbM', width=800, height=450)"
      ],
      "execution_count": null,
      "outputs": [
        {
          "output_type": "execute_result",
          "data": {
            "text/plain": [
              "<IPython.lib.display.YouTubeVideo at 0x7f98049b2d90>"
            ],
            "text/html": [
              "\n",
              "        <iframe\n",
              "            width=\"800\"\n",
              "            height=\"450\"\n",
              "            src=\"https://www.youtube.com/embed/su9lzFaYhbM\"\n",
              "            frameborder=\"0\"\n",
              "            allowfullscreen\n",
              "        ></iframe>\n",
              "        "
            ],
            "image/jpeg": "[encoded data removed]"
          },
          "metadata": {},
          "execution_count": 4
        }
      ]
    },
    {
      "cell_type": "markdown",
      "metadata": {
        "id": "YSN3o-s_1NL9"
      },
      "source": [
        "### Output\n",
        "\n",
        "El output de un programa es la manera de transmitir información hacia el entorno externo. Por ejemplo, puede escribir en la consola de la computadora, puede generar una imagen, reproducir un sonido, etc. En Google Colaboratory veremos el output del programa debajo de la celda donde fue ejecutado.\n",
        "\n",
        "Para poder mostrar texto, podemos utilizar la instrucción **print( )** poniendo lo que deseemos mostrar entre los paréntesis. Más adelante veremos cómo se pueden generar imágenes, archivos y demás.\n",
        "\n",
        "**Tip**: En la esquina superior izquierda del cuadro de texto con el código hay un botón para ejecutar el programa"
      ]
    },
    {
      "cell_type": "code",
      "metadata": {
        "id": "BZKuwhnM1fMF"
      },
      "source": [
        "print(123)\n",
        "print(\"Hola, cómo estas?\")\n",
        "print('Buen día')"
      ],
      "execution_count": null,
      "outputs": []
    },
    {
      "cell_type": "markdown",
      "metadata": {
        "id": "z3JLrNQRca5r"
      },
      "source": [
        "Noten en el ejemplo que para escribir texto se debe indicar con comillas simples o dobles y para escribir números no se usan comillas.\n",
        "\n",
        "Otra cosa importante para notar es que cada instrucción en Python se escribe en un renglón distinto, y se ejecutarán una por una de arriba para abajo.\n",
        "\n",
        "Cada instrucción **print( )** muestra el contenido indicado en un renglón nuevo, pero también admite mostrar mensajes en un mismo renglón si se indican diferentes parámetros separados con comas:"
      ]
    },
    {
      "cell_type": "code",
      "metadata": {
        "id": "ShSdIZTQeP_h"
      },
      "source": [
        "print(1, 2, 3)\n",
        "print(\"Curso\", \"de\", \"Python\")\n",
        "print('Uno:', 1, ' Dos:', 2, ' Tres:', 3)"
      ],
      "execution_count": null,
      "outputs": []
    },
    {
      "cell_type": "markdown",
      "metadata": {
        "id": "Pu5VvBmr1ieM"
      },
      "source": [
        "### Variables\n",
        "\n",
        "Para poder realizar tareas es necesario guardar en la memoria de la computadora los datos que necesita mi aplicación para funcionar. Por ejemplo, en este momento tu navegador web sabe cuántas pestañas hay abiertas y qué página se abrió en cada una, sabe en qué posición de la página estás y qué usuario utilizaste para entrar a Google Colab. Todos estos datos están almacenados en la memoria de la computadora y el navegador lee estos datos y los modifica cada vez que lo requiere.\n",
        "\\\n",
        "En programación, se le asigna un nombre o apodo a cada pequeño segmento de la memoria que almacena un dato o un valor. De esta forma en el programa cada vez que se usa este nombre se esta refiriendo al valor del dato almacenado en la memoria. Este es el concepto de \"variable\".\n",
        "\\\n",
        "En python esto se logra de la siguiente manera:"
      ]
    },
    {
      "cell_type": "code",
      "metadata": {
        "id": "mFOx8nO71nL-"
      },
      "source": [
        "x = 5\n",
        "print(x)"
      ],
      "execution_count": null,
      "outputs": []
    },
    {
      "cell_type": "markdown",
      "metadata": {
        "id": "NSJEwTaD1puN"
      },
      "source": [
        "Este ejemplo utilizará un bloque de la memoria para almacenar el número `5`, luego le asigna a este bloque el nombre `x` y por lo tanto a partir de entonces cada vez que se utiliza la palabra `x` en realidad nos referimos al valor almacenado dentro del bloque de memoria, al cual apodamos `x`.\n",
        "\n",
        "**¿Cómo se interpreta una expresión de asignación?**\n",
        "\n",
        "Es muy importante entender cómo leer una expresión de asignación.\n",
        "Cuando recorras y analices tu código, es preferible que entiendas el significado de la operación:\n",
        "\n",
        "*nombre* = *expresión*\n",
        "\n",
        "Como:\n",
        "* Se **asigna** el valor de *expresión* a *nombre*.\n",
        "\n",
        "Y no como:\n",
        "* ~~*variable* es *igual* a *expresión*~~.\n",
        "\n",
        "**Ejemplos**\n",
        "\n",
        "En estas variables podemos guardar lo que sea necesario para ejecutar el programa, por ejemplo si necesitamos guardar texto se indica con: \"(texto)\" o '(texto)'."
      ]
    },
    {
      "cell_type": "code",
      "metadata": {
        "id": "n0hO9z801r82"
      },
      "source": [
        "x = 'Hola'\n",
        "y = \"Adios\"\n",
        "z = 123\n",
        "print(x)\n",
        "print(y)\n",
        "print(z)"
      ],
      "execution_count": null,
      "outputs": []
    },
    {
      "cell_type": "markdown",
      "metadata": {
        "id": "NWySnvJu1ti1"
      },
      "source": [
        "Noten que la instrucción **print( )** permite mostrar el contenido de una variable. Cuando ponemos **print(x)** no imprime la letra *x* sino que imprime el contenido de **x**. Es por esto que para eliminar la confusión se usan comillas cuando queremos mostrar texto y no el contenido de una variable.\n",
        "\n",
        "Es importante tener en cuenta que no es necesario aclarar de antemano si las variables son textos (Strings) o números, el lenguaje lo puede identificar automáticamente\n",
        "\n",
        "**Reglas para el nombre de una variable:**\n",
        "\n",
        "- Debe empezar con una letra (a-z, A-Z) o un guión bajo (_).\n",
        "- Los otros caracteres pueden ser letras, numeros o guión bajo.\n",
        "- Distingue mayúsculas de minúsculas.\n",
        "- Existen palabras reservadas que no se pueden usar como nombre de variable porque Python las usa para otras cosas. Por ejemplo el nombre de una variable no puede ser print.\n",
        "\n",
        "**Prolijidad y buenas prácticas**\n",
        "\n",
        "Cuando se escribe código, no solamente se está utilizando un lenguaje de programación para poder aprovechar los recursos de una computadora. Al igual que cualquier otra actividad humana, la tarea de programar se vuelve más interesante cuando se realiza junto a otras personas.\n",
        "\n",
        "De hecho, para realizar ciertos trabajos de mucha complejidad, no es posible que un único individuo se encargue de escribir todo el código. Por eso, es importante ser prolijos y utilizar buenas prácticas de programación, para que otras personas puedan entender nuestro código (incluído nuestro yo del futuro) y de esa forma corregirlo o agregarle funcionalidad.\n",
        "\n",
        "Unos tips  que ya pueden a empezar a usar son:\n",
        "* Separar el nombre de la variable, el operador de asignación y la expresión a evaluar con espacios.\n",
        "\n",
        "Es decir, en lugar de escribir:\n",
        "```python\n",
        "x=\"Hola mundo!\"\n",
        "```\n",
        "Es mejor escribir:\n",
        "```python\n",
        "x = \"Hola mundo!\"\n",
        "```\n",
        "\n",
        "* Elegir nombres de variables descriptivos, aunque nos de pereza escribirlos.\n",
        "\n",
        "```python\n",
        "radio = 5\n",
        "pi = 3.14\n",
        "perimetro = 2 * pi * radio\n",
        "areaEsfera = 4 * pi * radio**2\n",
        "volumenEsfera = 4 / 3 * pi * radio**3\n",
        "```\n",
        "\n"
      ]
    },
    {
      "cell_type": "markdown",
      "metadata": {
        "id": "paZabFJRGXJu"
      },
      "source": [
        "#### **Mini-desafío:** Output y variables\n",
        "\n",
        "Diseñar un programa en el cual se definan exactamente 2 variables.\n",
        "- La primera se debe llamar `nombre` y debe contener tu nombre (entre comillas).\n",
        "- La segunda se debe llamar `edad` y debe contener tu edad (como un número simple, sin comillas).\n",
        "\n",
        "Por último el programa debe mostrar en pantalla la siguiente frase en una sóla línea: \n",
        "> (nombre) tiene (edad) años\n",
        "\n",
        "Por ejemplo:\n",
        "> Mati tiene 5 años\n",
        "\n",
        "**Tip:** La instrucción print() admite mostrar mensajes en un mismo renglón si se indican diferentes parámetros separados con comas.\n"
      ]
    },
    {
      "cell_type": "code",
      "metadata": {
        "id": "T8-PPQf_HCE9"
      },
      "source": [
        ""
      ],
      "execution_count": null,
      "outputs": []
    },
    {
      "cell_type": "markdown",
      "metadata": {
        "id": "Icjqr3dn1vn0"
      },
      "source": [
        "### Input\n",
        "El input de un programa es la manera de recibir información del entorno externo al programa. Esto puede ser un usuario, un archivo, otro programa, un sensor, etc. \n",
        "\n",
        "Para ingresar una variable podemos usar **input( \"Texto a mostrar:\" )**. Corran este código ustedes para que les de una pequeña casilla donde escribir, y luego el programa escribirá lo que ustedes ingresaron. "
      ]
    },
    {
      "cell_type": "code",
      "metadata": {
        "id": "THDSQvb71y0O"
      },
      "source": [
        "# Esto es un comentario!\n",
        "# Los comentarios no son ejecutados por Python\n",
        "# De esta forma el programador puede hacer una nota para humanos\n",
        "\n",
        "nombre = input(\"Ingrese su nombre: \")\n",
        "edad = int( input(\"Ingrese su edad: \") )\n",
        "\n",
        "print(\"nombre:\", nombre)\n",
        "print(\"edad:\", edad)"
      ],
      "execution_count": null,
      "outputs": []
    },
    {
      "cell_type": "markdown",
      "metadata": {
        "id": "vcFTFQcD15On"
      },
      "source": [
        "Un detalle a tener en cuenta es que la información ingresada por el usuario usando **input( )** será interpretada como texto, no como un número. Por eso cuando queremos ingresar un número usaremos **int( )** para convertir ese texto al número correspondiente. En la próxima clase quedará claro por qué debemos hacer esto y qué es el tipo de una variable."
      ]
    },
    {
      "cell_type": "markdown",
      "metadata": {
        "id": "PUnb4N8i17ut"
      },
      "source": [
        "## Operaciones básicas con variables\n"
      ]
    },
    {
      "cell_type": "markdown",
      "metadata": {
        "id": "nLIjci3h193F"
      },
      "source": [
        "### Operaciones de modificación\n"
      ]
    },
    {
      "cell_type": "code",
      "metadata": {
        "id": "KDy1Orh82Ds4",
        "colab": {
          "base_uri": "https://localhost:8080/",
          "height": 471
        },
        "outputId": "7d2c173f-c809-445d-80e1-d1cc257c4308"
      },
      "source": [
        "# Link a Youtube: https://www.youtube.com/watch?v=6Bb1i1lBaYM&list=PL0YqVCFDPJTnJYWRxmGJsj_xJA-FfdySC&index=4&ab_channel=IEEEITBA\n",
        "# Tema: Operaciones de modificación.\n",
        "\n",
        "from IPython.display import YouTubeVideo\n",
        "YouTubeVideo('6Bb1i1lBaYM', width=800, height=450)"
      ],
      "execution_count": null,
      "outputs": [
        {
          "output_type": "execute_result",
          "data": {
            "text/plain": [
              "<IPython.lib.display.YouTubeVideo at 0x7f98049b2990>"
            ],
            "text/html": [
              "\n",
              "        <iframe\n",
              "            width=\"800\"\n",
              "            height=\"450\"\n",
              "            src=\"https://www.youtube.com/embed/6Bb1i1lBaYM\"\n",
              "            frameborder=\"0\"\n",
              "            allowfullscreen\n",
              "        ></iframe>\n",
              "        "
            ],
            "image/jpeg": "[encoded data removed]"
          },
          "metadata": {},
          "execution_count": 5
        }
      ]
    },
    {
      "cell_type": "markdown",
      "metadata": {
        "id": "BCGsM4r72Gb2"
      },
      "source": [
        "No sería muy útil un programa si lo único que podemos hacer es guardar en una variable y mostrarla, por lo que existen algunas operaciones básicas que nos permiten modificar el contenido:\n",
        "\n",
        "- Sumar dos variables ( $a+b$ ):\n",
        "\n",
        "  `a + b`\n",
        "\n",
        "- Restar dos variables ( $a-b$ ):\n",
        "\n",
        "  `a − b`\n",
        "\n",
        "- Multiplicar dos variables ( $a\\cdot b$ ):\n",
        "\n",
        "  `a * b`\n",
        "\n",
        "- Dividir una variable por la otra ( $a\\div b$ ):\n",
        "\n",
        "  `a / b` \n",
        "\n",
        "- Una variable elevada a la otra ( $a^b$ ): \n",
        "\n",
        "  `a ** b`\n",
        "\n",
        "- Asignarle un valor a una variable ( $a\\leftarrow b$ ):\n",
        "\n",
        "  `a = b`\n",
        "  \n",
        "\n",
        "¿Cual será la salida del siguiente programa?"
      ]
    },
    {
      "cell_type": "code",
      "metadata": {
        "id": "3IYJ3nrV2Hpt"
      },
      "source": [
        "x = 3\n",
        "y = -2\n",
        "y = x*y\n",
        "x = x**2\n",
        "print(\"y =\", y)\n",
        "print(\"x =\", x)"
      ],
      "execution_count": null,
      "outputs": []
    },
    {
      "cell_type": "markdown",
      "metadata": {
        "id": "Ba9u3d112KIu"
      },
      "source": [
        "Python nos permite ahorrar código combinando el operando **=** con alguno de los anteriormente vistos:\n",
        "\n",
        "*   Suma a la varaible ( $a \\leftarrow a+ b$ ):\n",
        "\n",
        "  `a += b`\n",
        "\n",
        "*   Resta a la variable ( $a \\leftarrow a- b$ ):\n",
        "\n",
        "  `a -= b`\n",
        "\n",
        "*   Multiplica a la variable ( $a \\leftarrow a\\cdot b$ ):\n",
        "\n",
        "  `a *= b`\n",
        "\n",
        "*   Divide a la variable ( $a \\leftarrow a\\div b$ ):\n",
        "\n",
        "  `a /= b`\n",
        "\n",
        "¿Cual será la salida del siguiente codigo?"
      ]
    },
    {
      "cell_type": "code",
      "metadata": {
        "id": "itbgCZWE2nFc"
      },
      "source": [
        "x = 17\n",
        "x += 3\n",
        "x /= 10\n",
        "print(\"x =\",x)"
      ],
      "execution_count": null,
      "outputs": []
    },
    {
      "cell_type": "markdown",
      "source": [
        "**Prolijidad y buenas prácticas**\n",
        "Al igual que al asignar, a veces introducir espacios al escribir expresiones vuelve más legible el código.\n",
        "\n",
        "¿Cúal de las siguientes asignaciones te parece más prolija y entendible?\n",
        "\n",
        "```python\n",
        "a = 5+7/4**5*3-7*x+b\n",
        "```\n",
        "```python\n",
        "a = 5 + 7 / 4**5 * 3 - 7 * x + b\n",
        "```"
      ],
      "metadata": {
        "id": "dKIPJIO0APIu"
      }
    },
    {
      "cell_type": "markdown",
      "metadata": {
        "id": "TrMtUbrt2urw"
      },
      "source": [
        "#### **Mini-desafío:** Operadores\n",
        "\n",
        "1. Diseñar un programa en el cual el usuario ingrese tres números, uno a la vez, y se muestre a la salida el promedio de los tres números.\n",
        "2. Diseñar un programa en el cual el usuario ingrese tres números, uno a la vez, y se muestre a la salida la [media geométrica](https://es.wikipedia.org/wiki/Media_geom%C3%A9trica) de los tres números.\n",
        "\n",
        "  **Tip:** Usando el operador de potencia se puede calcular una raíz cúbica ya que: $\\sqrt[3]{x}=x^{1/3}$"
      ]
    },
    {
      "cell_type": "code",
      "metadata": {
        "id": "IT-iSniW2v6t"
      },
      "source": [
        "# Escriba aquí su código para la parte 1"
      ],
      "execution_count": null,
      "outputs": []
    },
    {
      "cell_type": "code",
      "metadata": {
        "id": "xS1O2J43qarx"
      },
      "source": [
        "# Escriba aquí su código para la parte 2"
      ],
      "execution_count": null,
      "outputs": []
    },
    {
      "cell_type": "markdown",
      "metadata": {
        "id": "AuCHBB6d23gk"
      },
      "source": [
        "### Operador módulo\n"
      ]
    },
    {
      "cell_type": "code",
      "metadata": {
        "id": "AfdaxTxS27a3",
        "colab": {
          "base_uri": "https://localhost:8080/",
          "height": 471
        },
        "outputId": "8c1c59f7-1dd7-4713-e027-dfbb3a4255a8"
      },
      "source": [
        "# Link a Youtube: https://youtu.be/4GlRXyCXb4c\n",
        "# Tema: Operador módulo.\n",
        "\n",
        "from IPython.display import YouTubeVideo\n",
        "YouTubeVideo('4GlRXyCXb4c', width=800, height=450)    "
      ],
      "execution_count": null,
      "outputs": [
        {
          "output_type": "execute_result",
          "data": {
            "text/plain": [
              "<IPython.lib.display.YouTubeVideo at 0x7f98049b24d0>"
            ],
            "text/html": [
              "\n",
              "        <iframe\n",
              "            width=\"800\"\n",
              "            height=\"450\"\n",
              "            src=\"https://www.youtube.com/embed/4GlRXyCXb4c\"\n",
              "            frameborder=\"0\"\n",
              "            allowfullscreen\n",
              "        ></iframe>\n",
              "        "
            ],
            "image/jpeg": "[encoded data removed]"
          },
          "metadata": {},
          "execution_count": 6
        }
      ]
    },
    {
      "cell_type": "markdown",
      "metadata": {
        "id": "cDafAOFB2_7w"
      },
      "source": [
        "El operador módulo se utiliza con el símbolo **%**, y permite calcular el resto de un numero en la división por otro. Por ejemplo:\n",
        "\n",
        "*   $5$ % $3$ $= 2$\n",
        "*   $17$ % $10$ $= 7$\n",
        "*   $9$ % $6$ $= 3$\n",
        "*   $15$ % $5$ $= 0$\n",
        "\n",
        "Podríamos por ejemplo preguntar si el resto de un numero **x** en la division por **y** es igual a 0 y así saber si **x** es multiplo de **y**:"
      ]
    },
    {
      "cell_type": "code",
      "metadata": {
        "id": "IFyZa-ie3B9d"
      },
      "source": [
        "x = 27\n",
        "y = 9\n",
        "print(\"Resultado:\", x % y )"
      ],
      "execution_count": null,
      "outputs": []
    },
    {
      "cell_type": "markdown",
      "metadata": {
        "id": "sHDZxJOaEe9C"
      },
      "source": [
        "#### **Mini-desafío:** Módulo\n",
        "\n",
        "Un grupo de alumnos están cansados de estudiar. Se les ocurre que puede ser una buena idea tomarse unos días para tomar sol y hacer ejercicio, pero como no son para nada moderados, deciden organizar una ultramaratón de 4096 kilómetros. La carrera empezará a medianoche, y se cronometra la cantidad de horas que tarda cada corredor en finalizar. Es probable que a los corredores les tome varios días lograr alcanzar la meta.\n",
        "\n",
        "![Marathon](https://raw.githubusercontent.com/IEEESBITBA/Curso-Python/master/_assets/marathon.png)\n",
        "\n",
        "Realizar un programa al cual se ingresa la cantidad de horas que tardó un corredor en alcanzar la meta, y que muestra en pantalla la hora del día a la que llega.\n",
        "\n",
        "**Ejemplos:**\n",
        "- *Input* ← `5`\n",
        "\n",
        "  *Output* → `5` (Como tarda 5 horas, llega a las 5:00)\n",
        "\n",
        "- *Input* ← `20`\n",
        "\n",
        "  *Output* → `20` (Como tarda 20 horas, llega a las 20hs)\n",
        "\n",
        "- *Input* ← `25`\n",
        "\n",
        "  *Output* → `1` (Como tarda 25 horas, llega a la 1:00)\n",
        "\n",
        "- *Input* ← `45`\n",
        "\n",
        "  *Output* → `21` (Como tarda 45 horas, llega a las 21:00)"
      ]
    },
    {
      "cell_type": "code",
      "metadata": {
        "id": "82dqcMvjH71W"
      },
      "source": [
        ""
      ],
      "execution_count": null,
      "outputs": []
    },
    {
      "cell_type": "markdown",
      "metadata": {
        "id": "oL48nCbz3Qnt"
      },
      "source": [
        "### Operaciones de comparación\n"
      ]
    },
    {
      "cell_type": "code",
      "metadata": {
        "id": "hneI3TSL3W_F",
        "colab": {
          "base_uri": "https://localhost:8080/",
          "height": 471
        },
        "outputId": "d6056d4c-cd3a-4800-b546-e72dc538fc8c"
      },
      "source": [
        "# Link a Youtube: https://www.youtube.com/watch?v=9HoKXY8uKVA&list=PL0YqVCFDPJTnJYWRxmGJsj_xJA-FfdySC&index=6&ab_channel=IEEEITBA\n",
        "# Tema: Operaciones de comparación.\n",
        "\n",
        "from IPython.display import YouTubeVideo\n",
        "YouTubeVideo('9HoKXY8uKVA', width=800, height=450)  "
      ],
      "execution_count": null,
      "outputs": [
        {
          "output_type": "execute_result",
          "data": {
            "text/plain": [
              "<IPython.lib.display.YouTubeVideo at 0x7f9804527590>"
            ],
            "text/html": [
              "\n",
              "        <iframe\n",
              "            width=\"800\"\n",
              "            height=\"450\"\n",
              "            src=\"https://www.youtube.com/embed/9HoKXY8uKVA\"\n",
              "            frameborder=\"0\"\n",
              "            allowfullscreen\n",
              "        ></iframe>\n",
              "        "
            ],
            "image/jpeg": "[encoded data removed]"
          },
          "metadata": {},
          "execution_count": 7
        }
      ]
    },
    {
      "cell_type": "markdown",
      "metadata": {
        "id": "6LrP-ea23Zks"
      },
      "source": [
        "Existen operaciones para comparar propiedades de las variables, que serán especialmente importantes para el próximo tema de la clase. Las principales comparaciones posibles son:\n",
        "\n",
        "*   Menor que ( $a < b$ ):\n",
        "\n",
        " `a < b`\n",
        "\n",
        "*   Mayor que ( $a > b$ ):\n",
        "\n",
        " `a > b`\n",
        "\n",
        "*   Menor o igual que ( $a \\leq b$ ):\n",
        "\n",
        " `a <= b`\n",
        "\n",
        "*   Mayor o igual que ( $a \\geq b$ ):\n",
        "\n",
        " `a >= b`\n",
        "\n",
        "*   Es igual ( $a = b$ ):\n",
        "\n",
        " `a == b` (Ojo: se utilizan 2 símbolos `=` para diferenciarse del operador asignación)\n",
        "\n",
        "*   Es distinto ( $a \\neq b$ ):\n",
        "\n",
        " `a != b`\n",
        "\n",
        "\n",
        "Al comprarar dos números se obtiene True o False (Verdadero o Falso) según si se cumple la condición:"
      ]
    },
    {
      "cell_type": "code",
      "metadata": {
        "id": "DLNd0IkK3fUF"
      },
      "source": [
        "x = 4\n",
        "print(\"Es x mayor o igual a 4?\", x >= 4)\n",
        "print(\"Es x menor a 3?\", x < 3)"
      ],
      "execution_count": null,
      "outputs": []
    },
    {
      "cell_type": "markdown",
      "metadata": {
        "id": "_NhDBRGW4Du4"
      },
      "source": [
        "También podemos combinar diversas condiciones:\n",
        "\n",
        "*  Si se cumplen las dos condiciones ( $a \\land b$ ):\n",
        "\n",
        "  `a and b`\n",
        "\n",
        "*  Si se cumple alguna de las condiciones ( $ a \\lor b$ ):\n",
        "\n",
        "  `a or b`\n",
        "\n",
        "*  Si no se cumple esa condición ( $ \\overline{a} $ ):\n",
        "\n",
        "  `not a`\n",
        "\n",
        "\n",
        "Veamos un ejemplo:"
      ]
    },
    {
      "cell_type": "code",
      "metadata": {
        "id": "yXLcUyqR4Fwd"
      },
      "source": [
        "x = int(input(\"Ingrese un numero:\"))\n",
        "y = x > 5 and x < 7\n",
        "z = x > 5 or x < 7\n",
        "k = not x > 5\n",
        "print(\"x > 5 y x < 7?\", y)\n",
        "print(\"x > 5 ó x < 7?\", z)\n",
        "print(\"Es x NO mayor a 5?\", k)"
      ],
      "execution_count": null,
      "outputs": []
    },
    {
      "cell_type": "markdown",
      "metadata": {
        "id": "0XA2fgcf4j5c"
      },
      "source": [
        "Estas condiciones pueden agruparse con ( condicion1 ) **and/or** ( condicion2 ), esto permite chequar condiciones complejas:"
      ]
    },
    {
      "cell_type": "code",
      "metadata": {
        "id": "CD3MFAO74o-r"
      },
      "source": [
        "x = int(input(\"Ingrese el primer número:\"))\n",
        "y = int(input(\"Ingrese el segundo número:\"))\n",
        "z = ( x > 15 or x < -15) and ( y > 15 or y < -15 )\n",
        "print(\"El valor absoluto de ambos numeros es mayor a 15?\", z)"
      ],
      "execution_count": null,
      "outputs": []
    },
    {
      "cell_type": "markdown",
      "source": [
        "**Prolijidad y buenas prácticas**\n",
        "\n",
        "¿Ven el uso de espacios y paréntesis en las expresiones?\n",
        "\n",
        "Al incrementar la complejidad del código que se escribe no resulta ni sencillo ni práctico crear reglas rígidas que establezcan la forma más prolija de escribir código. Por eso, se apela al sentido común cuando se programa."
      ],
      "metadata": {
        "id": "YHpg7PptDEkZ"
      }
    },
    {
      "cell_type": "markdown",
      "metadata": {
        "id": "eBEoT0xR5uVG"
      },
      "source": [
        "## Control de Flujo\n",
        "Los programas siguen un \"flujo\" definido por el programador. Hasta ahora el flujo del programa siempre fue uno sólo, se ejecuta una instrucción, luego la siguiente, luego la siguiente a esta, etc. Sin embargo es posible realizar tareas diferentes dependiendo de ciertas condiciones, repetir segmentos de código, y modificar el flujo del programa de forma que no sea simplemente una secuencia lineal de instrucciones. Esto permite realizar tareas mucho más complejas, en la cuál el programa tome decisiones respecto a lo que debe hacer en función de la situación.\n",
        "\n",
        "Notar que todas estas estructuras terminan con un \"**:**\" , y la siguiente línea tiene un tab de indentación (como una sangría)."
      ]
    },
    {
      "cell_type": "markdown",
      "metadata": {
        "id": "oex4HES35x2b"
      },
      "source": [
        "###   Estructura if"
      ]
    },
    {
      "cell_type": "code",
      "metadata": {
        "id": "enRGvdJX5y0Y",
        "colab": {
          "base_uri": "https://localhost:8080/",
          "height": 471
        },
        "outputId": "f3131918-becd-489d-ea0e-65377860bb9c"
      },
      "source": [
        "# Link a Youtube: https://www.youtube.com/watch?v=IGiU5pAW1h0&list=PL0YqVCFDPJTnJYWRxmGJsj_xJA-FfdySC&index=7\n",
        "# Tema: Bloque if.\n",
        "\n",
        "from IPython.display import YouTubeVideo\n",
        "YouTubeVideo('IGiU5pAW1h0', width=800, height=450) "
      ],
      "execution_count": null,
      "outputs": [
        {
          "output_type": "execute_result",
          "data": {
            "text/plain": [
              "<IPython.lib.display.YouTubeVideo at 0x7f9804527710>"
            ],
            "text/html": [
              "\n",
              "        <iframe\n",
              "            width=\"800\"\n",
              "            height=\"450\"\n",
              "            src=\"https://www.youtube.com/embed/IGiU5pAW1h0\"\n",
              "            frameborder=\"0\"\n",
              "            allowfullscreen\n",
              "        ></iframe>\n",
              "        "
            ],
            "image/jpeg": "[encoded data removed]"
          },
          "metadata": {},
          "execution_count": 8
        }
      ]
    },
    {
      "cell_type": "markdown",
      "metadata": {
        "id": "KHRAqlbg52wr"
      },
      "source": [
        "El **if** es la estructura básica que le permite al programador analizar si se cumple una condición, y realizar distintas acciones según si eso sucede o no. Las distintas formas de implementar la estructura son las siguientes:\n",
        "\n",
        "```python\n",
        "if (condicion):\n",
        "    #Lo que se hace si se cumple la condición\n",
        "```\n",
        "```python\n",
        "if (condicion):\n",
        "    #Lo que se hace si se cumple la condición\n",
        "else:\n",
        "    #Lo que se hace si no se cumple la condición\n",
        "```\n",
        "```python\n",
        "if (condicion1):\n",
        "    #Lo que se hace si se cumple la condición1\n",
        "elif (condicion2):\n",
        "    #Lo que se hace si no se cumple la condicion1, pero sí la condicion2\n",
        "elif (condicion3):\n",
        "    #Lo que se hace si no se cumple la condicion1 ni la condición2, pero sí la condición3\n",
        "else:\n",
        "    #Lo que se hace si no se cumple ninguna condición\n",
        "``` \n",
        "    \n",
        "Se debe prestar especial atención a la indentación/tabulación. Siempre que se define un **if** se crea un bloque de código (un conjunto de instrucciones) que son las que se ejecutan cuando se cumple la condición dada. Este bloque de código debe tener una \"sangría\", de esta forma Python comprende donde empieza y donde termina este bloque. Si se utiliza la \"sangría\" incorrectamente Python indicará que hay un error en el código y no se podrá ejecutar.\n",
        "\n",
        "Siempre se comienza con **if**, después puede haber cualquier cantidad de **elif** (o ninguno) y luego se puede terminar con **else** (o no). Luego del **else** no puede haber más **elif**.\n",
        " \n",
        " ¿Cual será la salida del siguiente programa?"
      ]
    },
    {
      "cell_type": "code",
      "metadata": {
        "id": "_dSxaNFB564K"
      },
      "source": [
        "x = 5\n",
        "y = 6\n",
        "if x == y:\n",
        "    print(x)\n",
        "elif y < 5 or y > 7:\n",
        "    print(x + y)\n",
        "else:\n",
        "    print(y)"
      ],
      "execution_count": null,
      "outputs": []
    },
    {
      "cell_type": "code",
      "metadata": {
        "id": "pk5EC4ss581N"
      },
      "source": [
        "y = int(input(\"Ingrese el valor de y\"))\n",
        "if y == 13:\n",
        "    print(\"Adivinamos el valor de y!\")      \n",
        "\n",
        "x = int(input(\"Ingrese el valor de x\"))    \n",
        "if x == 93:\n",
        "    print(\"Adivinamos el valor de x!\")\n",
        "else:\n",
        "    print(\"No adivinamos el valor de x  :(\")\n",
        "    \n",
        "if x > y:\n",
        "    print(\"x es mayor que y\")\n",
        "elif x < y:\n",
        "    print(\"y es mayor que x\")\n",
        "elif x == y:\n",
        "    print(\"x e y son iguales\")\n",
        "else:\n",
        "    print(\"que anda pasando?\")"
      ],
      "execution_count": null,
      "outputs": []
    },
    {
      "cell_type": "markdown",
      "source": [
        "**Tips**\n",
        "\n",
        "Para indentar y desindentar, se usa la tecla *tabulador* junto con la tecla *shift/mayus*. Recomendamos que busquen en su teclado esta tecla y si no la conocen, pueder pedirle ayuda a Google.\n",
        "\n",
        "Si se quiere añadir o quitar tabulaciones a varias líneas, pueden seleccionarlas primero."
      ],
      "metadata": {
        "id": "EDggw6fyEj4W"
      }
    },
    {
      "cell_type": "markdown",
      "metadata": {
        "id": "LwALviO96vEi"
      },
      "source": [
        "#### **Mini-desafío:** if\n",
        "1. Realizar un programa que revise si una nota está aprobada (es decir si es mayor o igual a 4) utilizando un **if/else**. La nota será ingresada por el usuario usando **input()**.\n",
        "2. Realizar un programa que convierta una nota porcentual del 0 al 100 a una letra entre A y F de acuerdo a la siguiente conversión:\n",
        "\n",
        " - A: 90–100\n",
        "\n",
        " - B: 80–89\n",
        "\n",
        " - C: 70–79\n",
        "\n",
        " - D: 60–69\n",
        "\n",
        " - F: 0–59"
      ]
    },
    {
      "cell_type": "code",
      "metadata": {
        "id": "YTFYbjuT6wg6"
      },
      "source": [
        "# Escriba aquí su código para la parte 1"
      ],
      "execution_count": null,
      "outputs": []
    },
    {
      "cell_type": "code",
      "metadata": {
        "id": "U4qig2EKuzNl"
      },
      "source": [
        "# Escriba aquí su código para la parte 2"
      ],
      "execution_count": null,
      "outputs": []
    },
    {
      "cell_type": "markdown",
      "metadata": {
        "id": "Il0FYHQV6w5q"
      },
      "source": [
        "###  Estructura while\n"
      ]
    },
    {
      "cell_type": "code",
      "metadata": {
        "id": "7hmfoHfK6z1K",
        "colab": {
          "base_uri": "https://localhost:8080/",
          "height": 471
        },
        "outputId": "4e029d1a-4e16-45fe-a2ec-588fe82161fc"
      },
      "source": [
        "# Link a Youtube: https://www.youtube.com/watch?v=GBWvoYlbTRs&list=PL0YqVCFDPJTnJYWRxmGJsj_xJA-FfdySC&index=8\n",
        "# Tema: Bloque while.\n",
        "\n",
        "from IPython.display import YouTubeVideo\n",
        "YouTubeVideo('GBWvoYlbTRs', width=800, height=450)"
      ],
      "execution_count": null,
      "outputs": [
        {
          "output_type": "execute_result",
          "data": {
            "text/plain": [
              "<IPython.lib.display.YouTubeVideo at 0x7f980498e750>"
            ],
            "text/html": [
              "\n",
              "        <iframe\n",
              "            width=\"800\"\n",
              "            height=\"450\"\n",
              "            src=\"https://www.youtube.com/embed/GBWvoYlbTRs\"\n",
              "            frameborder=\"0\"\n",
              "            allowfullscreen\n",
              "        ></iframe>\n",
              "        "
            ],
            "image/jpeg": "[encoded data removed]"
          },
          "metadata": {},
          "execution_count": 9
        }
      ]
    },
    {
      "cell_type": "markdown",
      "metadata": {
        "id": "z264S6Ey62VL"
      },
      "source": [
        "La estructura **while** permite implementar *ciclos* en nuestro programa (también llamados *loops* o *bucles*). Es decir, repetir una porción del código una y otra vez en tanto se verifique cierta condición. La estructura básica es la siguiente:\n",
        "\n",
        "\n",
        "\n",
        "```python\n",
        "while (condicion):\n",
        "    #Lo que se hace mientras que se cumpla la condicion\n",
        "    #Debe incluirse una operación que modifique la condición\n",
        "```\n",
        "\n",
        "En el siguiente bloque de código pueden ver a esta estructura en acción:"
      ]
    },
    {
      "cell_type": "code",
      "metadata": {
        "id": "JiQ0WSGk68Ma"
      },
      "source": [
        "x = 1\n",
        "while x < 10:\n",
        "    print(x)\n",
        "    x += 1\n",
        "\n",
        "print('Termina el while')\n",
        "\n",
        "print(\"Continuo con el resto del programa\")"
      ],
      "execution_count": null,
      "outputs": []
    },
    {
      "cell_type": "markdown",
      "metadata": {
        "id": "MHCgdZSK7ATS"
      },
      "source": [
        "Es importante tener en cuenta que la condición se evalúa sólo al principio del ciclo y no se volverá a evaluar hasta no terminar de ejecutar todas las instrucciones contenidas en el bloque **while**.\n",
        "\n",
        "Al usar una variable auxiliar para contar la cantidad de repeticiones del while, es recomendable no modificar su valor dentro del bloque excepto para incrementar/decrementar su valor acordemente. Esto es porque se corre el riesgo de que la condición siempre sea *True* y el **while** se ejecute infinitamente, además es dificil darse cuenta de que la cantidad de ciclos será de hecho la que queremos.\n",
        "\n",
        "¿Qué realiza este programa?"
      ]
    },
    {
      "cell_type": "code",
      "metadata": {
        "id": "E8fCa1MJ7Ey5"
      },
      "source": [
        "nota = int( input('Ingrese un número del 1 al 10: ') )\n",
        "\n",
        "while nota < 1 or nota > 10:\n",
        "  print('Fuera de rango!')\n",
        "  nota = int( input('Ingrese un número del 1 al 10: ') )\n",
        "\n",
        "print(\"La nota es mayor a 4?\", nota >= 4 )"
      ],
      "execution_count": null,
      "outputs": []
    },
    {
      "cell_type": "markdown",
      "source": [
        "**Prolijidad y buenas prácticas**\n",
        "\n",
        "Recordar: siempre que se excriba un bucle while, se debe modificar en algún punto la condición que controla su ejecución. Bajo ninguna circunstancia puede entregarse un programa con bucles cuyo fin no es seguro. ¿O acaso a alguien le gusta que su computadora se quede colgada?"
      ],
      "metadata": {
        "id": "h8s7Ztq3GzC5"
      }
    },
    {
      "cell_type": "markdown",
      "metadata": {
        "id": "8zB0PqRW7NJE"
      },
      "source": [
        "#### **Mini-desafío:** while\n",
        "\n",
        "1. Implementar un programa que reciba 2 números (A y B), y luego imprima en pantalla la secuencia de números enteros desde A hasta B. En el caso de que B sea menor que A, se debe repetir el pedido de B hasta que sea válido ( B $\\geq$ A ).\n",
        "\n",
        "2. Implementar un programa que muestre la siguiente secuencia:\n",
        "\n",
        "  1, 2, 3, 4, 5, 4, 3, 2, 1, 0\n",
        "\n",
        "  **Para un desafío mayor:** Utilizar 1 solo *while*, 1 solo *if* y 1 solo *else*. Es recomendable que la variable usada para contar los pasos se mantenga contando siempre de la misma forma. "
      ]
    },
    {
      "cell_type": "code",
      "metadata": {
        "id": "GicyfUZh7OM7"
      },
      "source": [
        "# Escriba aquí su código para la parte 1"
      ],
      "execution_count": null,
      "outputs": []
    },
    {
      "cell_type": "code",
      "metadata": {
        "id": "cskX5m9wM7K1"
      },
      "source": [
        "# Escriba aquí su código para la parte 2"
      ],
      "execution_count": null,
      "outputs": []
    },
    {
      "cell_type": "markdown",
      "metadata": {
        "id": "tVpZnLul7PYp"
      },
      "source": [
        "### Estructura for\n"
      ]
    },
    {
      "cell_type": "code",
      "metadata": {
        "id": "R1g1l-8B7ReS",
        "colab": {
          "base_uri": "https://localhost:8080/",
          "height": 471
        },
        "outputId": "18fc79c1-4ec0-4258-aab6-f5884ff7b40c"
      },
      "source": [
        "# Link a Youtube: https://www.youtube.com/watch?v=4yqiNkuTG_4&list=PL0YqVCFDPJTnJYWRxmGJsj_xJA-FfdySC&index=9\n",
        "# Tema: Bloque for.\n",
        "\n",
        "from IPython.display import YouTubeVideo\n",
        "YouTubeVideo('4yqiNkuTG_4', width=800, height=450)"
      ],
      "execution_count": null,
      "outputs": [
        {
          "output_type": "execute_result",
          "data": {
            "text/plain": [
              "<IPython.lib.display.YouTubeVideo at 0x7f9804503450>"
            ],
            "text/html": [
              "\n",
              "        <iframe\n",
              "            width=\"800\"\n",
              "            height=\"450\"\n",
              "            src=\"https://www.youtube.com/embed/4yqiNkuTG_4\"\n",
              "            frameborder=\"0\"\n",
              "            allowfullscreen\n",
              "        ></iframe>\n",
              "        "
            ],
            "image/jpeg": "[encoded data removed]"
          },
          "metadata": {},
          "execution_count": 12
        }
      ]
    },
    {
      "cell_type": "markdown",
      "metadata": {
        "id": "M3YR1bcA7WA-"
      },
      "source": [
        "La estructura del **for** permite realizar una serie de acciones con una variable, que cambia su valor en cada repetición (también llamada *iteración*).\n",
        "\n",
        "```python\n",
        "for (variable) in (conjunto de valores):\n",
        "    #Lo que quieras hacer con tu variable\n",
        "```\n",
        "\n",
        "Veámoslo en un ejemplo de código:"
      ]
    },
    {
      "cell_type": "code",
      "metadata": {
        "id": "yPvlJVUf8PqC"
      },
      "source": [
        "for x in range(0,15,5):\n",
        "    print(x)"
      ],
      "execution_count": null,
      "outputs": []
    },
    {
      "cell_type": "markdown",
      "metadata": {
        "id": "3CJlInrf8Eep"
      },
      "source": [
        "La instrucción `range(a,b,d)` genera los valores desde *a* hasta *b* (sin incluir) con incrementos de *d*, por ejemplo el siguiente codigo generara los numeros pares entre 0 y 10:"
      ]
    },
    {
      "cell_type": "code",
      "metadata": {
        "id": "EKvTidV78IYD"
      },
      "source": [
        "for x in range(0,10,2):\n",
        "    print(x)"
      ],
      "execution_count": null,
      "outputs": []
    },
    {
      "cell_type": "markdown",
      "metadata": {
        "id": "onOxtk1d8YeC"
      },
      "source": [
        "Noten que el límite superior del rango nunca es incluído."
      ]
    },
    {
      "cell_type": "code",
      "metadata": {
        "id": "_0gd7DLw7Ylz"
      },
      "source": [
        "init = int(input(\"Ingrese el inicio:\"))\n",
        "fin = int(input(\"Ingrese el fin:\"))\n",
        "step = int(input(\"Ingrese el salto:\"))\n",
        "\n",
        "for x in range(init, fin, step):\n",
        "    print(\"x =\", x)"
      ],
      "execution_count": null,
      "outputs": []
    },
    {
      "cell_type": "markdown",
      "metadata": {
        "id": "T48nXeEY8EZa"
      },
      "source": [
        "Al utilizar la instrucción **range( )** no es necesario proporcionar siempre los 3 parámetros. Observen qué sucede cuando se proporcionan solamente 1 o 2 parámetros:"
      ]
    },
    {
      "cell_type": "code",
      "metadata": {
        "id": "Ng0wu3H_8aTx"
      },
      "source": [
        "print(\"range(5):\")\n",
        "for x in range(5):\n",
        "    print(x)\n",
        "\n",
        "print(\"range(10, 15):\")\n",
        "for x in range(10, 15):\n",
        "    print(x)"
      ],
      "execution_count": null,
      "outputs": []
    },
    {
      "cell_type": "markdown",
      "metadata": {
        "id": "rJqlu1CZ8b_p"
      },
      "source": [
        "#### **Mini-desafío:** for\n",
        "Realizar un programa para controlar el sistema de impresión de etiquetas con códigos de barras en un supermercado. Primero se debe ingresar la cantidad de productos diferentes que necesitan etiquetas. Luego, para cada producto, se ingresa el código a imprimir y la cantidad de veces que hay que imprimirlo. Posteriormente el programa imprimirá dicho código.\n",
        "\n",
        "![Barcode Printer](https://raw.githubusercontent.com/IEEESBITBA/Curso-Python/master/_assets/barcode_printer.jpg)\n",
        "\n",
        "Imprimir en pantalla los códigos solicitados la cantidad requerida de veces.\n",
        "\n",
        "**Ejemplo:**\n",
        "\n",
        "Las líneas indicadas con ```>>``` corresponden a *Inputs*. Las líneas sin indicaciones corresponden a *Outputs*:\n",
        "```\n",
        ">> 3 (cantidad total de productos)\n",
        ">> 000000123 (primer código)\n",
        ">> 1 (veces que hay que imprimir dicho código)\n",
        "000000123\n",
        ">> 123000789 (segundo código)\n",
        ">> 3\n",
        "123000789\n",
        "123000789\n",
        "123000789\n",
        ">> 000031416 (tercer código)\n",
        ">> 2\n",
        "000031416\n",
        "000031416\n",
        "```\n",
        "\n",
        "**Observación:**\n",
        "\n",
        "Los códigos se imprimen a medida que se ingresan, no es necesario guardar todos los códigos y sus cantidades e imprimirlos al final de la ejecución. "
      ]
    },
    {
      "cell_type": "code",
      "metadata": {
        "id": "IMk9yh638clB"
      },
      "source": [
        ""
      ],
      "execution_count": null,
      "outputs": []
    },
    {
      "cell_type": "markdown",
      "metadata": {
        "id": "aLXOt35v8dUS"
      },
      "source": [
        "## Funciones"
      ]
    },
    {
      "cell_type": "code",
      "metadata": {
        "id": "MY9LYPG68f4a",
        "colab": {
          "base_uri": "https://localhost:8080/",
          "height": 471
        },
        "outputId": "c5bc9837-6082-487c-850f-0f8d1f11873a"
      },
      "source": [
        "# Link a Youtube: https://www.youtube.com/watch?v=q63aQmf_73A&list=PL0YqVCFDPJTnJYWRxmGJsj_xJA-FfdySC&index=10\n",
        "# Tema: Funciones.\n",
        "\n",
        "from IPython.display import YouTubeVideo\n",
        "YouTubeVideo('q63aQmf_73A', width=800, height=450) "
      ],
      "execution_count": null,
      "outputs": [
        {
          "output_type": "execute_result",
          "data": {
            "text/plain": [
              "<IPython.lib.display.YouTubeVideo at 0x7f98049b2d10>"
            ],
            "text/html": [
              "\n",
              "        <iframe\n",
              "            width=\"800\"\n",
              "            height=\"450\"\n",
              "            src=\"https://www.youtube.com/embed/q63aQmf_73A\"\n",
              "            frameborder=\"0\"\n",
              "            allowfullscreen\n",
              "        ></iframe>\n",
              "        "
            ],
            "image/jpeg": "[encoded data removed]"
          },
          "metadata": {},
          "execution_count": 13
        }
      ]
    },
    {
      "cell_type": "markdown",
      "metadata": {
        "id": "2pd1RVSEeNa-"
      },
      "source": [
        "Podemos pensar que una función es como tomar un conjunto de instrucciones y empaquetarlas bajo el mismo nombre, es como un pequeño programa dentro del programa, una manera de crear nuestras propias instrucciones. Las funciones son bloques que nos permiten acortar el código, no repitiendo estructuras que necesitamos utilizar mucho. Al igual que los programas las funciones tienen un *input* y un *output*: el input son las variables de entrada y su output es el valor o valores que devuelven.\n",
        "\n",
        "Por ejemplo, supongamos que frecuentemente necesito calcular las ganancias totales generadas por cierto producto que se encuentra a la venta en mi negocio. Cada vez que quiera realizar este cálculo tendré que obtener el costo de venta, restarle el costo de fabricación y multiplicarlo por la cantidad de ventas. Usando una función puedo crear mi propia instrucción a la que se le ingrese el código de producto y devuelva el resultado. Así puedo escribir el nombre de la función cada vez que quiera hacer este cálculo sin tener que escribir nuevamente el procedimiento completo.\n",
        "\n",
        "En Python las funciones se implementan de la siguiente forma:\n",
        "\n",
        "```python\n",
        "def miFuncion( a , b , c , ...):\n",
        "    \n",
        "    #Hago lo que necesite con las variables a, b, c, ...\n",
        "    \n",
        "    return x , y , z , ...\n",
        "```\n",
        "En este ejemplo, el nombre de la función es `miFuncion`, los parámetros de entrada son las variables `a , b , c , ...` que se indican entre paréntesis, y los parámetros que la función devuelve son `x , y , z , ...` que se indican con la instrucción **return**.\n",
        "\n",
        "En el caso de que la función no necesite recibir información, los paréntesis se deben dejar vacíos. Al ejecutar la función no hay que olvidarse de escribir estos paréntesis, incluso aunque estén vacíos. Es la forma que tiene Python de diferenciar variables de funciones:"
      ]
    },
    {
      "cell_type": "code",
      "metadata": {
        "id": "XkWPNuqlu1gH",
        "outputId": "3cad83ba-4c55-4072-bd6b-63fb8959b9f2",
        "colab": {
          "base_uri": "https://localhost:8080/"
        }
      },
      "source": [
        "def saludar():\n",
        "    print( \"¡Hola! Que tengas un buen día :)\")\n",
        " \n",
        "print(\"A continuación se imprimirán tres saludos:\")\n",
        "saludar()\n",
        "saludar()\n",
        "saludar()"
      ],
      "execution_count": null,
      "outputs": [
        {
          "output_type": "stream",
          "name": "stdout",
          "text": [
            "A continuación se imprimirán tres saludos:\n",
            "¡Hola! Que tengas un buen día :)\n",
            "¡Hola! Que tengas un buen día :)\n",
            "¡Hola! Que tengas un buen día :)\n"
          ]
        }
      ]
    },
    {
      "cell_type": "markdown",
      "metadata": {
        "id": "yRkqAGfIu4tZ"
      },
      "source": [
        "Noten que no siempre es necesario poner la instrucción **return** al final de la función. En este caso la función termina cuando finaliza el bloque indentado (con sangría).\n",
        "\n",
        "Es importante tener en cuenta que la *definición* de la función no provoca ninguna acción, solamente le indica a la computadora que la próxima vez que se escriba el nombre de la función, esta debe realizar las instrucciones indicadas por la definición. En consecuencia, en preferible escribir todas las definiciones de funciones al inicio del programa, así estarán definidas para cuando se las quiera ejecutar más adelante.\n",
        "\n",
        "Veamos un ejemplo:"
      ]
    },
    {
      "cell_type": "code",
      "metadata": {
        "id": "CTdJyrrV8nFT"
      },
      "source": [
        "def suma(a, b):\n",
        "    s = a + b\n",
        "    return s\n",
        "\n",
        "z = suma(3, 4)\n",
        "print(\"3 + 4 =\", z)\n",
        "\n",
        "x = int(input(\"Ingrese el primer sumando: \"))\n",
        "y = int(input(\"Ingrese el segundo sumando: \"))\n",
        "z = suma(x, y)\n",
        "print(\"x + y =\", z)"
      ],
      "execution_count": null,
      "outputs": []
    },
    {
      "cell_type": "markdown",
      "metadata": {
        "id": "Ix_Kp3BS82qB"
      },
      "source": [
        "En este ejemplo podemos ver que los nombres que le damos a las variables de input (`a, b`) son utilizados de forma interna a la función. Cuando ejecutamos la función con los valores `3` y `4`, las variables pasan a tomar estos valores y luego se ejecutan las instrucciones correspondientes. Cuando ejecutamos la función con los parámetros `x, y` lo que sucede es que `a` y `b` copian los valores de estas variables indicadas.\n",
        "\n",
        "La instrucción **return** sirve para indicar el resultado que la función \"devuelve\". Una vez que se alcanza la instrucción **return** la función termina y devuelve el valor indicado. En general es preferible devolver información usando **return** antes que imprimirla usando **print** ya que esto permite reutilizar la función para una cantidad de casos mayor, donde no siempre quiero mostrar el resultado en pantalla, aunque queda a criterio de cada uno para lo que necesite.\n",
        "\n",
        "Al concepto de función también podemos combinarlo con las estructuras que vimos previamente:"
      ]
    },
    {
      "cell_type": "code",
      "metadata": {
        "id": "UXBXhuzV83uq"
      },
      "source": [
        "def chequarContraseña(c):\n",
        "    if c == \"Secreto\":\n",
        "        resultado = True\n",
        "    else:\n",
        "        resultado = False\n",
        "    return resultado\n",
        "\n",
        "\n",
        "ingresado = input(\"Ingrese contraseña: \")        \n",
        "while not chequarContraseña(ingresado):\n",
        "    ingresado = input(\"Contraseña incorrecta. Ingrese de nuevo:\")\n",
        "else:\n",
        "    print(\"Contraseña correcta.\")"
      ],
      "execution_count": null,
      "outputs": []
    },
    {
      "cell_type": "markdown",
      "metadata": {
        "id": "AukWcj7392fp"
      },
      "source": [
        "¿Se dieron cuenta que la forma que usamos para imprimir una variable es una función? **print**( ... ) lo que hace es llamar a una función ya creada que está en el estándar de Python y permite que mostremos el contendido que se le pase como parámetro a la función.\n",
        "\n",
        "Incluímos un anexo al final de esta clase con una explicación introductoria de funciones con recursión, una técnica algo sofisticada que en algunos casos es de gran utilidad. No es necesario leerlo, es sólo para aquel que quiera conocer más acerca de esta técnica particular.\n",
        "\n",
        "Además, al final de la clase podrán encontrar a modo de anexo, fragmentos de transmisiones en vivo de años anteriores que podrían ser de su interés.\n",
        "\n",
        "La lectura de los Anexos es **100% opcional** y NO es un requisito para continuar con el curso."
      ]
    },
    {
      "cell_type": "markdown",
      "metadata": {
        "id": "CHh19j1e934p"
      },
      "source": [
        "#### **Mini-desafío:** Funciones\n",
        "1. Escribir una función que chequee los siguientes usuarios y contraseñas:\n",
        "*  *Usuario:* Juan\n",
        "\n",
        " *Contraseña:* 12345_\n",
        "*  *Usuario:* Pablo\n",
        "\n",
        " *Contraseña:* xDcFvGbHn\n",
        "\n",
        "  La función debe recibir como parámetros el usuario y la contraseña, y debe devolver el valor True o False.\n",
        "\n",
        "\\\n",
        "2. Escribir una función que recibe un número N y retorna la cantidad de divisores del mismo.\n",
        "\n",
        "  *Ejemplos:*\n",
        "\n",
        "  `contarDivisores(9) → 3`  (El número 9 tiene 3 divisores: 1, 3, 9)\n",
        "\n",
        "  `contarDivisores(10) → 4` (El número 10 tiene 4 divisores: 1, 2, 5, 10)"
      ]
    },
    {
      "cell_type": "code",
      "metadata": {
        "id": "juRSTpgZ96qY"
      },
      "source": [
        "# Escriba aquí su código para la parte 1"
      ],
      "execution_count": null,
      "outputs": []
    },
    {
      "cell_type": "code",
      "metadata": {
        "id": "Tp3Xs8ssPyPB"
      },
      "source": [
        "# Escriba aquí su código para la parte 2"
      ],
      "execution_count": null,
      "outputs": []
    },
    {
      "cell_type": "markdown",
      "metadata": {
        "id": "ejVYjQVp-bww"
      },
      "source": [
        "# $\\color{\\green}\\blacktriangleright$ Desafío a Entregar: La conjetura del Dr. Lothar\n",
        "\n",
        "*Los desafíos se entregan mediante [esta página](https://www.hackerrank.com/2022-2c-curso-introductorio-de-python) de HackerRank. Pueden ver un instructivo acerca del uso de la plataforma en [este link](https://youtu.be/pqYSwABnS_k).*\n",
        "\n",
        "\n",
        "Escriba un programa que reciba un numero del usuario y repita el siguiente proceso usando un **while**:\n",
        "\n",
        "\n",
        "*   Si el número es par, se debe dividir por $2$.\n",
        "*   Si el número es impar, se debe multiplicar por $3$ y sumar $1$.\n",
        "\n",
        "Este proceso se repite hasta llegar al numero $1$ y luego muestra en pantalla la cantidad de pasos que tardó en llegar.\n",
        "\n",
        "\n",
        "\n",
        "**Ejemplos:**\n",
        "\n",
        "- *Input:* `6`\n",
        "\n",
        "  *Output:* `8` (Los pasos a seguir son: 6, 3, 10, 5, 16, 8, 4, 2, 1)\n",
        "\n",
        "- *Input:* `13`\n",
        "\n",
        "  *Output:* `9` (Los pasos a seguir son: 13, 40, 20, 10, 5, 16, 8, 4, 2, 1)"
      ]
    },
    {
      "cell_type": "code",
      "metadata": {
        "id": "bXeBx3vS-dvo"
      },
      "source": [
        ""
      ],
      "execution_count": null,
      "outputs": []
    },
    {
      "cell_type": "markdown",
      "metadata": {
        "id": "bpIpH79w-fNN"
      },
      "source": [
        "**Para un desafío mayor:** Resolver el problema aplicando funciones con recursión.\n",
        "\n",
        "**Dato de color:**\n",
        "* En 1937, [Lothar Collatz](https://es.wikipedia.org/wiki/Lothar_Collatz) [conjeturó](https://es.wikipedia.org/wiki/Conjetura_de_Collatz#Enunciado) que este proceso llega a 1 sin importar el número en el cual se empieza, pero hasta el día de hoy no se pudo demostrar su conjetura. Ya se comprobó usando programas de computadora que esto es verdad para todos los numeros menores que $2^{58}$. Sin embargo, no se encontró una prueba definitiva de que esta conjetura no falle para algún número más grande."
      ]
    },
    {
      "cell_type": "markdown",
      "metadata": {
        "id": "J2FkAJt9-h5D"
      },
      "source": [
        "# Ejercitación integradora $\\newcommand{\\dif}{\\bigstar}$$\\newcommand{\\facil}{\\color{\\green}{\\dif}}$ $\\newcommand{\\pieceofcake}{\\color{\\cyan}{\\dif}}$$\\newcommand{\\medio}{\\color{\\yellow}{\\dif\\dif}}$$\\newcommand{\\media}{\\medio}$$\\newcommand{\\normal}{\\medio}$  $\\newcommand{\\dificil}{\\color{\\orange}{\\dif\\dif\\dif}}$ $\\newcommand{\\imposible}{\\color{\\red}{\\dif\\dif\\dif\\dif}}$\n",
        "$\\newcommand{\\tarc}{\\large\\frown}$\n",
        "$\\newcommand{\\arc}[1]{\\stackrel{\\tarc}{#1}}$\n",
        "<head>\n",
        "<style type=\"text/css\">\n",
        "  .img{ \n",
        "    display: block;\n",
        "    margin-left:auto;\n",
        "    margin-right:auto;\n",
        "  }\n",
        "  </style>\n",
        "  </head>\n",
        "  \n",
        "A continuación les proponemos resolver algunos ejercicios integradores, este contenido servirá para poder practicar lo aprendido y de a poco acercarse a lo que podría ser una aplicación real. No se preocupen si no llegan a terminar todos, o si les cuestan más que los desafíos de la clase, es cuestión de tomarse el tiempo de leer, pensar, y probar diferentes ideas hasta que encuentren una posible solución al problema.\n",
        "\n",
        "Luego de una semana les enviaremos una copia de las soluciones que se nos ocurrieron a nosotros para resolver estos problemas y poder comparar en caso de que lo deseen."
      ]
    },
    {
      "cell_type": "markdown",
      "metadata": {
        "id": "GNGPP_3g-jtx"
      },
      "source": [
        "##$\\facil$   Cálculo de promedio \n",
        "Cálcular la nota de un alumno es una tarea cotidiana de un profesor. Esta tarea suele realizarse a mano o en excel muchas veces. En esta ocasión la haremos en Python. \n",
        "- Escribir una función que calcule el promedio de 3 notas y entrege ese valor usando **return**.\n",
        "- Reescribir la función anterior modificándola para asignar una importancia al primer examen de 20%, al segundo de 50% y al tercero de 30%.\n",
        "- Llamar a cada función anterior 3 veces con distintas notas y verificar, mediante la instrucción **if**, si el alumno aprobó en cada caso (suponga que 4 es la nota de aprobación)."
      ]
    },
    {
      "cell_type": "code",
      "metadata": {
        "id": "qzBWmoSMr5FA"
      },
      "source": [
        ""
      ],
      "execution_count": null,
      "outputs": []
    },
    {
      "cell_type": "markdown",
      "metadata": {
        "id": "JlHgattpr5nZ"
      },
      "source": [
        "##$\\facil$ Una buena e-stimación\n",
        "El número $e$ tiene inmensa utilidad para el análisis y la estadística, es una de las super-estrellas de la matemática, y su utilidad radica en que la función $e^x$  es igual a su derivada, por definición de $e$.\n",
        "\n",
        "Gracias a las series de Taylor podemos obtener la siguiente definición del número $e$:\n",
        "\n",
        "$e=1+\\frac{1}{1!}+\\frac{1}{2!}+\\frac{1}{3!}+\\frac{1}{4!}+\\frac{1}{5!}+...$\n",
        "\n",
        "Se pide obtener una aproximación del número $e$ calculando la suma de los primeros $20$ términos de esta serie.\n",
        "\n",
        "**Tips:**\n",
        "* $n! = 1\\cdot 2\\cdot 3 \\cdot\\ ...\\ \\cdot n$."
      ]
    },
    {
      "cell_type": "code",
      "metadata": {
        "id": "A6U8lCD5r7xg"
      },
      "source": [
        ""
      ],
      "execution_count": null,
      "outputs": []
    },
    {
      "cell_type": "markdown",
      "metadata": {
        "id": "FCG4dvm_sBCe"
      },
      "source": [
        "##$\\medio$   Test de primalidad \n",
        "Escribir una función que recibe un número y devuelve *True* si el número es primo y *False* en caso contrario.\n",
        "\n",
        "Mediante un *for* verificar la *primalidad* de los numeros del $1$ al $20$, es decir, decidir si cada número es primo o no.\n",
        "\n",
        "**Tips:**\n",
        "\n",
        "* Un número $N$ es primo cuando tiene exactamente $2$ divisores ($1$ y $N$).\n",
        "* Sin embargo, alcanza con verificar que no es múltiplo de ningún número entre $2$ y $\\sqrt{N}$ (recordar que $\\sqrt{N}=N^{0.5}$)\n",
        "* El numero 1 **NO** es primo."
      ]
    },
    {
      "cell_type": "code",
      "metadata": {
        "id": "OpRg2Wx_sFwX"
      },
      "source": [
        ""
      ],
      "execution_count": null,
      "outputs": []
    },
    {
      "cell_type": "markdown",
      "metadata": {
        "id": "uaYHPWM_sKiu"
      },
      "source": [
        "## $\\normal$ La leyenda de Filius Bonacci  \n",
        "\n",
        "<img class=\"img\" src=\"https://upload.wikimedia.org/wikipedia/commons/9/93/Fibonacci_spiral_34.svg\" height=\"200\" alt = \"Espiral Fibonacci\" title = \"\">\n",
        "\n",
        "Imprimir los primeros $n$ números de la [sucesión de Fibonacci](https://es.wikipedia.org/wiki/Sucesi%C3%B3n_de_Fibonacci).\n",
        "\n",
        "\n",
        "```\n",
        "0, 1, 1, 2, 3, 5, 8, 13, 21 ...\n",
        "```"
      ]
    },
    {
      "cell_type": "code",
      "metadata": {
        "id": "VxzqguLusM3P"
      },
      "source": [
        ""
      ],
      "execution_count": null,
      "outputs": []
    },
    {
      "cell_type": "markdown",
      "metadata": {
        "id": "qIsZJuw7Aeq8"
      },
      "source": [
        "## $\\normal$ Adivina adivinador\n",
        "<img class=\"img\" src=\"https://raw.githubusercontent.com/IEEESBITBA/Curso-python/master/_assets/numbers.jpg\" height=\"200\" alt = \"Akinator numérico\" title = \"Akinator\">\n",
        "\n",
        "Se rumorea que al rector de una universidad le apasiona adivinar números. Cuando se cruza a alguien, ya sean alumnos o profesores, les pide que piensen un número. Luego, intenta adivinarlo mientras el alumno le indica si el número es mayor, menor o igual al que el rector esta adivinando. \n",
        "\n",
        "Ahora les proponemos a ustedes realizar el programa que adivine un número que ustedes elijan, indicándole si los números que este propone son mayores o menores al elegido.\n",
        "\n",
        "Ustedes pensarán en un número secreto (para este ejercicio consideremos que el número es menor a 10.000), luego el programa intenta adivinarlo. El usuario debe responder con el símbolo `>`, `<` ó `=`. En el caso de ser igual, el programa termina e imprime la cantidad de intentos que tardó, caso contrario, debe volver a intentar adivinar el número y se repite el procedimiento.\n",
        "\n",
        "**Desafío:** Encontrar la estrategia que puede ejecutar la máquina para adivinar el número en la menor cantidad de intentos posible."
      ]
    },
    {
      "cell_type": "code",
      "metadata": {
        "id": "a_igtAz0Aft8"
      },
      "source": [
        ""
      ],
      "execution_count": null,
      "outputs": []
    },
    {
      "cell_type": "markdown",
      "metadata": {
        "id": "ZoySr1rHsOU2"
      },
      "source": [
        "##$\\dificil$  Dominó  \n",
        "\n",
        "El [Dominó](https://es.wikipedia.org/wiki/Domin%C3%B3) es un juego de mesa muy popular. \n",
        "En este ejercicio no vamos a programar un juego de Domino, pero sí contar sus fichas.\n",
        "<center>\n",
        "<img src=\"https://es.calcuworld.com/wp-content/uploads/sites/2/2018/04/cantidad-de-fichas-domino.jpg\" height=\"200\" alt = \"Fichas domino desparramadas sobre una mesa\">\n",
        "</center>\n",
        "\n",
        "A pesar de que el domino tradicional se juega con fichas hasta el número 6, vamos a considerar un juego de fichas de valor máximo $n$.\n",
        "\n",
        "- Escribir una función que calcule la cantidad de fichas para un juego de dominó completo con fichas que contienen hasta el número $n$.\n",
        "Nota: ¡No hay fichas repetidas! 2-4 es la misma ficha que 4-2. ¡Observar que en el dominó hay fichas con valor 0!\n",
        "\n",
        "```\n",
        "   cantidadFichas(3)\n",
        "   >>> 10\n",
        "   cantidadFichas(4)\n",
        "   >>> 15\n",
        "```\n",
        "\n",
        "- Escribir una función que muestre todas las fichas para un juego de dominó como el anterior, en cualquier orden.\n",
        "\n",
        "```\n",
        "   mostrarFichas(3)\n",
        "   >>> 0-0\n",
        "   >>> 0-1\n",
        "   >>> 0-2\n",
        "   >>> 0-3\n",
        "   >>> 1-1\n",
        "   >>> 1-2\n",
        "   >>> 1-3\n",
        "   >>> 2-2\n",
        "   >>> 2-3\n",
        "   >>> 3-3\n",
        "```\n",
        "\n",
        "- Escribir una función que, dada una cantidad de fichas, calcule cuál es el $n$ (valor máximo) de las fichas. Si el número de fichas no corresponde a la cantidad de fichas de ningún juego de dominó completo retornar -1.\n",
        "\n",
        "```\n",
        "   valorMaximo(10)\n",
        "   >>> 3\n",
        "   valorMaximo(11)\n",
        "   >>> -1\n",
        "   valorMaximo(15)\n",
        "   >>> 4\n",
        "```\n",
        "- Llamar a las funciones anteriores con distintos valores para corroborar su funcionamiento"
      ]
    },
    {
      "cell_type": "code",
      "metadata": {
        "id": "N740RGtMsRsX"
      },
      "source": [
        ""
      ],
      "execution_count": null,
      "outputs": []
    },
    {
      "cell_type": "markdown",
      "metadata": {
        "id": "KksmyxoQsSEH"
      },
      "source": [
        "##$\\dificil$ El ejercicio más integrador\n",
        "\n",
        "Se pide calcular una integral definida en un intervalo de una función genérica.\n",
        "\n",
        "En lugar de obtener un resultado exacto, realizaremos una aproximación del resultado aplicando la integral de Riemann. Para lograr esto vamos a aproximar una función mediante muchos rectángulos muy angostos. Para obtener el resultado de la integral vamos a sumar el área de todos estos rectángulos entre cierto intervalo $[a, b]$:\n",
        "\n",
        "![Riemann1](https://upload.wikimedia.org/wikipedia/commons/a/af/Riemann_Integration_4.png)\n",
        "\n",
        "Primero debemos elegir un número $\\Delta x$ cuyo valor sea muy pequeño, y que determina el ancho de los rectángulos. Comenzando del límite de integración inferior $a$ obtendremos el primer área como $f(a)\\cdot \\Delta x$, luego el siguiente área será $f(a+\\Delta x)\\cdot \\Delta x$ , el tercer área es $f(a+2\\cdot\\Delta x)\\cdot \\Delta x$ , y así se sigue mientras no se supere $b$.\n",
        "\n",
        "Al elegir un valor más chico de $\\Delta x$ se obtiene una mejor aproximación:\n",
        "\n",
        "![Riemann2](https://upload.wikimedia.org/wikipedia/commons/3/34/Riemann_Integration_5.png)\n",
        "\n",
        "Se debe programar la función *integral(f, a, b, dx)* en la cual *f* sea la función a integrar (la función *f* debe recibir como parámetro un número *x*, debe entregar el resultado usando *return*), *a* y *b* sean los límites de integración, y *dx* sea el ancho de los rectángulos.\n",
        "\n",
        "\\\n",
        "\n",
        "Para que una función reciba como parámetro otra función, simplemente se la puede tratar como a una variable más:\n",
        "\n",
        "```python\n",
        "def f1(x):\n",
        "  return 2*x + 1\n",
        " \n",
        "def f2(x):\n",
        "  return 3*x - 2\n",
        " \n",
        "def suma_de_funciones(y1, y2, x):\n",
        "  return y1(x) + y2(x)\n",
        "\n",
        "print(suma_de_funciones(f1, f2, 5))\n",
        "```\n",
        "\n",
        "**Ejemplo:**\n",
        "\n",
        "```python\n",
        "#def integral(f, a, b, dx):\n",
        "#  ...\n",
        "#  return ...\n",
        "\n",
        "def f(x):\n",
        "  return 2*x + 1\n",
        "\n",
        "# Integral desde 0 hasta 1 con pasos de 0.0001\n",
        "print( integral(f, 0, 1, 0.0001) )\n",
        "```\n",
        "\n",
        "El resultado debería ser 2, sin embargo debido a la precisión del método se obtiene:\n",
        "```\n",
        "1.9998999999999203\n",
        "```\n"
      ]
    },
    {
      "cell_type": "code",
      "metadata": {
        "id": "lYdErF5XsdPQ"
      },
      "source": [
        ""
      ],
      "execution_count": null,
      "outputs": []
    },
    {
      "cell_type": "markdown",
      "metadata": {
        "id": "V5PGinNrsbMX"
      },
      "source": [
        "##$\\dificil$ Locos por las matemáticas \n",
        "En marzo 2019, Emma Haruka Iwao, una empleada de Google, logró calcular 31,4 trillones de dígitos del famoso número pi en 121 dias usando el poder de la nube de Google. ¡Hoy ustedes pueden hacer lo mismo con la ayuda de Python!\n",
        "\n",
        "Aprovechando el descubrimiento del matemático indio Sriniviasa Ramanujan (1910) podemos emplear nuestro propio aproximador de pi.\n",
        "$$ \\frac{1}{\\pi}= \\frac{2\\sqrt{2}}{9801}\\sum_{k=0}^{\\infty} \\frac{(4k)! \\cdot (1103+26390k)}{(k!)^4 396^{4k}}$$\n",
        "\n",
        "**Tips**:\n",
        "\n",
        "* Pueden utlizar la siguiente función para calcular factoriales:\n",
        "\n",
        "```python\n",
        "def factorial(n):\n",
        "  return 1 if n <= 1 else n * factorial(n - 1)\n",
        "```\n",
        "$$\\textrm{factorial(4)}=4!=24 $$\n",
        "\n",
        "* Esto es un problema abierto. No es posible conseguir una representación decimal exacta de $\\pi$, por lo tanto solo se puede estimar.\n",
        "\n",
        "\n",
        "\n",
        "Si no estamos tan locos por la matemáticas podemos usar otras aproximaciones más simples como:\n",
        "\n",
        "$$\\pi \\approx \\frac{22}{7} \\approx \\frac{355}{113} $$\n",
        "\n",
        "Otros números famosos:\n",
        "$$e = \\sum_{k=0}^\\infty \\frac{1}{k!} \\qquad e=\\lim_{x\\rightarrow\\infty} \\left( 1+\\frac{1}{x} \\right)^x \\qquad \\varphi = \\frac{1+\\sqrt{5}}{2} $$"
      ]
    },
    {
      "cell_type": "code",
      "metadata": {
        "id": "joVjiSFksjjX"
      },
      "source": [
        ""
      ],
      "execution_count": null,
      "outputs": []
    },
    {
      "cell_type": "markdown",
      "metadata": {
        "id": "YdCgaIfxW6gx"
      },
      "source": [
        "# Anexo A: Funciones con recursión\n",
        "La lectura de los Anexos es **100% opcional** y NO es un requisito para continuar con el curso."
      ]
    },
    {
      "cell_type": "markdown",
      "metadata": {
        "id": "Htc8OdrpXHaB"
      },
      "source": [
        "A pesar de ser un curso introductorio, nos parece oportuno comentar una técnica bastante útil en programación, aunque puede ser compleja. No va a ser necesario entender esto para las proximas clases así que queda para los que estén interesados.\n",
        "\n",
        "Esta técnica es la de ejecutar una función dentro de sí misma, la técnica se llama **recursión** y se ve similar a esto:\n",
        "\n",
        "```python\n",
        "def f(a):\n",
        "  ...\n",
        "  f(b)\n",
        "  ...\n",
        "  return\n",
        "```\n",
        "\n",
        "Esta técnica puede simplificar algunas tareas, pero a la vez ser peligrosa. El riesgo de que una función se llame a sí misma es que este proceso ocurra indefinidamente, si la función \"externa\" llama a la función \"interna\", y la función \"interna\" vuelve a llamarse a sí misma, y esta vuelve a llamarse a sí misma, etc, sin frenos. Se puede pensar como unas muñecas rusas infinitas en las que cada una contiene a otra y nunca se llega a un núcleo.\n",
        "\n",
        "Es por esto que **antes** del llamado a sí misma debemos programar una condición de corte, que eventualmente detenga el proceso de recursión y cada función alcance su instrucción **return** y termine.\n",
        "\n",
        "Veamos un ejemplo clásico: Crear una función que calcule el factorial de un número. El factorial de un número $n$ es el producto de todos los números entre $1$ y $n$. Se suele denotar con un signo de exclamación, de la siguiente forma: $n! = 1\\cdot 2\\cdot 3 \\cdot\\ ...\\ \\cdot n$.\n",
        "\n",
        "Solución **sin** recursión:"
      ]
    },
    {
      "cell_type": "code",
      "metadata": {
        "id": "g5qJ3QS8-Dbp"
      },
      "source": [
        "def f(n):\n",
        "  resultado = 1\n",
        "  for x in range(1, n+1):\n",
        "    resultado *= x\n",
        "  return resultado\n",
        "\n",
        "print(\"10! =\", f(10) )"
      ],
      "execution_count": null,
      "outputs": []
    },
    {
      "cell_type": "markdown",
      "metadata": {
        "id": "__i5wtf1-R16"
      },
      "source": [
        "Para resolver el problema aplicando recursión podemos observar que el factorial de $n$ se puede obtener a partir del factorial de $n-1$:\n",
        "\n",
        "$n! = n\\cdot (n-1)!$\n",
        "\n",
        "Además si $n$ es menor o igual a 2, entonces $n!=n$\n",
        "\n",
        "Aplicando esta reducción del problema, y la condición de corte, podemos llegar a la siguiente implementación:"
      ]
    },
    {
      "cell_type": "code",
      "metadata": {
        "id": "CpwQiV7v-Tgw"
      },
      "source": [
        "def f(n):\n",
        "  if n <= 2:\n",
        "    return n\n",
        "  else:\n",
        "    return n * f( n-1 )\n",
        "\n",
        "print(\"10!\", f(10) )"
      ],
      "execution_count": null,
      "outputs": []
    },
    {
      "cell_type": "markdown",
      "metadata": {
        "id": "roHPwJu7-WXk"
      },
      "source": [
        "En este ejemplo simple, no parece que usar recursión aporte mucho, pero la técnica es muy útil en problemas más complejos como algoritmos de ordenamiento, de búsqueda, entre otros."
      ]
    },
    {
      "cell_type": "markdown",
      "metadata": {
        "id": "07Woo6P88xaC"
      },
      "source": [
        "# Anexo B: Tips extra de Python\n",
        "La lectura de los Anexos es **100% opcional** y NO es un requisito para continuar con el curso."
      ]
    },
    {
      "cell_type": "markdown",
      "metadata": {
        "id": "OEYA5gQv8-9d"
      },
      "source": [
        "A continuación les dejamos un fragmento de una transmisión en vivo de años anteriores, en la cual se explican diversos trucos y funciones que tiene Python, los cuales no fueron abordados en la clase pero que pueden serles de utilidad en ciertos casos.\n",
        "\n",
        "Temas:\n",
        "* Tips para usar *print( )*.\n",
        "* Control de flujo en una sola línea.\n",
        "* Operadores ternarios.\n",
        "* break, continue, pass."
      ]
    },
    {
      "cell_type": "code",
      "metadata": {
        "colab": {
          "base_uri": "https://localhost:8080/",
          "height": 471
        },
        "id": "GrgT__hs8-9f",
        "outputId": "8f8f96f0-5de7-4085-dff5-63fcd2a439ac"
      },
      "source": [
        "# Link a Youtube: https://www.youtube.com/watch?v=fBxP413Nxk4\n",
        "\n",
        "from IPython.display import YouTubeVideo\n",
        "YouTubeVideo('fBxP413Nxk4', start=1685, end=3316, width=800, height=450)"
      ],
      "execution_count": null,
      "outputs": [
        {
          "output_type": "execute_result",
          "data": {
            "text/html": [
              "\n",
              "        <iframe\n",
              "            width=\"800\"\n",
              "            height=\"450\"\n",
              "            src=\"https://www.youtube.com/embed/fBxP413Nxk4?start=1685&end=3316\"\n",
              "            frameborder=\"0\"\n",
              "            allowfullscreen\n",
              "        ></iframe>\n",
              "        "
            ],
            "text/plain": [
              "<IPython.lib.display.YouTubeVideo at 0x7f461fee2d10>"
            ],
            "image/jpeg": "[encoded data removed]"
          },
          "metadata": {
            "tags": []
          },
          "execution_count": 4
        }
      ]
    },
    {
      "cell_type": "markdown",
      "metadata": {
        "id": "KtOaSVom8PDW"
      },
      "source": [
        "# Anexo C: Caso de aplicación de Python a la Ingeniería Electrónica\n",
        "La lectura de los Anexos es **100% opcional** y NO es un requisito para continuar con el curso."
      ]
    },
    {
      "cell_type": "markdown",
      "metadata": {
        "id": "QZGhJr1C8ezN"
      },
      "source": [
        "A continuación les dejamos un fragmento de una transmisión en vivo de años anteriores, en la cual se relata un caso de aplicación de Python a la Ingeniería Electrónica."
      ]
    },
    {
      "cell_type": "code",
      "metadata": {
        "colab": {
          "base_uri": "https://localhost:8080/",
          "height": 471
        },
        "id": "i9o4zdoy8zyf",
        "outputId": "06934abf-feb4-4ebc-9ed1-5eef670e1677"
      },
      "source": [
        "# Link a Youtube: https://www.youtube.com/watch?v=fBxP413Nxk4\n",
        "\n",
        "from IPython.display import YouTubeVideo\n",
        "YouTubeVideo('fBxP413Nxk4', start=269, end=900, width=800, height=450)"
      ],
      "execution_count": null,
      "outputs": [
        {
          "output_type": "execute_result",
          "data": {
            "text/html": [
              "\n",
              "        <iframe\n",
              "            width=\"800\"\n",
              "            height=\"450\"\n",
              "            src=\"https://www.youtube.com/embed/fBxP413Nxk4?start=269&end=900\"\n",
              "            frameborder=\"0\"\n",
              "            allowfullscreen\n",
              "        ></iframe>\n",
              "        "
            ],
            "text/plain": [
              "<IPython.lib.display.YouTubeVideo at 0x7f461fee2550>"
            ],
            "image/jpeg": "[encoded data removed]"
          },
          "metadata": {
            "tags": []
          },
          "execution_count": 3
        }
      ]
    }
  ]
}