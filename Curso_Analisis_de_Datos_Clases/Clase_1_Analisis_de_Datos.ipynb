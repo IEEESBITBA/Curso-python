{
  "nbformat": 4,
  "nbformat_minor": 0,
  "metadata": {
    "colab": {
      "name": "Clase 1 - Analisis de Datos.ipynb",
      "provenance": [],
      "collapsed_sections": [],
      "toc_visible": true
    },
    "kernelspec": {
      "name": "python3",
      "display_name": "Python 3"
    }
  },
  "cells": [
    {
      "cell_type": "markdown",
      "metadata": {
        "id": "-0006-epnUur"
      },
      "source": [
        "## Bienvenidos al Curso de Análisis de Datos en Python!\n",
        "Hola! Somos estudiantes voluntarios en la rama estudiantil IEEE del Instituto Tecnológico de Buenos Aires y organizamos este curso de Análisis de Datos en Python gratuito y abierto al público general.\n",
        "\n",
        "\\\n",
        "<img height=\"150\" src=\"https://raw.githubusercontent.com/IEEESBITBA/Curso-python/master/_assets/logo-oficial.png\">\n",
        "\n",
        "\\\n",
        "\\\n",
        "Este curso forma parte de una serie de cursos que ofrecemos, la cual tiene como objetivo principal aprender lo suficiente para automatizar tareas comunes, manipular archivos y hojas de datos de manera eficiente, y representar información gráficamente de manera sencilla. Todas estas tareas pueden ser realizadas usando programación sin necesidad de convertirse en un experto del tema.\n",
        "\n",
        "El contenido de este curso introductorio está orientado hacia aquellos que tienen conocimientos básicos sobre programación en Python (tales como tipos de datos, funciones y estructuras de datos). Se verán conceptos y temas fundamentales acerca de librerías, lectura de archivos y análisis y representación de datos, poniendo en práctica lo aprendido mediante desafíos interactivos y ejercicios prácticos.\n",
        "\n",
        "\n",
        "\\\n",
        "El curso consiste en 2 clases, los temas y conceptos a cubrir son los siguientes:\n",
        "\n",
        "\n",
        "**Clase 1 :**\n",
        "*     Introducción a librerías (repaso).\n",
        "*     Lectura y escritura de archivos formato Excel y CSV.\n",
        "*     Manipulación de datos con Pandas.\n",
        "\n",
        "**Clase 2 :**\n",
        "*     Introducción a matplotlib.\n",
        "*     Visualización de datos.\n",
        "*     Personalización de los gráficos.\n",
        "\n",
        "\\\n",
        "\n",
        "En nuestro esmero por proveer un curso adaptable y flexible a la disponibilidad de la mayor cantidad de personas, se optó por una modalidad \"semi-sincrónica\", en la cual los participantes lleven adelante un ritmo similar, pero que dentro de cada semana puedan dedicar su tiempo de la forma que prefieran.\n",
        "\n",
        "Las clases serán publicadas semanalmente y estarán compuestas de videos y textos complementarios como también desafíos prácticos para pensar y resolver. Entre clase y clase tendrán una semana para leer, ver los videos, practicar, y conversar con sus compañeros. El fin de semana entre clase y clase habrá un Livestream donde podrán sacarse las dudas que tengan.\n",
        "\n",
        "¡No dejen pasar la oportunidad de resolver los desafíos! Son una gran oportunidad para comprender realmente lo que acaban de ver y practicar, algunos son fáciles y otros difíciles así que no se desanimen si tarda en llegar la idea para resolverlos, ya que ese es el punto, desafiarse!\n",
        "\n",
        "La ejercitación integradora incluye muchos más ejercicios al final de la clase, en este caso no es crucial terminarlos todos, pero sí les recomendamos hacer los que puedan y de acuerdo al tiempo del que dispongan ya que creemos que la puesta en práctica de los conocimientos es la mejor manera de aprender.\n",
        "\n",
        "\\\n",
        "**Certificado:** Para obtener un certificado de finalización del curso se debe completar exitosamente el **cuestionario de fin de curso**, el cual se les habilitará durante la última semana de clase. Este cuestionario consta de preguntas sobre los temas que verán en el curso, y se tienen múltiples intentos para entregarlo. Los detalles respecto al formulario se informarán junto con el mail que recibirán al habilitar el cuestionario el 17/10.\n",
        "\n",
        "\\\n",
        "**Comunicación:** Si no lo hicieron ya deben unirse a nuestro servidor de Discord para recibir todos los anuncios del curso. El link al mismo se envió por mail (revisar las carpetas SPAM y PROMOCIONES). Allí pueden conversar con otros participantes del curso, y hacer todas las consultas que deseen, por más elementales que puedan ser. Están invitados a participar y ayudar a sus compañeros, además los distintos ayudantes del curso intentaremos ayudarlos con sus consultas, y las que no hayan podido ser respondidas durante la semana se podrán consultar en los Livestreams.\n",
        "\n",
        "\\\n",
        "\n",
        "**Livestream:** Las transmisiones en vivo serán los días sábados de 19 a 20 hs (horario argentino), allí se responderan las dudas y problemáticas más usuales o concurridas, estos quedarán grabados en caso de que no hayan podido verlo en vivo o quieran volver a verlo. El Livestream aparecerá disponible los días y horarios correspondientes en [nuestro canal de Youtube](https://www.youtube.com/channel/UCpWHvOSiPtDIwIw8Tb_9g6A).\n",
        "\n",
        "\\\n",
        "\n",
        "**Nota 1:** Para poder guardar los ejercicios que resuelvan les recomendamos guardar una copia del documento en su Google Drive. La próxima vez que quieran entrar a la clase y mantener su progreso pueden acceder desde su carpeta de Drive, en lugar de usar el link original.\n",
        "\n",
        "\n",
        "<img height=\"300\" src=\"https://raw.githubusercontent.com/IEEESBITBA/Curso-python/master/_assets/guardar_copia_en_drive.png\">\n",
        "\n",
        "\\\n",
        "\n",
        "**Nota 2:** Si alguno de los videos no les aparece por defecto, deberán ejecutar las celdas de código en la que se encuentra ese video y luego reproducirlo. Para ejecutar una celda, tienen que clickear sobre el botón superior izquierdo del bloque en que se encuentra el código.\n",
        "Cada video tratará los temas explicados en la clase. Asimismo estos se complementan con la información escrita del curso.\n",
        "\n",
        "\\\n",
        "¡Esperamos que les sirva!\n",
        "\n",
        "El material es de libre distribución bajo la licencia [Creative Commons](https://creativecommons.org) CC-BY-NC-SA."
      ]
    },
    {
      "cell_type": "markdown",
      "metadata": {
        "id": "E1MRGV5I7GfW"
      },
      "source": [
        "# Clase 1"
      ]
    },
    {
      "cell_type": "markdown",
      "metadata": {
        "id": "giUteLvz9PY4"
      },
      "source": [
        "## Introducción al Análisis de Datos\n",
        "\n",
        "Ya sea mediante formularios web, datos analíticos en redes sociales, instrumentos científicos de medición, registros de ventas en un comercio, o de muchas otras formas, cada vez más las personas tienen acceso a grandes volúmenes de datos.\n",
        "\n",
        "Sin embargo, rara vez alcanza con la recopilación de datos, estos deben ser procesados y analizados para poder extraer la información relevante y obtener conclusiones a partir de ellos. Por otro lado, estos resultados deben poder ser visualizados de forma que puedan ser interpretados por una persona.\n",
        "\n",
        "Podemos entonces empezar a discernir algunos de los pasos que formarán parte del proceso de análisis de datos:\n",
        "\n",
        "- Recopilación de datos\n",
        "- Acondicionamiento / Limpieza\n",
        "- Análisis / Procesamiento\n",
        "- Visualización de resultados\n",
        "\n",
        "En este curso vamos a ver una introducción a los últimos 3 puntos, mientras que la tarea de recopilación de datos será específica a su tarea particular, dada la enorme cantidad de posibles métodos de recopilación de datos.\n",
        "\n",
        "Para lograr abarcar a la mayor cantidad de aplicaciones, en este curso nos focalizamos en la obtención de datos mediante archivos de **hojas de cálculo** (como Excel y CSV). Otros posibles métodos podrían incluír archivos JSON, HDF ó bases de datos (como por ejemplo SQL). Además, una vez que aprenden a utilizar una librería para esta tarea, luego pueden empezar a utilizar todo tipo de librerías para manejar los archivos que necesiten.\n",
        "\n",
        "<img src=\"https://icons-for-free.com/iconfiles/png/512/document+file+page+paper+programming+icon-1320165844326114116.png\" width=300>\n",
        "\n",
        "Esta clase resulta ser para muchos estudiantes más difícil que otras. Les recomendamos tener paciencia con los ejercicios y animarse a probar sus ideas aunque no funcionen. Si un problema es difícil, sugerimos probar de simplificar el problema o de resolver sólo una parte del total, antes de seguir intentando. Como siempre, los desafíos no se resuelven siendo un experto, sino con **perseverancia**, **colaboración con compañeros** y **prueba y error**."
      ]
    },
    {
      "cell_type": "markdown",
      "metadata": {
        "id": "Z9i5-cpq2Cxg"
      },
      "source": [
        "# Librerías\n",
        "\n"
      ]
    },
    {
      "cell_type": "code",
      "metadata": {
        "id": "ZUCgY1J6GIoI",
        "colab": {
          "base_uri": "https://localhost:8080/",
          "height": 471
        },
        "outputId": "85fa0425-63fb-4a1c-e26e-80199fd3a47b"
      },
      "source": [
        "# Link a Youtube: \n",
        "#Tema: Librerías: concepto, instalación, importación y ejemplos. \n",
        "\n",
        "from IPython.display import YouTubeVideo\n",
        "YouTubeVideo('lDgVyauKnu8', width=800, height=450)       #Video Librerías"
      ],
      "execution_count": null,
      "outputs": [
        {
          "output_type": "execute_result",
          "data": {
            "text/html": [
              "\n",
              "        <iframe\n",
              "            width=\"800\"\n",
              "            height=\"450\"\n",
              "            src=\"https://www.youtube.com/embed/lDgVyauKnu8\"\n",
              "            frameborder=\"0\"\n",
              "            allowfullscreen\n",
              "        ></iframe>\n",
              "        "
            ],
            "text/plain": [
              "<IPython.lib.display.YouTubeVideo at 0x7f10924cfa90>"
            ],
            "image/jpeg": "[encoded data removed]"
          },
          "metadata": {
            "tags": []
          },
          "execution_count": 3
        }
      ]
    },
    {
      "cell_type": "markdown",
      "metadata": {
        "id": "AqctVwVr3BGh"
      },
      "source": [
        "# Archivos .xlsx .csv (Información estructurada)\n",
        "\n",
        "\n",
        "\n",
        "[Pandas](https://pandas.pydata.org) es una librería muy popular en los últimos tiempos que nos permite, entre otras cosas, sistematizar con unas pocas funciones la conversión de un archivo de información en los tipos de datos que Python maneja. En esta clase la utilizaremos para poder leer archivos con información en columnas, tales como los formatos **excel** o **csv**.\n",
        "\n",
        "<img src=\"https://upload.wikimedia.org/wikipedia/commons/thumb/e/ed/Pandas_logo.svg/1200px-Pandas_logo.svg.png\" width=600px>\n",
        "\n",
        "\n",
        "\n"
      ]
    },
    {
      "cell_type": "markdown",
      "metadata": {
        "id": "M9T2nn7qlvCQ"
      },
      "source": [
        "## Lectura de archivos .xlsx .csv\n",
        "\n"
      ]
    },
    {
      "cell_type": "code",
      "metadata": {
        "id": "S6goEchtGd6P",
        "colab": {
          "base_uri": "https://localhost:8080/",
          "height": 471
        },
        "outputId": "6907a0d6-81fc-4b1b-8bc8-4eca78c0dc5a"
      },
      "source": [
        "# Link a Youtube: \n",
        "# Tema: Manejo de Archivos con pandas. \n",
        "\n",
        "from IPython.display import YouTubeVideo\n",
        "YouTubeVideo('F1Uby9d5hes', width=800, height=450)"
      ],
      "execution_count": null,
      "outputs": [
        {
          "output_type": "execute_result",
          "data": {
            "text/html": [
              "\n",
              "        <iframe\n",
              "            width=\"800\"\n",
              "            height=\"450\"\n",
              "            src=\"https://www.youtube.com/embed/F1Uby9d5hes\"\n",
              "            frameborder=\"0\"\n",
              "            allowfullscreen\n",
              "        ></iframe>\n",
              "        "
            ],
            "text/plain": [
              "<IPython.lib.display.YouTubeVideo at 0x7fe64d256890>"
            ],
            "image/jpeg": "[encoded data removed]"
          },
          "metadata": {},
          "execution_count": 2
        }
      ]
    },
    {
      "cell_type": "markdown",
      "metadata": {
        "id": "mj0twLv6Grdv"
      },
      "source": [
        "A continuación mostraremos un ejemplo donde se accede a la información de un archivo utilizando *pandas*. El archivo que leeremos se llama **Datos.xlsx**, normalmente desde nuestra computadora podremos acceder a los archivos locales mediante su ubicación en el disco. Colab requiere cargar los archivos a su entorno antes de poder usarlos, lo cual se puede realizar mediante el siguiente comando que descarga un archivo de internet:"
      ]
    },
    {
      "cell_type": "code",
      "metadata": {
        "id": "pJqU8NbcdnFh"
      },
      "source": [
        "# Comando wget. Solo para maquinas Linux. Colab usa linux!\n",
        "! wget \"https://raw.githubusercontent.com/IEEESBITBA/Curso-Python/master/Curso_Analisis_de_Datos_Datos/Datos.xlsx\"\n",
        "\n",
        "\n",
        "# Si no estamos en un entorno linux podemos definir nuestra propia wget\n",
        "# Esta función nos ayuda a descargar archivos desde la web y no es necesaria para archivos locales\n",
        "# No es necesario entender cómo funciona, se las mostramos sólo por si alguno llega a necesitarla\n",
        "\n",
        "# Importamos la libreria requests\n",
        "import requests\n",
        "\n",
        "def wget(url):\n",
        "    r = requests.get(url, allow_redirects=True)\n",
        "    with open(url[url.rfind('/') + 1::], 'wb') as f:\n",
        "        f.write(r.content)\n",
        "\n",
        "wget(\"https://raw.githubusercontent.com/IEEESBITBA/Curso-Python/master/Curso_Analisis_de_Datos_Datos/Datos.xlsx\")\n"
      ],
      "execution_count": null,
      "outputs": []
    },
    {
      "cell_type": "markdown",
      "metadata": {
        "id": "8yyXIgzOdmbh"
      },
      "source": [
        "La función que utilizaremos para cargar los datos del archivo se llama [read_excel()](https://pandas.pydata.org/pandas-docs/stable/reference/api/pandas.read_excel.html). Esta función recibe como parámetro el nombre del archivo deseado. También existe la función [read_csv()](https://pandas.pydata.org/pandas-docs/stable/reference/api/pandas.read_csv.html) y tiene un funcionamiento muy similar."
      ]
    },
    {
      "cell_type": "code",
      "metadata": {
        "id": "rNtLWy_c3ibR"
      },
      "source": [
        "import pandas as pd\n",
        "\n",
        "archivo = pd.read_excel(\"Datos.xlsx\") \n",
        "# La variable archivo es de un tipo de dato especial de pandas llamado 'DataFrame'\n",
        "print(archivo)"
      ],
      "execution_count": null,
      "outputs": []
    },
    {
      "cell_type": "markdown",
      "metadata": {
        "id": "8rDJQH9bOIdt"
      },
      "source": [
        "En el ejemplo, la variable `archivo` no es de un tipo estándar de Python, sino que la librería Pandas define su propio tipo de variables. Este tipo es llamado **DataFrame** y como cualquier otro tipo, tiene sus propios métodos y características los cuales se pueden ver en la [documentación de Pandas](https://pandas.pydata.org/docs/reference/api/pandas.DataFrame.html).\n",
        "\n",
        "Una forma de utilizar la información que almacenamos en la variable de tipo *DataFrame*, es convertirla en un tipo conocido. Para esto podemos convertirla a un diccionario usando el método [to_dict()](https://pandas.pydata.org/pandas-docs/stable/reference/api/pandas.DataFrame.to_dict.html). Esta función recibe como parámetro el tipo de diccionario deseado, dependiendo de qué forma es preferible para organizar la información.\n",
        "\n",
        "Los diseñadores de pandas les pusieron los siguientes nombres a distintos tipos de diccionarios:\n",
        "*dict*, *list*, *series*, *split*, *records*, *index*\n",
        "\n",
        "Vamos a ver algunos de estos tipos de diccionarios que son útiles:\n",
        "\n"
      ]
    },
    {
      "cell_type": "code",
      "metadata": {
        "id": "e1FhDtaiN7ch"
      },
      "source": [
        "import pandas as pd\n",
        "\n",
        "archivo = pd.read_excel(\"Datos.xlsx\") \n",
        "data = archivo.to_dict(\"list\") \n",
        "# \"list\" significa que vamos a almacenar a cada columna como una lista con su contenido\n",
        "\n",
        "print(data)\n",
        "print(data['Nombre'])     # Accedemos a los datos de una columna\n",
        "print(data['Nombre'][2])  # Accedemos al índice 2 de la columna 'Nombres'"
      ],
      "execution_count": null,
      "outputs": []
    },
    {
      "cell_type": "markdown",
      "metadata": {
        "id": "wPpcHbNL3kig"
      },
      "source": [
        "El parámetro \"list\" sirve para crear un diccionario donde en cada elemento la *clave* es el nombre de la columna y el *contenido* es una lista con los items de la columna correspondiente.\n",
        "\n",
        "Cambiando el parámetro \"list\" por \"records\" de la función **to_dict()** podemos obtener una lista. Cada elemento de la lista es un diccionario. Cada uno de los diccionarios en la lista corresponde a una fila de la hoja de datos, en donde para cada elemento la *clave* es el nombre de la columna mientras que el *contenido* es 1 solo dato, el dato de la columna y fila correspondiente."
      ]
    },
    {
      "cell_type": "code",
      "metadata": {
        "id": "HX3WZ8AJ3meh"
      },
      "source": [
        "import pandas as pd\n",
        "\n",
        "archivo = pd.read_excel(\"Datos.xlsx\") \n",
        "\n",
        "data = archivo.to_dict(\"records\") \n",
        "# \"records\" significa que vamos a obtener el contenido separado por cada fila\n",
        "\n",
        "print(data)\n",
        "print(data[2])            # Accedemos a los datos de una fila\n",
        "print(data[2]['Nombre'])  # Accedemos a la columna 'Nombres' de la fila con índice 2"
      ],
      "execution_count": null,
      "outputs": []
    },
    {
      "cell_type": "markdown",
      "metadata": {
        "id": "1y_W3XCo3oOg"
      },
      "source": [
        "A veces es necesario \"indexar\" el archivo por alguna columna en particular, en estos casos \n",
        "podemos agregar un parámetro *index_col* con el nombre de la columna que servirá de índice para los datos.\n",
        "Es importante notar que la columna seleccionada no puede tener valores repetidos, ya que los datos de esta columna serán las claves del diccionario generado."
      ]
    },
    {
      "cell_type": "code",
      "metadata": {
        "id": "_z9zIZpW3pnx"
      },
      "source": [
        "import pandas as pd\n",
        "\n",
        "# Indicamos que la columna de indexación será apellido.\n",
        "archivo = pd.read_excel(\"Datos.xlsx\", index_col =\"Apellido\") \n",
        "print(archivo)\n",
        "\n",
        "data = archivo.to_dict(\"index\") \n",
        "# \"index\" significa que vamos a obtener el contenido como diccionarios \n",
        "# donde la clave es algun campo de cada fila, en este caso la clave de los \n",
        "# diccionarios será la clave \"Apellido\"\n",
        "\n",
        "# convertimos el tipo de dato de pandas a un dict de python\n",
        "\n",
        "print(data)\n",
        "print(data['Martinez'])           # Accedemos a los datos de una fila (usando el dato de índice apropiado)\n",
        "print(data['Martinez']['Legajo']) # Accedemos a la columna 'Legajo' de la fila con índice 'Martinez'"
      ],
      "execution_count": null,
      "outputs": []
    },
    {
      "cell_type": "markdown",
      "metadata": {
        "id": "0yk55xnGUO1U"
      },
      "source": [
        "Todo esto de hablar de filas y de columnas, crear diccionarios de listas, listas de diccionarios, es un poco confuso. Este es un buen momento para detenerse a revisar bien la estructura de datos que genera cada uno de los códigos anteriores. Es normal que si aprendieron a usar listas y diccionarios recientemente, todavía no sea muy fácil conceptualizar los tipos de datos anteriores y pensar en cuál conviene utilizar o cómo acceder al dato que necesito. La realidad es que hay que ganar un poco de práctica y cada vez se vuelve más simple, luego van a poder concentrarse en el proyecto que quieren crear y no tener que pensar cada detalle de listas y diccionarios."
      ]
    },
    {
      "cell_type": "markdown",
      "metadata": {
        "id": "Ve8-YdUyagnD"
      },
      "source": [
        "### Mini desafío 1.A\n",
        "Leer el archivo **Tabla1.xlsx** que contiene los puntos de un campeonato. El archivo tiene cuatro columnas, **Equipo**, **Puntos**, **Goles a favor** y **Goles en contra**. Determinar de cada equipo la diferencia de gol (goles a favor - goles en contra), y mostrar todas las diferencias de gol usando **print**."
      ]
    },
    {
      "cell_type": "code",
      "metadata": {
        "id": "efoMZn5096BH"
      },
      "source": [
        " ! wget \"https://raw.githubusercontent.com/IEEESBITBA/Curso-Python/master/Curso_Analisis_de_Datos_Datos/Tabla1.xlsx\""
      ],
      "execution_count": null,
      "outputs": []
    },
    {
      "cell_type": "code",
      "metadata": {
        "id": "a1plv4Mz96VO"
      },
      "source": [
        ""
      ],
      "execution_count": null,
      "outputs": []
    },
    {
      "cell_type": "markdown",
      "metadata": {
        "id": "XjqvtRgg8LRG"
      },
      "source": [
        "### Mini desafío 1.B - Challenge\n",
        "\n",
        "Leer el archivo **Tabla1.xlsx** que contiene los puntos de un campeonato y determinar qué equipo es el campeón (**1ro**) y perdedor (**último**). El archivo tiene cuatro columnas, **Equipo**, **Puntos**, **Goles a favor** y **Goles en contra**."
      ]
    },
    {
      "cell_type": "code",
      "metadata": {
        "id": "wecPHKih98Pg"
      },
      "source": [
        ""
      ],
      "execution_count": null,
      "outputs": []
    },
    {
      "cell_type": "markdown",
      "metadata": {
        "id": "4TozN7UY31fw"
      },
      "source": [
        "## Escritura de archivos .xlsx .csv\n",
        "\n",
        "\n",
        "\n",
        "\n"
      ]
    },
    {
      "cell_type": "code",
      "metadata": {
        "id": "no3rMBM7G7at",
        "colab": {
          "base_uri": "https://localhost:8080/",
          "height": 471
        },
        "outputId": "15dbd23a-91bc-4e21-b19b-fee0acadb93c"
      },
      "source": [
        "# Link a Youtube: \n",
        "#Tema: Manejo de DataFrames. \n",
        "\n",
        "from IPython.display import YouTubeVideo\n",
        "YouTubeVideo('56YRK_cphSU', width=800, height=450)       "
      ],
      "execution_count": null,
      "outputs": [
        {
          "output_type": "execute_result",
          "data": {
            "text/html": [
              "\n",
              "        <iframe\n",
              "            width=\"800\"\n",
              "            height=\"450\"\n",
              "            src=\"https://www.youtube.com/embed/56YRK_cphSU\"\n",
              "            frameborder=\"0\"\n",
              "            allowfullscreen\n",
              "        ></iframe>\n",
              "        "
            ],
            "text/plain": [
              "<IPython.lib.display.YouTubeVideo at 0x7f10924cff98>"
            ],
            "image/jpeg": "[encoded data removed]"
          },
          "metadata": {
            "tags": []
          },
          "execution_count": 5
        }
      ]
    },
    {
      "cell_type": "markdown",
      "metadata": {
        "id": "mgZcMgbqHCKG"
      },
      "source": [
        "Es posible escribir archivos con pandas utilizando el comando [to_excel()](https://pandas.pydata.org/pandas-docs/stable/reference/api/pandas.DataFrame.to_excel.html). Este método recibe el tipo de datos de pandas llamado *DataFrame* por lo cual deberemos realizar una conversión con el método del mismo nombre: [DataFrame()](https://pandas.pydata.org/pandas-docs/stable/reference/api/pandas.DataFrame.html).\n",
        "\n",
        "A continuación mostraremos un ejemplo que genera la siguiente estructura de datos:\n",
        "\n",
        "|   |     Personas     | Edad |\n",
        "|---|:----------------:|-----:|\n",
        "| 0 |  Analía Ferreyra |   25 |\n",
        "| 1 |    Martin Hugo   |   35 |\n",
        "| 2 | Fernando Lorenzo |   87 |\n"
      ]
    },
    {
      "cell_type": "code",
      "metadata": {
        "id": "ttd4RpTy39FL"
      },
      "source": [
        "import pandas as pd\n",
        "\n",
        "# La clave es el titulo de la columna y el contenido son listas con los items de cada columna\n",
        "data = {\n",
        "    \"Personas\" : [\"Analía Ferreyra\" , \"Martin Hugo\", \"Fernando Lorenzo\"],\n",
        "    \"Edad\" : [25, 35, 87] \n",
        "}\n",
        "\n",
        "# Con pd.DataFrame podemos generar una variable tipo DataFrame\n",
        "# Recordemos que DataFrame es el tipo de dato que usa pandas\n",
        "dataFrame = pd.DataFrame(data) \n",
        "\n",
        "print(dataFrame)\n",
        "\n",
        "# Exportamos la información a un archivo llamado \"personas.xlsx\"\n",
        "dataFrame.to_excel(\"personas.xlsx\") "
      ],
      "execution_count": null,
      "outputs": []
    },
    {
      "cell_type": "markdown",
      "metadata": {
        "id": "nyEP-rLYJlbm"
      },
      "source": [
        "El archivo que genera el programa anterior tiene el siguiente aspecto:\n",
        "\n",
        "<img src=\"https://raw.githubusercontent.com/IEEESBITBA/Curso-Python/master/_assets/colab_archivos_3.png\" width=400>\n",
        "\n",
        "En Google Colab el archivo queda guardado en la pestaña *Archivos*. Si usan un entorno de desarrollo distinto el archivo será guardado en su disco de la computadora. Para ver el archivo generado pueden seguir los siguientes pasos:\n",
        "\n",
        "<img src=\"https://raw.githubusercontent.com/IEEESBITBA/Curso-Python/master/_assets/colab_archivos_2.png\" width=400>\n",
        "\n",
        "\n"
      ]
    },
    {
      "cell_type": "markdown",
      "metadata": {
        "id": "f-IyPLyv3eKi"
      },
      "source": [
        "## Manipulación de DataFrames\n"
      ]
    },
    {
      "cell_type": "markdown",
      "metadata": {
        "id": "0bG4eyBmHIu2"
      },
      "source": [
        "Además de poder convertir los datos de un archivo a una estructura de datos nativa de Python, como listas y diccionarios, Pandas tiene la posibilidad de trabajar directamente sobre un *DataFrame* usando operaciones y métodos particulares. Sería muy aburrido explicar cada uno de ellos en detalle ya que varios son muy específicos, pero podrían ser la solución perfecta para un problema muy particular. A continuación veremos las operaciones más utilizadas, confiando en que si llegan a necesitar realizar operaciones más complejas puedan encontrarlas en la [documentación de pandas](https://pandas.pydata.org/pandas-docs/stable/reference/api/pandas.DataFrame.html) o foros como StackOverflow."
      ]
    },
    {
      "cell_type": "code",
      "metadata": {
        "id": "yYH9Zaq13m4T"
      },
      "source": [
        "import pandas as pd\n",
        "\n",
        "# Volvemos a abrir el archivo que fue utilizado anteriormente:\n",
        "datos = pd.read_excel(\"Datos.xlsx\") \n",
        "print(datos)"
      ],
      "execution_count": null,
      "outputs": []
    },
    {
      "cell_type": "markdown",
      "metadata": {
        "id": "Hv008YkD4xbm"
      },
      "source": [
        "Usualmente necesitamos acceder a los datos dispuestos en las columnas esto se hace de forma similar a un diccionario, la forma es la siguiente:"
      ]
    },
    {
      "cell_type": "code",
      "metadata": {
        "id": "ywvdqmgz4whY"
      },
      "source": [
        "# Recordar que -datos- es un DataFrame, no un diccionario.\n",
        "# Pero su uso es similar:\n",
        "\n",
        "columna = 'Quimica'\n",
        "print(datos[columna])"
      ],
      "execution_count": null,
      "outputs": []
    },
    {
      "cell_type": "markdown",
      "metadata": {
        "id": "pt6ECixK5Un9"
      },
      "source": [
        "Podemos ver que a diferencia de un diccionario, al mostrar una columna de la tabla usando print() aparece información adicional, como el indice de cada fila, el nombre de la columna y el tipo de dato.\n",
        "\n",
        "Otra tarea común es acceder a una fila en particular, en el ejemplo sería acceder a un alumno en particular. Se puede lograr de la siguiente forma:"
      ]
    },
    {
      "cell_type": "code",
      "metadata": {
        "id": "CR0RNXUm5kv8"
      },
      "source": [
        "indice = 0\n",
        "alumno = datos.loc[indice] \n",
        "print(alumno)"
      ],
      "execution_count": null,
      "outputs": []
    },
    {
      "cell_type": "markdown",
      "metadata": {
        "id": "ezDd8V7f59vn"
      },
      "source": [
        "*¿Por qué se usa .loc[indice] en vez de directamente usar corchetes?*\n",
        "\n",
        "Normalmente se intenta que los operadores siempre signifiquen lo mismo, de forma que los corchetes deberían servir para acceder a un elemento, pero en este caso los corchetes ya se utilizan para acceder a una columna como en el ejemplo anterior, por lo cual se debe usar un operador distinto para acceder a una fila, o serían indistinguibles.\n",
        "\n",
        "Veamos ahora cómo se puede acceder a un dato en particular del alumno:"
      ]
    },
    {
      "cell_type": "code",
      "metadata": {
        "id": "nthq4hDd5880"
      },
      "source": [
        "# Podemos ingresar primero a la fila y luego a la columna:\n",
        "\n",
        "indice = 0\n",
        "alumno = datos.loc[indice] \n",
        "print(alumno['Matematica'])"
      ],
      "execution_count": null,
      "outputs": []
    },
    {
      "cell_type": "code",
      "metadata": {
        "id": "HVgYSM2Qe9mr"
      },
      "source": [
        "# Podemos ingresar primero a la columna y luego a la fila:\n",
        "\n",
        "indice = 0\n",
        "matematica = datos['Matematica']\n",
        "print(matematica[indice])"
      ],
      "execution_count": null,
      "outputs": []
    },
    {
      "cell_type": "markdown",
      "metadata": {
        "id": "RxJmXntJfV8i"
      },
      "source": [
        "Muchas veces les va a pasar que hay más de una forma de resolver un problema con programación, como en el ejemplo sencillo de acceder a una celda particular en una tabla.\n",
        "\n",
        "*¿Cuál deberían usar?* Va a depender de cuál les parezca más fácil de entender, y cuál se amolde mejor a su aplicación particular, no hay una única respuesta. Por ahora alcanza con tener en cuenta que si un problema se vuelve complejo, quizá exista una forma de encararlo que produzca el mismo resultado pero que sea más simple o efectiva.\n"
      ]
    },
    {
      "cell_type": "markdown",
      "metadata": {
        "id": "D4EY947g5RSL"
      },
      "source": [
        "### Mini desafío 2.A\n",
        "Calcular el promedio de las notas de química de todos los alumnos en el archivo **Datos.xlsx**.\n",
        "\n",
        "- **Tip:** Podemos usar la función **sum**($iterable$) para obtener la suma de todos los campos. Un ejemplo de como funciona:\n",
        "```python\n",
        "mi_lista = [1, 2, 3, 4, 5]\n",
        "total = sum(mi_lista)\n",
        "print(total)\n",
        "```\n",
        " ¡La función **len()** también sigue siendo válida!"
      ]
    },
    {
      "cell_type": "code",
      "metadata": {
        "id": "c-BsC-cQ-Xem"
      },
      "source": [
        ""
      ],
      "execution_count": null,
      "outputs": []
    },
    {
      "cell_type": "markdown",
      "metadata": {
        "id": "oloubsnc6nKD"
      },
      "source": [
        "### Mini desafío 2.B\n",
        "\n",
        "Escribir una funcion que reciba como parámetros: una variable de tipo **DataFrame** (la tabla de alumnos) y el índice de un alumno. Luego debe devolver con *return* el promedio de sus notas en las diferentes materias."
      ]
    },
    {
      "cell_type": "code",
      "metadata": {
        "id": "RrEacQsE-ZSf"
      },
      "source": [
        ""
      ],
      "execution_count": null,
      "outputs": []
    },
    {
      "cell_type": "markdown",
      "metadata": {
        "id": "mL7YIBlP6vuE"
      },
      "source": [
        "### Otras operaciones\n",
        "\n",
        "\n"
      ]
    },
    {
      "cell_type": "markdown",
      "metadata": {
        "id": "AzN7fMfAHR8G"
      },
      "source": [
        "Veamos un ejemplo para sacar todos los promedios de los alumnos a la vez."
      ]
    },
    {
      "cell_type": "code",
      "metadata": {
        "id": "rcNWN_MB7IvD"
      },
      "source": [
        "promedios = (datos['Quimica'] + datos['Matematica'] + datos['Fisica']) / 3\n",
        "print('Todos los promedios')\n",
        "print(promedios)\n",
        "print('El promedio maximo es', promedios.max())"
      ],
      "execution_count": null,
      "outputs": []
    },
    {
      "cell_type": "markdown",
      "metadata": {
        "id": "2dS5eCtHbPqn"
      },
      "source": [
        "Podemos ver que cuando se suman columnas de un *DataFrame*, se calcula la suma **elemento a elemento**, como si hiciera la operación suma para cada fila por separado. Cuando se divide por 3 la suma de las columnas, realiza la división por 3 de cada resultado por separado y queda al final 1 resultado por fila. Esto es muy práctico y también funciona con otros operadores, por lo cual se vuelve bastante intuitivo realizar cuentas sencillas.\n",
        "\n",
        "También se muestra en el ejemplo el método **.max()** que encuentra el valor máximo."
      ]
    },
    {
      "cell_type": "markdown",
      "metadata": {
        "id": "EdGw9iAB7Fzz"
      },
      "source": [
        "### Filtrado\n",
        "\n",
        "En un DataFrame es posible filtrar los datos según alguna condición. Esto se realiza de la siguiente manera:\n",
        "> dataframe**[** condicion1 **&**/**|** condicion2 **&**/**|** condicion3 ...  **]**\n",
        "\n",
        "Donde dice `&/|` es porque se puede elegir escribir `&` para hacer un **and**, o se puede escribir `|` para hacer un **or**.\n",
        "\n",
        "Las condiciones siguien el siguiente formato:\n",
        "> dataframe**[** propiedad **]** **>**/**<**/**<=**/**...** (número)\n",
        "\n",
        "**Nota:** No debe ser una comparación sí o sí con un numero, se puede comparar contra cualquier cosa mientras se puedan cumplir esas condiciones (mayor, menor, mayor o igual, igual, etc.).\n",
        "\n",
        "Veamos un ejemplo extrayendo todos los alumnos que hayan aprobado química (nota >= 4):"
      ]
    },
    {
      "cell_type": "code",
      "metadata": {
        "id": "cux4th_--klH"
      },
      "source": [
        "import pandas as pd\n",
        "\n",
        "datos = pd.read_excel(\"Datos.xlsx\") \n",
        "print(\"Datos:\\n\")\n",
        "print(datos)\n",
        "\n",
        "aprobados = datos[ datos['Quimica'] >= 4 ]\n",
        "print(\"\\nAprobados en Química:\\n\")\n",
        "print(aprobados)"
      ],
      "execution_count": null,
      "outputs": []
    },
    {
      "cell_type": "markdown",
      "metadata": {
        "id": "5zGnfeZJgZ0y"
      },
      "source": [
        "Podemos hacer otro ejemplo en donde mostramos los alumnos que reprobaron al menos una materia, es decir que:\n",
        "\n",
        "(la nota de Química es menor a 4) **ó** (la nota de Matemática es menor a 4) **ó** (la nota de Física es menor a 4)"
      ]
    },
    {
      "cell_type": "code",
      "metadata": {
        "id": "9yJpC2yVglSE"
      },
      "source": [
        "aprobados = datos[ (datos['Quimica'] < 4) | (datos['Matematica'] < 4) | (datos['Fisica'] < 4) ]\n",
        "print(\"Reprobaron al menos una materia:\")\n",
        "print(aprobados)"
      ],
      "execution_count": null,
      "outputs": []
    },
    {
      "cell_type": "markdown",
      "metadata": {
        "id": "XH9wzS7ykFnM"
      },
      "source": [
        "En el siguiente archivo se tienen las notas de algunos alumnos, donde la letra \"A\" representa que el estudiante se inscribió al examen pero estuvo Ausente y una celda vacía representa que el alumno no se inscribió al examen:"
      ]
    },
    {
      "cell_type": "code",
      "metadata": {
        "id": "_ltN7aYOkEed"
      },
      "source": [
        "!wget \"https://raw.githubusercontent.com/IEEESBITBA/Curso-Python/master/Curso_Analisis_de_Datos_Datos/Datos2.xlsx\""
      ],
      "execution_count": null,
      "outputs": []
    },
    {
      "cell_type": "code",
      "metadata": {
        "id": "2egP2_UBkoNd"
      },
      "source": [
        "import pandas as pd\n",
        "\n",
        "datos2 = pd.read_excel(\"Datos2.xlsx\") \n",
        "print(\"Datos:\\n\")\n",
        "print(datos2)"
      ],
      "execution_count": null,
      "outputs": []
    },
    {
      "cell_type": "markdown",
      "metadata": {
        "id": "0kUJ10qWlCsq"
      },
      "source": [
        "Podemos ver que Pandas representa las celdas vacías con el texto \"NaN\" (Not a Number). Podríamos filtrar estos valores de forma similar a los ejemplos anteriores. Esta vez tendremos que usar un método específico para detectar que el valor no sea NaN:"
      ]
    },
    {
      "cell_type": "code",
      "metadata": {
        "id": "aDkbv7PLlejm"
      },
      "source": [
        "datos2_matematica = datos2[ (datos2['Matematica'].notna()) & (datos2['Matematica'] != 'A')  ]\n",
        "\n",
        "datos2_matematica = datos2_matematica['Matematica'] # Nos quedamos con la columna de interés\n",
        "\n",
        "print('Notas válidas en Matemática: ')\n",
        "print(datos2_matematica)"
      ],
      "execution_count": null,
      "outputs": []
    },
    {
      "cell_type": "markdown",
      "metadata": {
        "id": "LpPtaI977eSc"
      },
      "source": [
        "### Mini desafío 3\n",
        "\n",
        "Obtener el promedio general sólo para aquellos alumnos que aprobaron Matemática en el archivo **Datos.xlsx**."
      ]
    },
    {
      "cell_type": "code",
      "metadata": {
        "id": "TqbnksxrE1XT"
      },
      "source": [
        ""
      ],
      "execution_count": null,
      "outputs": []
    },
    {
      "cell_type": "markdown",
      "metadata": {
        "id": "0Ic-7evOJVTs"
      },
      "source": [
        "# Para seguir aprendiendo...\n",
        "\n",
        "Decidimos explicar los formatos de información estructurada más utilizados, pero como se pueden imaginar, existen muchos más formatos que se utilizan para diferentes tareas.\n",
        "\n",
        "Como contenido extra, sólo para aquellos interesados en seguir investigando contenido relacionado, incluímos 2 Anexos al final de la clase que se relacionan con el formato *JSON*.\n",
        "\n",
        "La lectura de los Anexos es **100% opcional** y NO es un requisito para continuar con el curso."
      ]
    },
    {
      "cell_type": "markdown",
      "metadata": {
        "id": "3UmXCJj6zoHw"
      },
      "source": [
        "# Ejercitación integradora $\\newcommand{\\dif}{\\bigstar}$$\\newcommand{\\facil}{\\color{\\green}{\\dif}}$ $\\newcommand{\\pieceofcake}{\\color{\\cyan}{\\dif}}$$\\newcommand{\\medio}{\\color{\\yellow}{\\dif\\dif}}$$\\newcommand{\\media}{\\medio}$$\\newcommand{\\normal}{\\medio}$  $\\newcommand{\\dificil}{\\color{\\orange}{\\dif\\dif\\dif}}$ $\\newcommand{\\imposible}{\\color{\\red}{\\dif\\dif\\dif\\dif}}$\n"
      ]
    },
    {
      "cell_type": "markdown",
      "metadata": {
        "id": "dz1uvBrZlIHA"
      },
      "source": [
        "## $\\facil$ Copy\n",
        "*   **Uso de librerías**\n",
        "*   **Manejo de archivos**\n",
        "\n",
        "Armar una función que copie un archivo *.xlsx*, y lo guarde como \"Copia 1 - $nombre$\", de ya existir debe guardarlo como Copia 2 -, Copia 3 - , ...\n",
        "\n",
        "Usar la libreria **os** para chequear si existe el archivo:\n",
        "\n",
        "Tips:\n",
        "\n",
        "- os.path.exists($nombre$) devolverá True si ya existe\n",
        "\n",
        "- Se puede importar con: `import os`\n"
      ]
    },
    {
      "cell_type": "code",
      "metadata": {
        "id": "jDM3ib2j5CNR"
      },
      "source": [
        ""
      ],
      "execution_count": null,
      "outputs": []
    },
    {
      "cell_type": "markdown",
      "metadata": {
        "id": "RhBBj36A0w3e"
      },
      "source": [
        "## $\\facil$ California Housing\n",
        "\n",
        "*   ***Analísis de información estructurada***\n",
        "*   ***Librerías***\n",
        "\n",
        "\n"
      ]
    },
    {
      "cell_type": "code",
      "metadata": {
        "id": "qDy9QmNZ4FS8"
      },
      "source": [
        "# Importar el archivo california_housing_train.xlsx.\n",
        "! wget \"https://raw.githubusercontent.com/IEEESBITBA/Curso-Python/master/Curso_Analisis_de_Datos_Datos/california_housing_train.xlsx\""
      ],
      "execution_count": null,
      "outputs": []
    },
    {
      "cell_type": "markdown",
      "metadata": {
        "id": "Pfqjp8MH5sfY"
      },
      "source": [
        "Este archivo contiene un conjunto de datos de viviendas de California, el cual fue extraido del censo de nacional de 1990. Para mas info sobre el set de datos: https://developers.google.com/machine-learning/crash-course/california-housing-data-description\n",
        "\n",
        "Extraer la siguiente información:\n",
        "\n",
        "*   ¿Cuantas casas hay con valor 'median_house_value' mayor a 80000 tomando de la longitud -120  a -118? Rta: 5466\n",
        "*   ¿Cual es el promedio de habitaciones por manzana ('total_rooms') de estas casas? Rta: 2466.31\n",
        "\n",
        "*   ¿Cual es la casa más cara? ¿Cuántas hay con este valor? Rta: 500001.0 - 814 \n",
        "\n",
        "*   $\\medio$ Obtener la media y la varianza de la propiedad 'median_house_value'. Rta: 207300.91 - 13451442293.57\n",
        "\n",
        "**Tip:** ¡Pueden investigar funciones de numpy para conseguir la media y la varianza!  [numpy.var](https://docs.scipy.org/doc/numpy-1.6.0/reference/generated/numpy.var.html)"
      ]
    },
    {
      "cell_type": "code",
      "metadata": {
        "id": "i4eMHo5N1D6S"
      },
      "source": [
        "# Una vez descargado el archivo se llamará \"california_housing_train.xlsx\"\n",
        "! wget \"https://raw.githubusercontent.com/IEEESBITBA/Curso-Python/master/Curso_Analisis_de_Datos_Datos/california_housing_train.xlsx\"\n",
        "\n",
        "import pandas as pd\n",
        "import numpy as np\n",
        "\n",
        "archivo = pd.read_excel(\"california_housing_train.xlsx\") "
      ],
      "execution_count": null,
      "outputs": []
    },
    {
      "cell_type": "markdown",
      "metadata": {
        "id": "oN3fQAn0P4xu"
      },
      "source": [
        "## $\\medio$ Llévame en tu bicicleta\n",
        "\n",
        "*   ***Analisís de información estructurada***\n",
        "*   ***Librerías***\n",
        "\n",
        "El gobierno de la Ciudad de Buenos Aires recolecta datos acerca del uso de los servicios de bicicletas públicas (ecobici) y publica parte de ellos:\n",
        "https://data.buenosaires.gob.ar/dataset/bicicletas-publicas\n",
        "\n",
        "Para este ejemplo usaremos los primeros 10000 viajes de la base de datos del 2021. Están invitados a analizar todos los viajes, pero para ello les recomendamos descargar el archivo y ejecutar su programa en forma local (no en Google Golab).\n",
        "\n",
        "Se quiere conocer más acerca del uso que le dan los usuarios al sistema, por lo cual su tarea será extraer la siguiente información:\n",
        "\n",
        "* ¿Qué porcentaje de los viajes se completaron en estado NORMAL?\n",
        "* ¿Cuál es la duración promedio de cada viaje? (Los datos están en segundos)\n",
        "* ¿A qué hora del día se realizaron más viajes? (por ejemplo: de 16hs a 17hs)\n",
        "* ¿Cuántas estaciones diferentes fueron utilizadas?\n",
        "* Para cada estación utilizada como inicio de un viaje, imprimirlas ordenadas por cantidad de viajes que iniciaron de la misma.\n",
        "\n",
        "**Tip:** Recuerden investigar los métodos que tienen los DataFrames para ver si alguno de ellos les ayuda a resolver un problema particular.\n"
      ]
    },
    {
      "cell_type": "code",
      "metadata": {
        "id": "xcDrfZ-XP9Nc"
      },
      "source": [
        "# Una vez descargado el archivo se llamará \"recorridos-realizados-2021-sample.csv\"\n",
        "! wget \"https://raw.githubusercontent.com/IEEESBITBA/Curso-Python/master/Curso_Analisis_de_Datos_Datos/recorridos-realizados-2021-sample.csv\"\n",
        "\n",
        "import pandas as pd\n",
        "import numpy as np\n",
        "\n",
        "archivo = pd.read_csv(\"recorridos-realizados-2021-sample.csv\") "
      ],
      "execution_count": null,
      "outputs": []
    },
    {
      "cell_type": "code",
      "metadata": {
        "id": "OwnDYXrkWi1O"
      },
      "source": [
        ""
      ],
      "execution_count": null,
      "outputs": []
    },
    {
      "cell_type": "markdown",
      "metadata": {
        "id": "9RGcIi4eb09D"
      },
      "source": [
        "# Solución:"
      ]
    },
    {
      "cell_type": "code",
      "metadata": {
        "id": "7RxR2BEpR2T9"
      },
      "source": [
        "# Obtenemos el número de filas en el archivo\n",
        "numero_de_filas = len(archivo)\n",
        "\n",
        "# Usamos .value_counts() para obtener una cuenta de cuantas veces ocurre cada valor\n",
        "# Dividimos la cantidad de veces que aparece 'NORMAL' por la cantidad de filas\n",
        "estado_count = archivo['Estado cerrado'].value_counts()\n",
        "porcentaje_normal = 100*(estado_count['NORMAL'] / numero_de_filas)\n",
        "print(f'El {porcentaje_normal:.2f}% de los viajes se completaron en estado NORMAL')\n",
        "\n",
        "# Usamos .mean() para calcular el promedio\n",
        "duracion_promedio = round(archivo['Duración'].mean())\n",
        "print(f'La duración promedio es de {duracion_promedio//60} minutos {duracion_promedio%60} segundos')\n",
        "\n",
        "# Con pd.to_datetime() convertimos strings a objetos datetime\n",
        "# Usamos .dt.hour para obtener únicamente el valor de hora\n",
        "# Con .value_counts() y luego .idxmax() encontramos el índice que más veces aparece\n",
        "horarios_de_inicio = archivo['Fecha de inicio']\n",
        "horarios_de_inicio = pd.to_datetime(horarios_de_inicio)\n",
        "horas_de_inicio = horarios_de_inicio.dt.hour\n",
        "hora_pico = horas_de_inicio.value_counts().idxmax()\n",
        "print(f'La hora más concurrida es de {hora_pico}hs a {hora_pico+1}hs')\n",
        "\n",
        "# Con pd.concat unimos las columnas de estaciones de inicio y fin,\n",
        "# en caso de que una estación aparece sólo en una de ellas\n",
        "# Usando len() y .value_counts() encontramos la cantidad total de estaciones\n",
        "estaciones_inicio = archivo['Nombre de estación de inicio']\n",
        "estaciones_fin = archivo['Nombre de estación de fin de viaje']\n",
        "estaciones_total = pd.concat([estaciones_inicio, estaciones_fin])\n",
        "print(f'Se utilizaron {len(estaciones_total.value_counts())} estaciones en total')"
      ],
      "execution_count": null,
      "outputs": []
    },
    {
      "cell_type": "code",
      "metadata": {
        "id": "69rnv5AFbmQC"
      },
      "source": [
        "# Usando .value_counts().iteritems() podemos recorrer las estaciones ordenadas\n",
        "# por la cantida de veces que aparece cada una\n",
        "\n",
        "print('\\nCantidad de viajes iniciados en cada estación:\\n')\n",
        "for estacion, cantidad in estaciones_inicio.value_counts().iteritems():\n",
        "  print('Cantidad:', cantidad, ' Estación:', estacion)"
      ],
      "execution_count": null,
      "outputs": []
    },
    {
      "cell_type": "markdown",
      "metadata": {
        "id": "JZkXQVHHB9ps"
      },
      "source": [
        "## $\\medio$ El tiempo es dinero\n",
        "\n",
        "*   ***Analisís de información estructurada***\n",
        "*   ***Librerías***\n",
        "\n",
        "La administración del dinero es una tarea que requiere una altísima fiabilidad. \n",
        "En esta ocasión tu objetivo será programar un script que **actualize la cantidad** de dinero de una serie de usuarios a partir de la información de las transferencias que fueron realizadas. \n",
        "Más concretamente recibiras una **base de datos con la cantidad de dinero de una serie de usuarios**, un base de datos con una serie de transferencias que los usuarios se realizan entre si, y deberás generar con eso **una nueva base de datos con el dinero actualizado de cada usuario**.\n",
        "\n",
        "*   Importar el archivo **Finanzas.xlsx** que contiene la cantidad de dinero de los usuarios y las transferencias en dos hojas de archivo.\n",
        "*   Exportar un archivo **usuarios_actualizados.xlsx** que contiene las cantidades de dinero actualizadas.\n",
        "\n",
        "<img src=\"https://psmag.com/.image/t_share/MTI3NTgyMzg2MzE2NzAxNjY2/time-is-money.jpg\" width=400>\n",
        "\n"
      ]
    },
    {
      "cell_type": "code",
      "metadata": {
        "id": "xDfaq9hDCAii"
      },
      "source": [
        "! wget \"https://raw.githubusercontent.com/IEEESBITBA/Curso-Python/master/Curso_Analisis_de_Datos_Datos/Finanzas.xlsx\""
      ],
      "execution_count": null,
      "outputs": []
    },
    {
      "cell_type": "markdown",
      "metadata": {
        "id": "TCM6UYHPGIdl"
      },
      "source": [
        "Debes procesar las transferencias y actualizar el saldo de cada usuario (crear un nuevo archivo excel con los saldos actualizados)"
      ]
    },
    {
      "cell_type": "code",
      "metadata": {
        "id": "vNW7TVWHCc45"
      },
      "source": [
        "usuarios_archivo = pd.read_excel(\"Finanzas.xlsx\", \"Usuarios\",index_col=\"Usuario\") \n",
        "#leemos los usuarios \"indexados\" por su nombre\n",
        "\n",
        "transferencias_archivo = pd.read_excel(\"Finanzas.xlsx\", \"Transferencias\")"
      ],
      "execution_count": null,
      "outputs": []
    },
    {
      "cell_type": "markdown",
      "metadata": {
        "id": "8CmN7SuE6ml-"
      },
      "source": [
        "## $\\dificil $ Buscando la $\n",
        "\n",
        "\n",
        "*   ***Procesamiento de información estructurada***\n",
        "*   ***Librerías***\n",
        "\n",
        "Utilizando el set de datos del archivo **california_housing_train.xlsx**\n",
        "\n",
        "Dividir el area cubierta por el censo en cuadrantes de 0.5 de latitud x 0.5  de longitud, encontrar para qué cuadrante el valor medio de 'median_house_value' es máximo. Asignar el paso como una variable para que pueda cambiarse facilmente. Para filtrar las zonas de muy baja residencia descarten los valores cuando hay menos de 100 casas\n",
        "\n",
        "Datos utiles:\n",
        "- Minimo de longitud: -124.3\n",
        "- Máximo de longitud: -114.3\n",
        "- Minimo de latitud: 32.5\n",
        "- Máximo de latitud: 42.5\n",
        "\n",
        "**Tips:** El programa va a tardar en correr, no se asusten! Pueden investigar funciones de numpy para ayudarlos a resolver el problema [numpy.arange](https://docs.scipy.org/doc/numpy/reference/generated/numpy.arange.html).\n",
        "\n",
        "**Nota final**: Busquen en el mapa estas coordenadas para ver donde quedan! \n",
        "\n",
        "\n",
        "\n"
      ]
    },
    {
      "cell_type": "code",
      "metadata": {
        "id": "HFNVBCai692J"
      },
      "source": [
        "import pandas as pd\n",
        "import numpy as np\n",
        "\n",
        "archivo = pd.read_excel(\"california_housing_train.xlsx\") \n",
        "paso = .5\n",
        "\n",
        "lats = np.arange(32.5,42.5,paso)\n",
        "lons = np.arange(-124.3,113.3,paso) \n",
        "maximoValor = 0\n",
        "maximaLat = 0\n",
        "maximaLon = 0"
      ],
      "execution_count": null,
      "outputs": []
    },
    {
      "cell_type": "markdown",
      "metadata": {
        "id": "JzDX-mNenfJ-"
      },
      "source": [
        "## $\\imposible $ Unificación de bases de datos\n",
        "\n",
        "El objetivo de este problema es unificar dos bases de datos que contienen mails. Esto quiere decir, tomar dos bases de datos de formato *.csv*: **lista1.csv** y **lista2.csv** y combinarlas en una misma base de datos **listafinal.csv**. \n",
        "El contenido de las bases de datos son listas de mails, que contienen mails y otras informaciones de distintos usuarios. Tener en cuenta que las dos bases de datos pueden tener informaciones distintas de los usuarios.\n",
        "\n",
        "**Recomendamos** descargar los archivos para ver su contenido (Con excel pueden abrirlos, pensar que un csv es prácticamente equivalente a un excel).\n"
      ]
    },
    {
      "cell_type": "code",
      "metadata": {
        "id": "EKEKk7pOnjpD"
      },
      "source": [
        "! wget \"https://raw.githubusercontent.com/IEEESBITBA/Curso-Python/master/Curso_Analisis_de_Datos_Datos/lista1.csv\" \n",
        "# primera lista de clientes\n",
        "\n",
        "! wget \"https://raw.githubusercontent.com/IEEESBITBA/Curso-Python/master/Curso_Analisis_de_Datos_Datos/lista2.csv\"\n",
        "# segunda lista de clientes\n",
        "\n",
        "! wget \"https://raw.githubusercontent.com/IEEESBITBA/Curso-Python/master/Curso_Analisis_de_Datos_Datos/lista_final.csv\"\n",
        "# ejemplo de como tiene que quedar (las columnas pueden quedar en otro orden! salvo la primera)"
      ],
      "execution_count": null,
      "outputs": []
    },
    {
      "cell_type": "code",
      "metadata": {
        "id": "Yc_Da8Kf61q5"
      },
      "source": [
        ""
      ],
      "execution_count": null,
      "outputs": []
    },
    {
      "cell_type": "markdown",
      "metadata": {
        "id": "nAnJeVXQKstS"
      },
      "source": [
        "## Anexo A: JSON\n",
        "La lectura de los Anexos es **100% opcional** y NO es un requisito para continuar con el curso."
      ]
    },
    {
      "cell_type": "markdown",
      "metadata": {
        "id": "JmqpWNphG0To"
      },
      "source": [
        "### **Opcional**: Mini-desafío json\n",
        "Estás encargado de un servidor con millones de usuarios. \n",
        "\n",
        "Se pide escribir un programa que reciba el email y contraseña del usuario y se fije si existe el usuario y si coincide la contraseña.\n",
        "\n",
        "Se tienen datos encolumnados en formato json que nos llegan del siguiente formato:\n",
        "```json\n",
        "{\n",
        "\t\"usuarios\": [\"mica@mail.co\", \"jerry@gma.com\",\"alber@soup.co\"],\n",
        "\t\"contra\": [\"abc123\",\"caballitos\",\"yoloswag\"]\n",
        "}\n",
        "```\n",
        "La entrada del programa son tres lineas, el programa entonces va tener tres `input()`. La primer linea contiene el `json`, la segunda el `email` a verificar, y la tercera la `contraseña`. Por ende, las primeras lineas de su programa podrían ser:\n",
        "```python\n",
        "import json\n",
        "usuarios = json.loads(input())\n",
        "email = input()\n",
        "password = input()\n",
        "```\n",
        "\n",
        "La salida del programa será `OK` si el usuario **se encuentra en la base de datos** ***y*** **si coincide la contraseña**, imprimimos `DNE` (does not exist) si el usuario no existe y `NO` en cualquier otro caso.\n",
        "\n",
        "#### Caso ejemplo\n",
        "**Entrada**:\n",
        "```plaintext\n",
        "{\"usuarios\": [\"mica@mail.co\",\"jerry@gma.com\",\"alber@soup.co\"],\"contra\": [\"abc123\",\"caballitos\",\"yoloswag\"]}\n",
        "mica@mail.co\n",
        "caballitos\n",
        "```\n",
        "El usuario existe y la contraseña también... pero no le corresponde la contraseña `caballitos` al usuario `mica@mail.co` (la contraseña de `mica@mail.co` sería `abc123`) por ende imprimimos:\n",
        "\n",
        "**Salida**\n",
        "```\n",
        "NO\n",
        "```\n",
        "\n",
        "_Considere que no hay usuarios repetidos_."
      ]
    },
    {
      "cell_type": "code",
      "metadata": {
        "id": "zgmCCY7q4Dpy"
      },
      "source": [
        ""
      ],
      "execution_count": null,
      "outputs": []
    },
    {
      "cell_type": "markdown",
      "metadata": {
        "id": "ZzwH4JZkKm5N"
      },
      "source": [
        "## Anexo B: API's\n",
        "La lectura de los Anexos es **100% opcional** y NO es un requisito para continuar con el curso."
      ]
    },
    {
      "cell_type": "markdown",
      "metadata": {
        "id": "MD7B9lqk7C9p"
      },
      "source": [
        "En este curso, uno de los objetivos es poder automatizar tareas comunes. Ya empezamos a ver como podemos interactuar con archivos de datos desde nuestro programa en Python, pero esto puede no ser suficiente. Es usual tener que interactuar con una aplicación desde nuestro programa, por ejemplo, nuestro programa podría querer acceder a una página web, o al servidor de nuestra empresa. Para lograr la interacción entre una aplicación y nuestro programa se utilizan API's (Application Programming Interface) las cuales permiten estandarizar el formato de la información que se intercambia. Para lograr esta comunicación una de las herramientas más comunes es el uso de archivos *JSON* ya que de manera simple y concisa pueden representar estructuras de datos relativamente complejas. No todas las aplicaciones tendrán API's ya que depende de su creador programar esta interfaz o no, además, no todas las API's proveen el acceso a todos los datos deseados por lo cual es posible que haya que recurrir a otros métodos menos elegantes para obtener la información deseada.\n",
        "\n",
        "[Este video](https://youtu.be/BxV14h0kFs0) hecho por Tom Scott puede ayudar para comprender un poco más acerca de qué se tratan las API's.\n",
        "\n",
        "Para mostrar un ejemplo práctico del uso de API's, utilizamos uno de los códigos de ejemplo en la documentación de la API de YouTube que pueden ver en [este link](https://developers.google.com/youtube/reporting/v1/code_samples/python?hl=es#retrieve_daily_channel_statistics). Las aplicaciones de Google (Maps, Youtube, etc.) suelen tener API's relativamente buenas y completas. En este caso el ejemplo obtiene ciertas estadísticas del [Canal de YouTube de IEEE-ITBA](https://www.youtube.com/channel/UCpWHvOSiPtDIwIw8Tb_9g6A/featured) entre los días 1 y 13 del mes de octubre 2020. Los resultados **reales** de este programa se muestran a continuación tal cual como fueron enviados por la API de YouTube y recibidos por nuestro programa en Python:\n",
        "\n",
        "```json\n",
        "{\n",
        "    \"columnHeaders\": [\n",
        "        {\n",
        "            \"columnType\": \"DIMENSION\",\n",
        "            \"dataType\": \"STRING\",\n",
        "            \"name\": \"day\"\n",
        "        },\n",
        "        {\n",
        "            \"columnType\": \"METRIC\",\n",
        "            \"dataType\": \"INTEGER\",\n",
        "            \"name\": \"estimatedMinutesWatched\"\n",
        "        },\n",
        "        {\n",
        "            \"columnType\": \"METRIC\",\n",
        "            \"dataType\": \"INTEGER\",\n",
        "            \"name\": \"views\"\n",
        "        },\n",
        "        {\n",
        "            \"columnType\": \"METRIC\",\n",
        "            \"dataType\": \"INTEGER\",\n",
        "            \"name\": \"likes\"\n",
        "        },\n",
        "        {\n",
        "            \"columnType\": \"METRIC\",\n",
        "            \"dataType\": \"INTEGER\",\n",
        "            \"name\": \"subscribersGained\"\n",
        "        }\n",
        "    ],\n",
        "    \"kind\": \"youtubeAnalytics#resultTable\",\n",
        "    \"rows\": [\n",
        "        [\n",
        "            \"2020-10-01\",\n",
        "            26,\n",
        "            19,\n",
        "            0,\n",
        "            0\n",
        "        ],\n",
        "        [\n",
        "            \"2020-10-02\",\n",
        "            2,\n",
        "            14,\n",
        "            0,\n",
        "            0\n",
        "        ],\n",
        "        [\n",
        "            \"2020-10-03\",\n",
        "            120,\n",
        "            78,\n",
        "            0,\n",
        "            1\n",
        "        ],\n",
        "        [\n",
        "            \"2020-10-04\",\n",
        "            3280,\n",
        "            1203,\n",
        "            75,\n",
        "            88\n",
        "        ],\n",
        "        [\n",
        "            \"2020-10-05\",\n",
        "            2064,\n",
        "            747,\n",
        "            22,\n",
        "            44\n",
        "        ],\n",
        "        [\n",
        "            \"2020-10-06\",\n",
        "            2290,\n",
        "            824,\n",
        "            28,\n",
        "            26\n",
        "        ],\n",
        "        [\n",
        "            \"2020-10-07\",\n",
        "            2817,\n",
        "            950,\n",
        "            13,\n",
        "            20\n",
        "        ],\n",
        "        [\n",
        "            \"2020-10-08\",\n",
        "            4594,\n",
        "            1491,\n",
        "            9,\n",
        "            14\n",
        "        ],\n",
        "        [\n",
        "            \"2020-10-09\",\n",
        "            4238,\n",
        "            1254,\n",
        "            17,\n",
        "            19\n",
        "        ],\n",
        "        [\n",
        "            \"2020-10-10\",\n",
        "            31783,\n",
        "            3231,\n",
        "            126,\n",
        "            102\n",
        "        ],\n",
        "        [\n",
        "            \"2020-10-11\",\n",
        "            6233,\n",
        "            1529,\n",
        "            18,\n",
        "            22\n",
        "        ],\n",
        "        [\n",
        "            \"2020-10-12\",\n",
        "            4786,\n",
        "            1138,\n",
        "            9,\n",
        "            7\n",
        "        ],\n",
        "        [\n",
        "            \"2020-10-13\",\n",
        "            3977,\n",
        "            761,\n",
        "            17,\n",
        "            13\n",
        "        ]\n",
        "    ]\n",
        "}\n",
        "```\n",
        "\n",
        "Como se puede observar, el formato de los datos está definido por la API de YouTube, y consiste de una lista ```columnHeaders``` con los datos de cada columna, como por ejemplo el nombre de la columna, y luego una lista ```rows``` con los datos de cada fila en el mismo orden en que se indicaron las columnas.\n",
        "\n",
        "Usando la API de YouTube, por ejemplo, se puede automatizar el análisis de las estadísticas de videos e incluso realizar cambios acordemente para mejorar su rendimiento, como por ejemplo cambiar el título, la imagen de portada, o realizar cualquier análisis personalizado.\n",
        "\n",
        "Usando la API de Google Maps se puede llegar a incorporar funcionalidad de mapas o de geolocalización a nuestra aplicación.\n",
        "\n",
        "En conclusión, las API's nos permiten interactuar desde nuestro programa con otras aplicaciones de forma simple y estandarizada para aprovechar todas las herramientas que nos ofrecen, y automatizar este proceso utilizando Python.\n",
        "\n"
      ]
    }
  ]
}