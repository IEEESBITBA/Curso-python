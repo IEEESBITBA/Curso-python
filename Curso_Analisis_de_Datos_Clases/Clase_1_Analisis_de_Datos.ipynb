{
  "nbformat": 4,
  "nbformat_minor": 0,
  "metadata": {
    "colab": {
      "provenance": []
    },
    "kernelspec": {
      "name": "python3",
      "display_name": "Python 3"
    }
  },
  "cells": [
    {
      "cell_type": "markdown",
      "metadata": {
        "id": "-0006-epnUur"
      },
      "source": [
        "# ¡Bienvenidos al Curso de Análisis de Datos en Python!\n",
        "¡Hola! Somos estudiantes voluntarios en la rama estudiantil IEEE del Instituto Tecnológico de Buenos Aires y organizamos este curso de Análisis de Datos en Python gratuito y abierto al público general.\n",
        "\n",
        "\\\n",
        "<img height=\"150\" src=\"https://raw.githubusercontent.com/IEEESBITBA/Curso-python/master/_assets/logo-oficial.png\">\n",
        "\n",
        "\\\n",
        "\\\n",
        "Este curso forma parte de una serie de cursos que ofrecemos. Tiene como objetivo principal que los participantes aprendan lo suficiente para:\n",
        "* Automatizar tareas comunes.\n",
        "* Manipular archivos y hojas de datos de manera eficiente.\n",
        "* Representar información gráficamente de manera sencilla.\n",
        "* Comprender las ideas fundamentales detrás del funcionamiento de modelos de machine learning.\n",
        "\n",
        "Todas estas tareas pueden ser realizadas usando programación sin necesidad de convertirse en un experto del tema.\n",
        "\n",
        "El contenido de este curso introductorio está orientado hacia aquellos que tienen conocimientos básicos sobre programación en Python (tales como tipos de datos, funciones y estructuras de datos). Se verán conceptos y temas fundamentales acerca de librerías, lectura de archivos y análisis y representación de datos, poniendo en práctica lo aprendido mediante desafíos interactivos y ejercicios prácticos.\n",
        "\n",
        "\n",
        "\\\n",
        "El curso consiste en 3 clases, los temas y conceptos a cubrir son los siguientes:\n",
        "\n",
        "\n",
        "**Clase 1 :**\n",
        "*     Introducción a librerías.\n",
        "*     Lectura y escritura de archivos formato Excel y CSV.\n",
        "*     Manipulación de datos con Pandas.\n",
        "\n",
        "**Clase 2 :**\n",
        "*     Introducción a matplotlib.\n",
        "*     Visualización de datos.\n",
        "*     Personalización de los gráficos.\n",
        "\n",
        "**Clase 3 :**\n",
        "*     Introducción a inteligencia artificial y conceptos relacionados.\n",
        "*     Introducción a modelos de Machine Learning.\n",
        "*     Introducción a Redes Neuronales.\n",
        "\n",
        "\\\n",
        "\n",
        "En nuestro esmero por proveer un curso adaptable y flexible a la disponibilidad de la mayor cantidad de personas, se optó por una modalidad \"semi-sincrónica\", en la cual los participantes lleven un ritmo similar, pero que dentro de cada semana puedan dedicar su tiempo de la forma que prefieran.\n",
        "\n",
        "Las clases serán publicadas semanalmente y estarán compuestas de videos y textos complementarios como también desafíos prácticos para pensar y resolver. Entre clase y clase tendrán una semana para leer, ver los videos, practicar, y conversar con sus compañeros. El fin de semana entre clase y clase habrá un Livestream donde podrán sacarse las dudas que tengan.\n",
        "\n",
        "¡No dejen pasar la oportunidad de resolver los desafíos! Son una gran oportunidad para comprender realmente lo que acaban de ver y practicar, algunos son fáciles y otros difíciles así que no se desanimen si tarda en llegar la idea para resolverlos, ya que ese es el punto, ¡desafiarse!\n",
        "\n",
        "La ejercitación integradora incluye muchos más ejercicios al final de la clase. En este caso no es crucial terminarlos todos, pero sí les recomendamos hacer los que puedan de acuerdo al tiempo del que dispongan, ya que creemos que la puesta en práctica de los conocimientos es la mejor manera de aprender.\n",
        "\n",
        "\\\n",
        "**Certificado:** Para obtener un certificado de finalización del curso se debe completar exitosamente **al menos uno** de los siete **cuestionarios de fin de curso** (no es necesario aprobar los 7 formularios):\n",
        "* Se les habilitará durante la última semana de clase, uno por día: del 20/10 al 26/10 a las 23:59hs (incluídos).\n",
        "* Consta de preguntas sobre los temas que verán en el curso.\n",
        "* Tendrán, por formulario, un sólo intento para entregarlo.\n",
        "\n",
        "Podrán encontrar los cuestionarios a través del servidor de Discord (también serán comunicados por nuestra cuentra de Instagram), y se habilitará uno por día durante la semana de evaluación. Tienen una chance por día para aprobar el cuestionario, y se **aprueba con 10/12 respuestas correctas**. Estas evaluaciones no tienen un tiempo fijo para resolverlas, ¡así que tómense el tiempo para pensar cada pregunta!\n",
        "\n",
        "\\\n",
        "**Comunicación:** Recuerden aprovechar el servidor de Discord. Allí pueden conversar con otros participantes del curso, y hacer todas las consultas que deseen, por más elementales que puedan ser. Están invitados a participar y ayudar a sus compañeros, además los distintos ayudantes del curso intentaremos ayudarlos con sus consultas, y las que no hayan podido ser respondidas durante la semana se podrán consultar en los Livestreams.\n",
        "\n",
        "\\\n",
        "\n",
        "**Livestream:** Las transmisiones en vivo serán los días sábados de 18 a 19 hs (UCT-3), allí se responderan las dudas y problemáticas más usuales o concurridas. Estos quedarán grabados en caso de que no hayan podido verlo en vivo o quieran volver a revisarlo. El Livestream aparecerá disponible los días y horarios correspondientes en [nuestro canal de Youtube](https://www.youtube.com/channel/UCpWHvOSiPtDIwIw8Tb_9g6A).\n",
        "\n",
        "\\\n",
        "\n",
        "**Nota 1:** Para poder guardar los ejercicios que resuelvan les recomendamos guardar una copia del documento en su Google Drive. La próxima vez que quieran entrar a la clase y mantener su progreso pueden acceder desde su carpeta de Drive, en lugar de usar el link original.\n",
        "\n",
        "\n",
        "<img height=\"300\" src=\"https://raw.githubusercontent.com/IEEESBITBA/Curso-python/master/_assets/guardar_copia_en_drive.png\">\n",
        "\n",
        "\\\n",
        "\n",
        "**Nota 2:** Si alguno de los videos no les aparece por defecto, deberán ejecutar las celdas de código en la que se encuentra ese video y luego reproducirlo. Para ejecutar una celda, tienen que clickear sobre el botón superior izquierdo del bloque en que se encuentra el código.\n",
        "Cada video tratará los temas explicados en la clase. Asimismo estos se complementan con la información escrita del curso.\n",
        "\n",
        "\\\n",
        "¡Esperamos que les sirva!\n",
        "\n",
        "El material es de libre distribución bajo la licencia [Creative Commons](https://creativecommons.org) CC-BY-NC-SA."
      ]
    },
    {
      "cell_type": "markdown",
      "metadata": {
        "id": "giUteLvz9PY4"
      },
      "source": [
        "# Introducción al Análisis de Datos\n",
        "\n",
        "Ya sea mediante formularios web, datos analíticos de redes sociales, instrumentos científicos de medición, registros de ventas en un comercio, o de muchas otras formas, cada vez más las personas tienen que crear o tienen acceso a grandes volúmenes de datos.\n",
        "\n",
        "Sin embargo, rara vez alcanza con la recopilación de datos, estos deben ser procesados y analizados para poder extraer la información relevante y obtener conclusiones a partir de ellos. Por otro lado, estos resultados deben poder ser visualizados de forma que puedan ser interpretados tanto por quienes realizan el análisis como por personas que necesitan esta información.\n",
        "\n",
        "Podemos entonces empezar a discernir algunos de los pasos que formarán parte del proceso de análisis de datos:\n",
        "\n",
        "- Recopilación de datos.\n",
        "- Acondicionamiento / Limpieza.\n",
        "- Análisis / Procesamiento.\n",
        "- Visualización de resultados.\n",
        "\n",
        "En este curso vamos a ver una introducción a los últimos 3 puntos, mientras que la tarea de recopilación de datos será específica a los casos particulares, dada la enorme cantidad de posibles métodos de recopilación de datos.\n",
        "\n",
        "Para lograr abarcar a la mayor cantidad de aplicaciones, en este curso nos focalizamos en la obtención de datos mediante archivos de **hojas de cálculo** (como Excel y CSV). Otros posibles métodos podrían incluír archivos JSON, HDF o bases de datos (como por ejemplo SQL). Además, una vez que aprenden a utilizar una librería para esta tarea, luego pueden empezar a utilizar todo tipo de librerías para manejar los archivos que necesiten.\n",
        "\n",
        "Esta clase resulta ser para muchos estudiantes más difícil que otras. Les recomendamos tener paciencia con los ejercicios y animarse a probar sus ideas, aunque no funcionen. Si un problema es difícil, sugerimos probar de simplificar el problema o de resolver sólo una parte del total, antes de seguir intentando. Como siempre, los desafíos no se resuelven siendo un experto, sino con **perseverancia**, **colaboración con compañeros** y **prueba y error**."
      ]
    },
    {
      "cell_type": "markdown",
      "metadata": {
        "id": "Z9i5-cpq2Cxg"
      },
      "source": [
        "# Librerías"
      ]
    },
    {
      "cell_type": "code",
      "metadata": {
        "id": "ZUCgY1J6GIoI",
        "colab": {
          "base_uri": "https://localhost:8080/",
          "height": 471
        },
        "outputId": "94dd0491-01d6-4f97-c514-304afe95630f"
      },
      "source": [
        "# Link a Youtube: https://youtu.be/6wCBL7AifsU\n",
        "# Tema: Librerías: concepto, instalación, importación y ejemplos.\n",
        "\n",
        "# Dar click en el botón de play de esta celda si el video no se visualiza debajo\n",
        "\n",
        "from IPython.display import YouTubeVideo\n",
        "YouTubeVideo('6wCBL7AifsU', width=800, height=450)"
      ],
      "execution_count": null,
      "outputs": [
        {
          "output_type": "execute_result",
          "data": {
            "text/plain": [
              "<IPython.lib.display.YouTubeVideo at 0x7944e95c7b20>"
            ],
            "text/html": [
              "\n",
              "        <iframe\n",
              "            width=\"800\"\n",
              "            height=\"450\"\n",
              "            src=\"https://www.youtube.com/embed/6wCBL7AifsU\"\n",
              "            frameborder=\"0\"\n",
              "            allowfullscreen\n",
              "            \n",
              "        ></iframe>\n",
              "        "
            ],
            "image/jpeg": "[encoded data removed]"
          },
          "metadata": {},
          "execution_count": 1
        }
      ]
    },
    {
      "cell_type": "markdown",
      "metadata": {
        "id": "AqctVwVr3BGh"
      },
      "source": [
        "# Archivos .xlsx y .csv\n",
        "\n",
        "\n",
        "\n",
        "[Pandas](https://pandas.pydata.org) es una librería muy popular en los últimos tiempos. Nos permite, entre otras cosas, sistematizar con unas pocas funciones la conversión de un archivo de información en los tipos de datos que Python maneja. En esta clase la utilizaremos para poder leer archivos con información en filas y columnas, tales como los formatos **excel** o **csv**.\n",
        "\n",
        "<img src=\"https://upload.wikimedia.org/wikipedia/commons/thumb/e/ed/Pandas_logo.svg/1200px-Pandas_logo.svg.png\" width=600px>\n",
        "\n",
        "\n",
        "\n"
      ]
    },
    {
      "cell_type": "markdown",
      "metadata": {
        "id": "M9T2nn7qlvCQ"
      },
      "source": [
        "## Lectura de archivos .xlsx .csv\n",
        "\n"
      ]
    },
    {
      "cell_type": "code",
      "metadata": {
        "id": "S6goEchtGd6P",
        "colab": {
          "base_uri": "https://localhost:8080/",
          "height": 471
        },
        "outputId": "47ab34c1-e36e-4a70-c113-922117d22b63"
      },
      "source": [
        "# Link a Youtube: https://youtu.be/Eq9w4uT3rYs\n",
        "# Tema: Manejo de Archivos con pandas.\n",
        "\n",
        "# Dar click en el botón de play de esta celda si el video no se visualiza debajo\n",
        "\n",
        "from IPython.display import YouTubeVideo\n",
        "YouTubeVideo('Eq9w4uT3rYs', width=800, height=450)"
      ],
      "execution_count": null,
      "outputs": [
        {
          "output_type": "execute_result",
          "data": {
            "text/plain": [
              "<IPython.lib.display.YouTubeVideo at 0x7944e95c7ac0>"
            ],
            "text/html": [
              "\n",
              "        <iframe\n",
              "            width=\"800\"\n",
              "            height=\"450\"\n",
              "            src=\"https://www.youtube.com/embed/Eq9w4uT3rYs\"\n",
              "            frameborder=\"0\"\n",
              "            allowfullscreen\n",
              "            \n",
              "        ></iframe>\n",
              "        "
            ],
            "image/jpeg": "[encoded data removed]"
          },
          "metadata": {},
          "execution_count": 2
        }
      ]
    },
    {
      "cell_type": "markdown",
      "metadata": {
        "id": "mj0twLv6Grdv"
      },
      "source": [
        "A continuación mostraremos un ejemplo donde se accede a la información de un archivo utilizando *pandas*. El archivo que leeremos se llama **Datos.xlsx**, normalmente desde nuestra computadora podremos acceder a los archivos locales mediante su ubicación en el disco. Colab requiere cargar los archivos a su entorno antes de poder usarlos, lo cual se puede realizar mediante el siguiente comando que descarga un archivo de internet:"
      ]
    },
    {
      "cell_type": "code",
      "metadata": {
        "id": "pJqU8NbcdnFh",
        "colab": {
          "base_uri": "https://localhost:8080/"
        },
        "outputId": "bc65dd33-3a44-47bc-ead0-69a2c0a527fb"
      },
      "source": [
        "# Comando wget. Solo para maquinas Linux. ¡Colab usa Linux!\n",
        "! wget \"https://raw.githubusercontent.com/IEEESBITBA/Curso-Python/master/Curso_Analisis_de_Datos_Datos/Datos.xlsx\""
      ],
      "execution_count": null,
      "outputs": [
        {
          "output_type": "stream",
          "name": "stdout",
          "text": [
            "--2024-09-06 22:07:33--  https://raw.githubusercontent.com/IEEESBITBA/Curso-Python/master/Curso_Analisis_de_Datos_Datos/Datos.xlsx\n",
            "Resolving raw.githubusercontent.com (raw.githubusercontent.com)... 185.199.108.133, 185.199.109.133, 185.199.110.133, ...\n",
            "Connecting to raw.githubusercontent.com (raw.githubusercontent.com)|185.199.108.133|:443... connected.\n",
            "HTTP request sent, awaiting response... 200 OK\n",
            "Length: 4054 (4.0K) [application/octet-stream]\n",
            "Saving to: ‘Datos.xlsx’\n",
            "\n",
            "Datos.xlsx          100%[===================>]   3.96K  --.-KB/s    in 0s      \n",
            "\n",
            "2024-09-06 22:07:33 (47.8 MB/s) - ‘Datos.xlsx’ saved [4054/4054]\n",
            "\n"
          ]
        }
      ]
    },
    {
      "cell_type": "code",
      "source": [
        "# Si no estamos en un entorno linux podemos definir nuestra propia wget\n",
        "# Esta función nos ayuda a descargar archivos desde la web y no es necesaria para archivos locales\n",
        "# No es necesario entender cómo funciona, se las mostramos sólo por si alguno llega a necesitarla\n",
        "\n",
        "# Importamos la libreria requests\n",
        "import requests\n",
        "\n",
        "def wget(url):\n",
        "    r = requests.get(url, allow_redirects=True)\n",
        "    with open(url[url.rfind('/') + 1::], 'wb') as f:\n",
        "        f.write(r.content)\n",
        "\n",
        "wget(\"https://raw.githubusercontent.com/IEEESBITBA/Curso-Python/master/Curso_Analisis_de_Datos_Datos/Datos.xlsx\")"
      ],
      "metadata": {
        "id": "sTPnVB-Ju50U"
      },
      "execution_count": null,
      "outputs": []
    },
    {
      "cell_type": "markdown",
      "metadata": {
        "id": "8yyXIgzOdmbh"
      },
      "source": [
        "La función que utilizaremos para cargar los datos del archivo se llama [read_excel()](https://pandas.pydata.org/pandas-docs/stable/reference/api/pandas.read_excel.html). Esta función recibe como parámetro el nombre del archivo deseado. También existe la función [read_csv()](https://pandas.pydata.org/pandas-docs/stable/reference/api/pandas.read_csv.html) y tiene un funcionamiento muy similar."
      ]
    },
    {
      "cell_type": "code",
      "metadata": {
        "id": "rNtLWy_c3ibR",
        "colab": {
          "base_uri": "https://localhost:8080/"
        },
        "outputId": "ae38f9f9-ea24-45f7-bda0-f0a6d4fa8a86"
      },
      "source": [
        "import pandas as pd\n",
        "\n",
        "archivo = pd.read_excel(\"Datos.xlsx\")\n",
        "# La variable archivo es de un tipo de dato especial de pandas llamado 'DataFrame'\n",
        "print(archivo)"
      ],
      "execution_count": null,
      "outputs": [
        {
          "output_type": "stream",
          "name": "stdout",
          "text": [
            "   Legajo Nombre    Apellido  Quimica  Matematica  Fisica\n",
            "0   34567   Juan    Martinez       10           7       9\n",
            "1   34678  Pablo    Gonzales        4           9       4\n",
            "2   34234  Maria  Citanovich        2           4       4\n",
            "3   35679    Sol        Rios        9           8      10\n",
            "4   36789  Paula       Lagos        8           5       8\n",
            "5   32578  Tomas         Reu        1           4       2\n"
          ]
        }
      ]
    },
    {
      "cell_type": "markdown",
      "metadata": {
        "id": "8rDJQH9bOIdt"
      },
      "source": [
        "En el ejemplo, la variable `archivo` no es de un tipo estándar de Python, sino que la librería Pandas define su propio tipo de variables. Este tipo es llamado **DataFrame** y como cualquier otro tipo, tiene sus propios métodos y características los cuales se pueden ver en la [documentación de Pandas](https://pandas.pydata.org/docs/reference/api/pandas.DataFrame.html).\n",
        "\n",
        "Una forma de utilizar la información que almacenamos en la variable de tipo *DataFrame*, es convertirla en un tipo conocido. Para esto podemos convertirla a un diccionario usando el método [to_dict()](https://pandas.pydata.org/pandas-docs/stable/reference/api/pandas.DataFrame.to_dict.html). Esta función recibe como parámetro el tipo de diccionario deseado, dependiendo de qué forma es preferible para organizar la información.\n",
        "\n",
        "Los diseñadores de pandas les pusieron los siguientes nombres a distintos tipos de diccionarios:\n",
        "*dict*, *list*, *series*, *split*, *records*, *index*\n",
        "\n",
        "Vamos a ver algunos de estos tipos de diccionarios que son útiles:\n",
        "\n"
      ]
    },
    {
      "cell_type": "code",
      "metadata": {
        "id": "e1FhDtaiN7ch",
        "colab": {
          "base_uri": "https://localhost:8080/"
        },
        "outputId": "c479ab81-7b80-4776-8e80-189008808572"
      },
      "source": [
        "import pandas as pd\n",
        "\n",
        "archivo = pd.read_excel(\"Datos.xlsx\")\n",
        "data = archivo.to_dict(\"list\")\n",
        "# \"list\" significa que vamos a almacenar a cada columna como una lista con su contenido\n",
        "\n",
        "print(data)\n",
        "print(data['Nombre'])     # Accedemos a los datos de una columna\n",
        "print(data['Nombre'][2])  # Accedemos al índice 2 de la columna 'Nombres'"
      ],
      "execution_count": null,
      "outputs": [
        {
          "output_type": "stream",
          "name": "stdout",
          "text": [
            "{'Legajo': [34567, 34678, 34234, 35679, 36789, 32578], 'Nombre': ['Juan', 'Pablo', 'Maria', 'Sol', 'Paula', 'Tomas'], 'Apellido': ['Martinez', 'Gonzales', 'Citanovich', 'Rios', 'Lagos', 'Reu'], 'Quimica': [10, 4, 2, 9, 8, 1], 'Matematica': [7, 9, 4, 8, 5, 4], 'Fisica': [9, 4, 4, 10, 8, 2]}\n",
            "['Juan', 'Pablo', 'Maria', 'Sol', 'Paula', 'Tomas']\n",
            "Maria\n"
          ]
        }
      ]
    },
    {
      "cell_type": "markdown",
      "metadata": {
        "id": "wPpcHbNL3kig"
      },
      "source": [
        "El parámetro \"list\" sirve para crear un diccionario donde en cada elemento la *clave* es el nombre de la columna y el *contenido* es una lista con los items de la columna correspondiente.\n",
        "\n",
        "Cambiando el parámetro \"list\" por \"records\" de la función **to_dict()** podemos obtener una lista. Cada elemento de la lista es un diccionario. Cada uno de los diccionarios en la lista corresponde a una fila de la hoja de datos, en donde para cada elemento la *clave* es el nombre de la columna mientras que el *contenido* es 1 solo dato, el dato de la columna y fila correspondiente."
      ]
    },
    {
      "cell_type": "code",
      "metadata": {
        "id": "HX3WZ8AJ3meh",
        "colab": {
          "base_uri": "https://localhost:8080/"
        },
        "outputId": "0f8b22b6-9334-44d4-d41d-d179a0645f1b"
      },
      "source": [
        "import pandas as pd\n",
        "\n",
        "archivo = pd.read_excel(\"Datos.xlsx\")\n",
        "\n",
        "data = archivo.to_dict(\"records\")\n",
        "# \"records\" significa que vamos a obtener el contenido separado por cada fila\n",
        "\n",
        "print(data)\n",
        "print(data[2])            # Accedemos a los datos de una fila\n",
        "print(data[2]['Nombre'])  # Accedemos a la columna 'Nombres' de la fila con índice 2"
      ],
      "execution_count": null,
      "outputs": [
        {
          "output_type": "stream",
          "name": "stdout",
          "text": [
            "[{'Legajo': 34567, 'Nombre': 'Juan', 'Apellido': 'Martinez', 'Quimica': 10, 'Matematica': 7, 'Fisica': 9}, {'Legajo': 34678, 'Nombre': 'Pablo', 'Apellido': 'Gonzales', 'Quimica': 4, 'Matematica': 9, 'Fisica': 4}, {'Legajo': 34234, 'Nombre': 'Maria', 'Apellido': 'Citanovich', 'Quimica': 2, 'Matematica': 4, 'Fisica': 4}, {'Legajo': 35679, 'Nombre': 'Sol', 'Apellido': 'Rios', 'Quimica': 9, 'Matematica': 8, 'Fisica': 10}, {'Legajo': 36789, 'Nombre': 'Paula', 'Apellido': 'Lagos', 'Quimica': 8, 'Matematica': 5, 'Fisica': 8}, {'Legajo': 32578, 'Nombre': 'Tomas', 'Apellido': 'Reu', 'Quimica': 1, 'Matematica': 4, 'Fisica': 2}]\n",
            "{'Legajo': 34234, 'Nombre': 'Maria', 'Apellido': 'Citanovich', 'Quimica': 2, 'Matematica': 4, 'Fisica': 4}\n",
            "Maria\n"
          ]
        }
      ]
    },
    {
      "cell_type": "markdown",
      "metadata": {
        "id": "1y_W3XCo3oOg"
      },
      "source": [
        "A veces es necesario \"indexar\" el archivo por alguna columna en particular, en estos casos\n",
        "podemos agregar un parámetro *index_col* con el nombre de la columna que servirá de índice para los datos.\n",
        "Es importante notar que la columna seleccionada no puede tener valores repetidos, ya que los datos de esta columna serán las claves del diccionario generado."
      ]
    },
    {
      "cell_type": "code",
      "metadata": {
        "id": "_z9zIZpW3pnx",
        "colab": {
          "base_uri": "https://localhost:8080/"
        },
        "outputId": "6e0e60db-42fa-4d47-8128-8671f6a00851"
      },
      "source": [
        "import pandas as pd\n",
        "\n",
        "# Indicamos que la columna de indexación será apellido.\n",
        "archivo = pd.read_excel(\"Datos.xlsx\", index_col =\"Apellido\")\n",
        "print(archivo)\n",
        "\n",
        "data = archivo.to_dict(\"index\")\n",
        "# \"index\" significa que vamos a obtener el contenido como diccionarios\n",
        "# donde la clave es algun campo de cada fila, en este caso la clave de los\n",
        "# diccionarios será la clave \"Apellido\"\n",
        "\n",
        "# convertimos el tipo de dato de pandas a un dict de python\n",
        "\n",
        "print(data)\n",
        "print(data['Martinez'])           # Accedemos a los datos de una fila (usando el dato de índice apropiado)\n",
        "print(data['Martinez']['Legajo']) # Accedemos a la columna 'Legajo' de la fila con índice 'Martinez'"
      ],
      "execution_count": null,
      "outputs": [
        {
          "output_type": "stream",
          "name": "stdout",
          "text": [
            "            Legajo Nombre  Quimica  Matematica  Fisica\n",
            "Apellido                                              \n",
            "Martinez     34567   Juan       10           7       9\n",
            "Gonzales     34678  Pablo        4           9       4\n",
            "Citanovich   34234  Maria        2           4       4\n",
            "Rios         35679    Sol        9           8      10\n",
            "Lagos        36789  Paula        8           5       8\n",
            "Reu          32578  Tomas        1           4       2\n",
            "{'Martinez': {'Legajo': 34567, 'Nombre': 'Juan', 'Quimica': 10, 'Matematica': 7, 'Fisica': 9}, 'Gonzales': {'Legajo': 34678, 'Nombre': 'Pablo', 'Quimica': 4, 'Matematica': 9, 'Fisica': 4}, 'Citanovich': {'Legajo': 34234, 'Nombre': 'Maria', 'Quimica': 2, 'Matematica': 4, 'Fisica': 4}, 'Rios': {'Legajo': 35679, 'Nombre': 'Sol', 'Quimica': 9, 'Matematica': 8, 'Fisica': 10}, 'Lagos': {'Legajo': 36789, 'Nombre': 'Paula', 'Quimica': 8, 'Matematica': 5, 'Fisica': 8}, 'Reu': {'Legajo': 32578, 'Nombre': 'Tomas', 'Quimica': 1, 'Matematica': 4, 'Fisica': 2}}\n",
            "{'Legajo': 34567, 'Nombre': 'Juan', 'Quimica': 10, 'Matematica': 7, 'Fisica': 9}\n",
            "34567\n"
          ]
        }
      ]
    },
    {
      "cell_type": "markdown",
      "metadata": {
        "id": "0yk55xnGUO1U"
      },
      "source": [
        "Todo esto de hablar de filas y de columnas, crear diccionarios de listas, listas de diccionarios, es un poco confuso. Este es un buen momento para detenerse a revisar bien la estructura de datos que genera cada uno de los códigos anteriores. Es normal que si aprendieron a usar listas y diccionarios recientemente, todavía no sea muy fácil conceptualizar los tipos de datos anteriores y pensar en cuál conviene utilizar o cómo acceder a los datos que necesitan. La realidad es que hay que ganar un poco de práctica y cada vez se vuelve más simple. Luego van a poder concentrarse en el proyecto que quieren crear y no tener que pensar cada detalle de listas y diccionarios."
      ]
    },
    {
      "cell_type": "markdown",
      "metadata": {
        "id": "Ve8-YdUyagnD"
      },
      "source": [
        "### Mini desafío 1.A\n",
        "Leer el archivo **Tabla1.xlsx** que contiene los puntos de un campeonato. El archivo tiene cuatro columnas:\n",
        "* **Equipo**\n",
        "* **Puntos**\n",
        "* **Goles a favor**\n",
        "* **Goles en contra**\n",
        "\n",
        "Determinar de cada equipo la diferencia de gol (goles a favor - goles en contra), y mostrar todas las diferencias usando **print**."
      ]
    },
    {
      "cell_type": "code",
      "metadata": {
        "id": "efoMZn5096BH"
      },
      "source": [
        " # Ejecutar esta celda para descargar el archivo que necesitan para este desafío\n",
        " !wget \"https://raw.githubusercontent.com/IEEESBITBA/Curso-Python/master/Curso_Analisis_de_Datos_Datos/Tabla1.xlsx\""
      ],
      "execution_count": null,
      "outputs": []
    },
    {
      "cell_type": "code",
      "metadata": {
        "id": "a1plv4Mz96VO"
      },
      "source": [
        "#MINI DESAFIO"
      ],
      "execution_count": null,
      "outputs": []
    },
    {
      "cell_type": "code",
      "source": [],
      "metadata": {
        "id": "CjeVmeC_7geK"
      },
      "execution_count": null,
      "outputs": []
    },
    {
      "cell_type": "markdown",
      "metadata": {
        "id": "XjqvtRgg8LRG"
      },
      "source": [
        "### Mini desafío 1.B - Challenge\n",
        "\n",
        "Determinar qué equipo es el campeón (**1ro**) y perdedor (**último**). ¿Qué columnas del archivo hay que analizar en este caso?"
      ]
    },
    {
      "cell_type": "code",
      "metadata": {
        "id": "wecPHKih98Pg"
      },
      "source": [],
      "execution_count": null,
      "outputs": []
    },
    {
      "cell_type": "markdown",
      "source": [
        "### Mini desafio 1.C - Extra Challenge\n",
        "Determinar qué equipos obtuvieron mas de 20 puntos, y mostrar sus diferencias de goles.\n",
        "\n",
        "Plus: ordenar los equipos de mayor a menor en puntaje (de forma descendiente)."
      ],
      "metadata": {
        "id": "M18THsgMQ-_K"
      }
    },
    {
      "cell_type": "code",
      "source": [],
      "metadata": {
        "id": "RchkWdfaRAbf"
      },
      "execution_count": null,
      "outputs": []
    },
    {
      "cell_type": "markdown",
      "metadata": {
        "id": "4TozN7UY31fw"
      },
      "source": [
        "## Escritura de archivos .xlsx y .csv\n",
        "\n",
        "\n",
        "\n",
        "\n"
      ]
    },
    {
      "cell_type": "markdown",
      "metadata": {
        "id": "mgZcMgbqHCKG"
      },
      "source": [
        "Es posible escribir archivos con pandas utilizando el comando [to_excel()](https://pandas.pydata.org/pandas-docs/stable/reference/api/pandas.DataFrame.to_excel.html). Este método recibe un *DataFrame*, por lo que si queremos escribir otro tipo de dato de python deberemos realizar una conversión con el método del mismo nombre: [DataFrame()](https://pandas.pydata.org/pandas-docs/stable/reference/api/pandas.DataFrame.html).\n",
        "\n",
        "A continuación mostraremos un ejemplo que genera la siguiente estructura de datos:\n",
        "\n",
        "|   |     Personas     | Edad |\n",
        "|---|:----------------:|-----:|\n",
        "| 0 |  Analía Ferreyra |   25 |\n",
        "| 1 |    Martin Hugo   |   35 |\n",
        "| 2 | Fernando Lorenzo |   87 |\n"
      ]
    },
    {
      "cell_type": "code",
      "metadata": {
        "id": "ttd4RpTy39FL",
        "colab": {
          "base_uri": "https://localhost:8080/"
        },
        "outputId": "8a6d91b3-34ae-4070-b564-291dc38ef5a2"
      },
      "source": [
        "import pandas as pd\n",
        "\n",
        "# La clave es el titulo de la columna y el contenido son listas con los items de cada columna\n",
        "data = {\n",
        "    \"Personas\" : [\"Analía Ferreyra\" , \"Martin Hugo\", \"Fernando Lorenzo\"],\n",
        "    \"Edad\" : [25, 35, 87]\n",
        "}\n",
        "\n",
        "# Con pd.DataFrame podemos generar una variable tipo DataFrame\n",
        "# Recordemos que DataFrame es el tipo de dato que usa pandas\n",
        "dataFrame = pd.DataFrame(data)\n",
        "\n",
        "print(dataFrame)\n",
        "\n",
        "# Exportamos la información a un archivo llamado \"personas.xlsx\"\n",
        "dataFrame.to_excel(\"personas.xlsx\")"
      ],
      "execution_count": null,
      "outputs": [
        {
          "output_type": "stream",
          "name": "stdout",
          "text": [
            "           Personas  Edad\n",
            "0   Analía Ferreyra    25\n",
            "1       Martin Hugo    35\n",
            "2  Fernando Lorenzo    87\n"
          ]
        }
      ]
    },
    {
      "cell_type": "markdown",
      "metadata": {
        "id": "nyEP-rLYJlbm"
      },
      "source": [
        "El archivo que genera el programa anterior tiene el siguiente aspecto:\n",
        "\n",
        "<img src=\"https://raw.githubusercontent.com/IEEESBITBA/Curso-Python/master/_assets/colab_archivos_3.png\" width=400>\n",
        "\n",
        "En Google Colab el archivo queda guardado en la pestaña *Archivos*. Si usan un entorno de desarrollo distinto el archivo será guardado en su disco de la computadora. Para ver el archivo generado pueden seguir los siguientes pasos:\n",
        "\n",
        "<img src=\"https://raw.githubusercontent.com/IEEESBITBA/Curso-Python/master/_assets/colab_archivos_2.png\" width=400>\n",
        "\n",
        "\n"
      ]
    },
    {
      "cell_type": "markdown",
      "metadata": {
        "id": "f-IyPLyv3eKi"
      },
      "source": [
        "## Manipulación de DataFrames\n"
      ]
    },
    {
      "cell_type": "code",
      "metadata": {
        "id": "no3rMBM7G7at"
      },
      "source": [
        "# Link a Youtube: https://youtu.be/K6GTx_q7AIA\n",
        "# Tema: Manejo de DataFrames.\n",
        "\n",
        "# Dar click en el botón de play de esta celda si el video no se visualiza debajo\n",
        "\n",
        "from IPython.display import YouTubeVideo\n",
        "YouTubeVideo('K6GTx_q7AIA', width=800, height=450)"
      ],
      "execution_count": null,
      "outputs": []
    },
    {
      "cell_type": "markdown",
      "metadata": {
        "id": "0bG4eyBmHIu2"
      },
      "source": [
        "Además de poder convertir los datos de un archivo a una estructura de datos nativa de Python, como listas y diccionarios, Pandas tiene la posibilidad de trabajar directamente sobre un *DataFrame* usando operaciones y métodos particulares. Sería muy aburrido explicar cada uno de ellos en detalle ya que varios son muy específicos, pero podrían ser la solución perfecta para un problema muy particular. A continuación veremos las operaciones más utilizadas, confiando en que si llegan a necesitar realizar operaciones más complejas puedan encontrarlas en la [documentación de pandas](https://pandas.pydata.org/pandas-docs/stable/reference/api/pandas.DataFrame.html) o foros como StackOverflow."
      ]
    },
    {
      "cell_type": "code",
      "metadata": {
        "id": "yYH9Zaq13m4T",
        "colab": {
          "base_uri": "https://localhost:8080/"
        },
        "outputId": "a6a12544-dcf8-4c40-ea3c-e86f61bd6964"
      },
      "source": [
        "import pandas as pd\n",
        "\n",
        "# Volvemos a abrir el archivo que fue utilizado anteriormente:\n",
        "datos = pd.read_excel(\"Datos.xlsx\")\n",
        "print(datos)"
      ],
      "execution_count": null,
      "outputs": [
        {
          "output_type": "stream",
          "name": "stdout",
          "text": [
            "   Legajo Nombre    Apellido  Quimica  Matematica  Fisica\n",
            "0   34567   Juan    Martinez       10           7       9\n",
            "1   34678  Pablo    Gonzales        4           9       4\n",
            "2   34234  Maria  Citanovich        2           4       4\n",
            "3   35679    Sol        Rios        9           8      10\n",
            "4   36789  Paula       Lagos        8           5       8\n",
            "5   32578  Tomas         Reu        1           4       2\n"
          ]
        }
      ]
    },
    {
      "cell_type": "markdown",
      "metadata": {
        "id": "Hv008YkD4xbm"
      },
      "source": [
        "Usualmente necesitamos acceder a los datos dispuestos en las columnas esto se hace de forma similar a un diccionario, la forma es la siguiente:"
      ]
    },
    {
      "cell_type": "code",
      "metadata": {
        "id": "ywvdqmgz4whY",
        "colab": {
          "base_uri": "https://localhost:8080/"
        },
        "outputId": "2b0d1ac0-b539-46bb-e699-3b2105c47511"
      },
      "source": [
        "# Recordar que -datos- es un DataFrame, no un diccionario.\n",
        "# Pero su uso es similar:\n",
        "\n",
        "columna = 'Quimica'\n",
        "print(datos[columna])"
      ],
      "execution_count": null,
      "outputs": [
        {
          "output_type": "stream",
          "name": "stdout",
          "text": [
            "0    10\n",
            "1     4\n",
            "2     2\n",
            "3     9\n",
            "4     8\n",
            "5     1\n",
            "Name: Quimica, dtype: int64\n"
          ]
        }
      ]
    },
    {
      "cell_type": "markdown",
      "metadata": {
        "id": "pt6ECixK5Un9"
      },
      "source": [
        "Podemos ver que a diferencia de un diccionario, al mostrar una columna de la tabla usando print() aparece información adicional, como el indice de cada fila, el nombre de la columna y el tipo de dato.\n",
        "\n",
        "Otra tarea común es acceder a una fila en particular, en el ejemplo sería acceder a un alumno en particular. Se puede lograr de la siguiente forma:"
      ]
    },
    {
      "cell_type": "code",
      "metadata": {
        "id": "CR0RNXUm5kv8",
        "colab": {
          "base_uri": "https://localhost:8080/"
        },
        "outputId": "8614e37b-e3ee-46e6-dbad-c19e25650319"
      },
      "source": [
        "indice = 0\n",
        "alumno = datos.loc[indice]\n",
        "print(alumno)"
      ],
      "execution_count": null,
      "outputs": [
        {
          "output_type": "stream",
          "name": "stdout",
          "text": [
            "Legajo           34567\n",
            "Nombre            Juan\n",
            "Apellido      Martinez\n",
            "Quimica             10\n",
            "Matematica           7\n",
            "Fisica               9\n",
            "Name: 0, dtype: object\n"
          ]
        }
      ]
    },
    {
      "cell_type": "markdown",
      "metadata": {
        "id": "ezDd8V7f59vn"
      },
      "source": [
        "*¿Por qué se usa .loc[indice] en vez de directamente usar corchetes?*\n",
        "\n",
        "Normalmente se intenta que los operadores siempre signifiquen lo mismo, de forma que los corchetes deberían servir para acceder a un elemento, pero en este caso los corchetes ya se utilizan para acceder a una columna como en el ejemplo anterior, por lo cual se debe usar un operador distinto para acceder a una fila, o serían indistinguibles.\n",
        "\n",
        "Veamos ahora cómo se puede acceder a un dato en particular del alumno:"
      ]
    },
    {
      "cell_type": "code",
      "metadata": {
        "id": "nthq4hDd5880",
        "colab": {
          "base_uri": "https://localhost:8080/"
        },
        "outputId": "cf7bc224-0395-43fd-c77e-d9049866b921"
      },
      "source": [
        "# Podemos ingresar primero a la fila y luego a la columna:\n",
        "\n",
        "indice = 0\n",
        "alumno = datos.loc[indice]\n",
        "print(alumno['Matematica'])"
      ],
      "execution_count": null,
      "outputs": [
        {
          "output_type": "stream",
          "name": "stdout",
          "text": [
            "7\n"
          ]
        }
      ]
    },
    {
      "cell_type": "code",
      "metadata": {
        "id": "HVgYSM2Qe9mr",
        "colab": {
          "base_uri": "https://localhost:8080/"
        },
        "outputId": "75880ead-2374-40cd-bd1b-7a999bcf6a69"
      },
      "source": [
        "# Podemos ingresar primero a la columna y luego a la fila:\n",
        "\n",
        "indice = 0\n",
        "matematica = datos['Matematica']\n",
        "print(matematica[indice])"
      ],
      "execution_count": null,
      "outputs": [
        {
          "output_type": "stream",
          "name": "stdout",
          "text": [
            "7\n"
          ]
        }
      ]
    },
    {
      "cell_type": "markdown",
      "metadata": {
        "id": "RxJmXntJfV8i"
      },
      "source": [
        "Muchas veces les va a pasar que hay más de una forma de resolver un problema con programación, como en el ejemplo sencillo de acceder a una celda particular en una tabla.\n",
        "\n",
        "*¿Cuál deberían usar?* Va a depender de cuál les parezca más fácil de entender, y cuál se amolde mejor a su aplicación particular. No hay una única respuesta. Por ahora alcanza con tener en cuenta que si la solución a un problema se vuelve compleja, quizá exista otra más sencilla que produzca el mismo resultado.\n"
      ]
    },
    {
      "cell_type": "markdown",
      "metadata": {
        "id": "D4EY947g5RSL"
      },
      "source": [
        "### Mini desafío 2.A\n",
        "Calcular el promedio de las notas de química de todos los alumnos en el archivo **Datos.xlsx**.\n",
        "\n",
        "- **Tip:** Podemos usar la función **sum**($iterable$) para obtener la suma de todos los campos. Un ejemplo de como funciona:\n",
        "```python\n",
        "mi_lista = [1, 2, 3, 4, 5]\n",
        "total = sum(mi_lista)\n",
        "print(total)\n",
        "```\n",
        " ¡La función **len()** también sigue siendo válida!"
      ]
    },
    {
      "cell_type": "code",
      "metadata": {
        "id": "c-BsC-cQ-Xem"
      },
      "source": [],
      "execution_count": null,
      "outputs": []
    },
    {
      "cell_type": "markdown",
      "metadata": {
        "id": "oloubsnc6nKD"
      },
      "source": [
        "### Mini desafío 2.B\n",
        "\n",
        "Escribir una funcion que reciba como parámetros: una variable de tipo **DataFrame** (la tabla de alumnos) y el índice de un alumno. Luego debe devolver con *return* el promedio de sus notas en las diferentes materias."
      ]
    },
    {
      "cell_type": "code",
      "metadata": {
        "id": "RrEacQsE-ZSf"
      },
      "source": [],
      "execution_count": null,
      "outputs": []
    },
    {
      "cell_type": "markdown",
      "metadata": {
        "id": "mL7YIBlP6vuE"
      },
      "source": [
        "### Otras operaciones\n",
        "\n",
        "\n"
      ]
    },
    {
      "cell_type": "markdown",
      "metadata": {
        "id": "AzN7fMfAHR8G"
      },
      "source": [
        "Veamos un ejemplo para sacar todos los promedios de los alumnos a la vez."
      ]
    },
    {
      "cell_type": "code",
      "metadata": {
        "id": "rcNWN_MB7IvD",
        "colab": {
          "base_uri": "https://localhost:8080/"
        },
        "outputId": "27977573-7780-4ba0-ac30-02ac028f228a"
      },
      "source": [
        "promedios = (datos['Quimica'] + datos['Matematica'] + datos['Fisica']) / 3\n",
        "print('Todos los promedios')\n",
        "print(promedios)\n",
        "print('El promedio maximo es', promedios.max())"
      ],
      "execution_count": null,
      "outputs": [
        {
          "output_type": "stream",
          "name": "stdout",
          "text": [
            "Todos los promedios\n",
            "0    8.666667\n",
            "1    5.666667\n",
            "2    3.333333\n",
            "3    9.000000\n",
            "4    7.000000\n",
            "5    2.333333\n",
            "dtype: float64\n",
            "El promedio maximo es 9.0\n"
          ]
        }
      ]
    },
    {
      "cell_type": "markdown",
      "metadata": {
        "id": "2dS5eCtHbPqn"
      },
      "source": [
        "Podemos ver que cuando se suman columnas de un *DataFrame*, se calcula la suma **elemento a elemento**, como si hiciera la operación suma para cada fila por separado. Cuando se divide por 3 la suma de las columnas, realiza la división por 3 de cada resultado por separado y queda al final 1 resultado por fila. Esto es muy práctico y también funciona con otros operadores, por lo cual se vuelve bastante intuitivo realizar cuentas sencillas. También se muestra en el ejemplo el método **.max()** que encuentra el valor máximo.\n",
        "\n",
        "¿Cómo es que funciona esto? Para saberlo al detalle deberíamos aprender python avanzado y leer a fondo la documentación de Pandas. Sin embargo, basta con entender de que los programadores de Pandas definieron las operaciones de + (suma), - (resta), * (multiplicación), / (división), etc. para los DataFrames, permitiendo que se puedan usar de forma sencilla y eficaz."
      ]
    },
    {
      "cell_type": "markdown",
      "metadata": {
        "id": "EdGw9iAB7Fzz"
      },
      "source": [
        "### Filtrado\n",
        "\n",
        "En un DataFrame es posible filtrar los datos según alguna condición. Esto se realiza de la siguiente manera:\n",
        "> dataframe**[** (condición_1) **&** / **|** (condición_2) **&** / **|** (condición_3) ...  **]**\n",
        "\n",
        "Donde dice `& / |` porque se puede elegir escribir `&` para hacer un **and**, o se puede escribir `|` para hacer un **or**. Recordar que un **and** es verdadero si se cumplen ambas condiciones, mientras que un **or** lo es si se cumple alguna de ellas. Notar también que las condiciones se escriben dentro de paréntesis.\n",
        "\n",
        "Las condiciones siguien el siguiente formato:\n",
        "> dataframe**[** propiedad **]** **>**/**<**/**<=**/**...** (número)\n",
        "\n",
        "**Nota:** No debe ser una comparación sí o sí con un numero, se puede comparar contra cualquier cosa mientras estén definidas las comparaciones (mayor, menor, mayor o igual, igual, etc.).\n",
        "\n",
        "Veamos un ejemplo extrayendo todos los alumnos que hayan aprobado química (nota >= 4):"
      ]
    },
    {
      "cell_type": "code",
      "metadata": {
        "id": "cux4th_--klH",
        "colab": {
          "base_uri": "https://localhost:8080/"
        },
        "outputId": "67aa1e20-e26f-4f04-b2e9-d0a1723bdd84"
      },
      "source": [
        "import pandas as pd\n",
        "\n",
        "datos = pd.read_excel(\"Datos.xlsx\")\n",
        "print(\"Datos:\\n\")\n",
        "print(datos)\n",
        "\n",
        "# No es necesario usar paréntesis si hay una única condición\n",
        "aprobados = datos[ datos['Quimica'] >= 4 ]\n",
        "print(\"\\nAprobados en Química:\\n\")\n",
        "print(aprobados)"
      ],
      "execution_count": null,
      "outputs": [
        {
          "output_type": "stream",
          "name": "stdout",
          "text": [
            "Datos:\n",
            "\n",
            "   Legajo Nombre    Apellido  Quimica  Matematica  Fisica\n",
            "0   34567   Juan    Martinez       10           7       9\n",
            "1   34678  Pablo    Gonzales        4           9       4\n",
            "2   34234  Maria  Citanovich        2           4       4\n",
            "3   35679    Sol        Rios        9           8      10\n",
            "4   36789  Paula       Lagos        8           5       8\n",
            "5   32578  Tomas         Reu        1           4       2\n",
            "\n",
            "Aprobados en Química:\n",
            "\n",
            "   Legajo Nombre  Apellido  Quimica  Matematica  Fisica\n",
            "0   34567   Juan  Martinez       10           7       9\n",
            "1   34678  Pablo  Gonzales        4           9       4\n",
            "3   35679    Sol      Rios        9           8      10\n",
            "4   36789  Paula     Lagos        8           5       8\n"
          ]
        }
      ]
    },
    {
      "cell_type": "markdown",
      "metadata": {
        "id": "5zGnfeZJgZ0y"
      },
      "source": [
        "Podemos hacer otro ejemplo en donde mostramos los alumnos que reprobaron al menos una materia, es decir que:\n",
        "\n",
        "(la nota de Química es menor a 4) **o** (la nota de Matemática es menor a 4) **o** (la nota de Física es menor a 4)."
      ]
    },
    {
      "cell_type": "code",
      "metadata": {
        "id": "9yJpC2yVglSE",
        "colab": {
          "base_uri": "https://localhost:8080/"
        },
        "outputId": "30a613b2-9653-4a97-ae89-20a7de89ef11"
      },
      "source": [
        "aprobados = datos[ (datos['Quimica'] < 4) | (datos['Matematica'] < 4) | (datos['Fisica'] < 4) ]\n",
        "print(\"Reprobaron al menos una materia:\")\n",
        "print(aprobados)"
      ],
      "execution_count": null,
      "outputs": [
        {
          "output_type": "stream",
          "name": "stdout",
          "text": [
            "Reprobaron al menos una materia:\n",
            "   Legajo Nombre    Apellido  Quimica  Matematica  Fisica\n",
            "2   34234  Maria  Citanovich        2           4       4\n",
            "5   32578  Tomas         Reu        1           4       2\n"
          ]
        }
      ]
    },
    {
      "cell_type": "markdown",
      "metadata": {
        "id": "XH9wzS7ykFnM"
      },
      "source": [
        "En el siguiente archivo se tienen las notas de algunos alumnos, donde la letra \"A\" representa que el estudiante se inscribió al examen pero estuvo Ausente y una celda vacía representa que el alumno no se inscribió al examen:"
      ]
    },
    {
      "cell_type": "code",
      "metadata": {
        "id": "_ltN7aYOkEed",
        "colab": {
          "base_uri": "https://localhost:8080/"
        },
        "outputId": "26b30125-0025-4770-b164-f7f787a144b5"
      },
      "source": [
        "# Ejecutar esta celda para descargar el archivo necesario\n",
        "!wget \"https://raw.githubusercontent.com/IEEESBITBA/Curso-Python/master/Curso_Analisis_de_Datos_Datos/Datos2.xlsx\""
      ],
      "execution_count": null,
      "outputs": [
        {
          "output_type": "stream",
          "name": "stdout",
          "text": [
            "--2024-10-16 00:14:58--  https://raw.githubusercontent.com/IEEESBITBA/Curso-Python/master/Curso_Analisis_de_Datos_Datos/Datos2.xlsx\n",
            "Resolving raw.githubusercontent.com (raw.githubusercontent.com)... 185.199.108.133, 185.199.109.133, 185.199.110.133, ...\n",
            "Connecting to raw.githubusercontent.com (raw.githubusercontent.com)|185.199.108.133|:443... connected.\n",
            "HTTP request sent, awaiting response... 200 OK\n",
            "Length: 9078 (8.9K) [application/octet-stream]\n",
            "Saving to: ‘Datos2.xlsx’\n",
            "\n",
            "Datos2.xlsx         100%[===================>]   8.87K  --.-KB/s    in 0.001s  \n",
            "\n",
            "2024-10-16 00:14:59 (9.68 MB/s) - ‘Datos2.xlsx’ saved [9078/9078]\n",
            "\n"
          ]
        }
      ]
    },
    {
      "cell_type": "code",
      "metadata": {
        "id": "2egP2_UBkoNd",
        "colab": {
          "base_uri": "https://localhost:8080/"
        },
        "outputId": "ad2ed290-6a81-40b8-d2cc-39d548f3e127"
      },
      "source": [
        "import pandas as pd\n",
        "\n",
        "datos2 = pd.read_excel(\"Datos2.xlsx\")\n",
        "print(\"Datos:\\n\")\n",
        "print(datos2)"
      ],
      "execution_count": null,
      "outputs": [
        {
          "output_type": "stream",
          "name": "stdout",
          "text": [
            "Datos:\n",
            "\n",
            "   Legajo Nombre    Apellido Quimica Matematica  Fisica\n",
            "0   34567   Juan    Martinez      10        NaN     9.0\n",
            "1   34678  Pablo    Gonzales       4          9     4.0\n",
            "2   34234  Maria  Citanovich       A          4     4.0\n",
            "3   35679    Sol        Rios       9          8    10.0\n",
            "4   36789  Paula       Lagos       8          A     8.0\n",
            "5   32578  Tomas         Reu       1          4     NaN\n"
          ]
        }
      ]
    },
    {
      "cell_type": "markdown",
      "metadata": {
        "id": "0kUJ10qWlCsq"
      },
      "source": [
        "Podemos ver que Pandas representa las celdas vacías con el texto \"NaN\" (Not a Number). Podríamos filtrar estos valores de forma similar a los ejemplos anteriores. Esta vez tendremos que usar un método específico para detectar que el valor no sea NaN:"
      ]
    },
    {
      "cell_type": "code",
      "metadata": {
        "id": "aDkbv7PLlejm",
        "colab": {
          "base_uri": "https://localhost:8080/"
        },
        "outputId": "0293f654-ddfe-4d55-9c02-582a344981bc"
      },
      "source": [
        "datos2_matematica = datos2[ (datos2['Matematica'].notna()) & (datos2['Matematica'] != 'A')  ]\n",
        "\n",
        "datos2_matematica = datos2_matematica['Matematica'] # Nos quedamos con la columna de interés\n",
        "\n",
        "print('Notas válidas en Matemática: ')\n",
        "print(datos2_matematica)"
      ],
      "execution_count": null,
      "outputs": [
        {
          "output_type": "stream",
          "name": "stdout",
          "text": [
            "Notas válidas en Matemática: \n",
            "1    9\n",
            "2    4\n",
            "3    8\n",
            "5    4\n",
            "Name: Matematica, dtype: object\n"
          ]
        }
      ]
    },
    {
      "cell_type": "markdown",
      "metadata": {
        "id": "LpPtaI977eSc"
      },
      "source": [
        "### Mini desafío 3\n",
        "\n",
        "Obtener el promedio general sólo para aquellos alumnos que aprobaron Matemática (con nota `>= 6`) en el archivo **Datos.xlsx**."
      ]
    },
    {
      "cell_type": "code",
      "metadata": {
        "id": "TqbnksxrE1XT"
      },
      "source": [],
      "execution_count": null,
      "outputs": []
    },
    {
      "cell_type": "markdown",
      "metadata": {
        "id": "0Ic-7evOJVTs"
      },
      "source": [
        "# Para seguir aprendiendo\n",
        "\n",
        "Decidimos explicar los formatos de información estructurada más utilizados, pero como se pueden imaginar, existen muchos más formatos que se utilizan para diferentes tareas.\n",
        "\n",
        "Como contenido extra, sólo para aquellos interesados en seguir investigando, incluímos dos Anexos al final de la clase relacionados con el formato *JSON*.\n",
        "\n",
        "La lectura de los Anexos es **100% opcional** y NO es un requisito para continuar con el curso."
      ]
    },
    {
      "cell_type": "markdown",
      "metadata": {
        "id": "3UmXCJj6zoHw"
      },
      "source": [
        "# Ejercitación integradora $\\newcommand{\\dif}{\\bigstar}$$\\newcommand{\\facil}{\\color{\\green}{\\dif}}$ $\\newcommand{\\pieceofcake}{\\color{\\cyan}{\\dif}}$$\\newcommand{\\medio}{\\color{\\yellow}{\\dif\\dif}}$$\\newcommand{\\media}{\\medio}$$\\newcommand{\\normal}{\\medio}$  $\\newcommand{\\dificil}{\\color{\\orange}{\\dif\\dif\\dif}}$ $\\newcommand{\\imposible}{\\color{\\red}{\\dif\\dif\\dif\\dif}}$\n"
      ]
    },
    {
      "cell_type": "markdown",
      "metadata": {
        "id": "dz1uvBrZlIHA"
      },
      "source": [
        "## $\\facil$ Copy\n",
        "Temas:\n",
        "*   **Uso de librerías**\n",
        "*   **Manejo de archivos**\n",
        "\n",
        "Armar una función que copie un archivo *.xlsx*, y lo guarde como \"Copia 1 - $nombre$\", de ya existir debe guardarlo como Copia 2 -, Copia 3 - , ...\n",
        "\n",
        "Usar la libreria **os** para chequear si existe el archivo. Tips:\n",
        "\n",
        "- os.path.exists($nombre$) devolverá True si ya existe\n",
        "\n",
        "- Se puede importar con: `import os`\n"
      ]
    },
    {
      "cell_type": "code",
      "metadata": {
        "id": "jDM3ib2j5CNR"
      },
      "source": [
        "\n"
      ],
      "execution_count": null,
      "outputs": []
    },
    {
      "cell_type": "markdown",
      "metadata": {
        "id": "RhBBj36A0w3e"
      },
      "source": [
        "## $\\facil$ California Housing\n",
        "\n",
        "Temas:\n",
        "*   ***Analísis de información estructurada***\n",
        "*   ***Librerías***"
      ]
    },
    {
      "cell_type": "code",
      "metadata": {
        "id": "qDy9QmNZ4FS8",
        "colab": {
          "base_uri": "https://localhost:8080/"
        },
        "outputId": "da121a73-84b7-4ddc-a13b-29d8933e7474"
      },
      "source": [
        "# Descargar el archivo california_housing_train.xlsx.\n",
        "! wget \"https://raw.githubusercontent.com/IEEESBITBA/Curso-Python/master/Curso_Analisis_de_Datos_Datos/california_housing_train.xlsx\""
      ],
      "execution_count": null,
      "outputs": [
        {
          "output_type": "stream",
          "name": "stdout",
          "text": [
            "--2024-09-14 15:16:57--  https://raw.githubusercontent.com/IEEESBITBA/Curso-Python/master/Curso_Analisis_de_Datos_Datos/california_housing_train.xlsx\n",
            "Resolving raw.githubusercontent.com (raw.githubusercontent.com)... 185.199.108.133, 185.199.109.133, 185.199.110.133, ...\n",
            "Connecting to raw.githubusercontent.com (raw.githubusercontent.com)|185.199.108.133|:443... connected.\n",
            "HTTP request sent, awaiting response... 200 OK\n",
            "Length: 988464 (965K) [application/octet-stream]\n",
            "Saving to: ‘california_housing_train.xlsx’\n",
            "\n",
            "california_housing_ 100%[===================>] 965.30K  4.67MB/s    in 0.2s    \n",
            "\n",
            "2024-09-14 15:16:58 (4.67 MB/s) - ‘california_housing_train.xlsx’ saved [988464/988464]\n",
            "\n"
          ]
        }
      ]
    },
    {
      "cell_type": "markdown",
      "metadata": {
        "id": "Pfqjp8MH5sfY"
      },
      "source": [
        "Este archivo contiene un conjunto de datos de viviendas de California, el cual fue extraido del censo de nacional estadounidense de 1990. Para mas info sobre el set de datos: https://developers.google.com/machine-learning/crash-course/california-housing-data-description\n",
        "\n",
        "Extraer la siguiente información:\n",
        "\n",
        "*   ¿Cuantas casas hay con valor 'median_house_value' mayor a 80000 tomando de la longitud -120  a -118? Rta: 5466\n",
        "*   ¿Cual es el promedio de habitaciones por manzana ('total_rooms') de estas casas? Rta: 2466.31\n",
        "\n",
        "*   ¿Cual es la casa más cara? ¿Cuántas hay con este valor? Rta: 500001.0 - 814\n",
        "\n",
        "*   $\\medio$ Obtener la media y la varianza de la propiedad 'median_house_value'. Rta: 207300.91 - 13451442293.57\n",
        "\n",
        "**Tip:** ¡Pueden investigar funciones de numpy para conseguir la media y la varianza!  [numpy.var](https://docs.scipy.org/doc/numpy-1.6.0/reference/generated/numpy.var.html)"
      ]
    },
    {
      "cell_type": "code",
      "metadata": {
        "id": "i4eMHo5N1D6S",
        "colab": {
          "base_uri": "https://localhost:8080/"
        },
        "outputId": "bc9537aa-c104-4aa8-c830-c1f777587e89"
      },
      "source": [
        "import pandas as pd\n",
        "import numpy as np\n",
        "\n",
        "archivo = pd.read_excel(\"california_housing_train.xlsx\")\n",
        "print(archivo)"
      ],
      "execution_count": null,
      "outputs": [
        {
          "output_type": "stream",
          "name": "stdout",
          "text": [
            "       longitude  latitude  housing_median_age  total_rooms  total_bedrooms  \\\n",
            "0        -114.31     34.19                  15         5612            1283   \n",
            "1        -114.47     34.40                  19         7650            1901   \n",
            "2        -114.56     33.69                  17          720             174   \n",
            "3        -114.57     33.64                  14         1501             337   \n",
            "4        -114.57     33.57                  20         1454             326   \n",
            "...          ...       ...                 ...          ...             ...   \n",
            "16995    -124.26     40.58                  52         2217             394   \n",
            "16996    -124.27     40.69                  36         2349             528   \n",
            "16997    -124.30     41.84                  17         2677             531   \n",
            "16998    -124.30     41.80                  19         2672             552   \n",
            "16999    -124.35     40.54                  52         1820             300   \n",
            "\n",
            "       population  households  median_income  median_house_value  \n",
            "0            1015         472         1.4936               66900  \n",
            "1            1129         463         1.8200               80100  \n",
            "2             333         117         1.6509               85700  \n",
            "3             515         226         3.1917               73400  \n",
            "4             624         262         1.9250               65500  \n",
            "...           ...         ...            ...                 ...  \n",
            "16995         907         369         2.3571              111400  \n",
            "16996        1194         465         2.5179               79000  \n",
            "16997        1244         456         3.0313              103600  \n",
            "16998        1298         478         1.9797               85800  \n",
            "16999         806         270         3.0147               94600  \n",
            "\n",
            "[17000 rows x 9 columns]\n"
          ]
        }
      ]
    },
    {
      "cell_type": "markdown",
      "metadata": {
        "id": "oN3fQAn0P4xu"
      },
      "source": [
        "## $\\medio$ Llévame en tu bicicleta\n",
        "\n",
        "Temas:\n",
        "*   ***Analisís de información estructurada***\n",
        "*   ***Librerías***\n",
        "\n",
        "El gobierno de la Ciudad de Buenos Aires recolecta datos acerca del uso de los servicios de bicicletas públicas (ecobici) y publica [parte de ello](https://data.buenosaires.gob.ar/dataset/bicicletas-publicas)[s](https://www.youtube.com/watch?v=-UV0QGLmYys&ab_channel=CarlosVivesVEVO).\n",
        "\n",
        "\n",
        "Para este ejemplo usaremos los primeros 10000 viajes de la base de datos del 2021. Están invitados a analizar todos los viajes, pero para ello les recomendamos descargar el archivo y ejecutar su programa en forma local (no en Google Golab).\n",
        "\n",
        "Se quiere conocer más acerca del uso que le dan los usuarios al sistema, por lo cual su tarea será extraer la siguiente información:\n",
        "\n",
        "* ¿Qué porcentaje de los viajes se completaron en estado NORMAL?\n",
        "* ¿Cuál es la duración promedio de cada viaje? (Los datos están en segundos)\n",
        "* ¿A qué hora del día se realizaron más viajes? (por ejemplo: de 16hs a 17hs)\n",
        "* ¿Cuántas estaciones diferentes fueron utilizadas?\n",
        "* Para cada estación utilizada como inicio de un viaje, imprimirlas ordenadas por cantidad de viajes que iniciaron de la misma.\n",
        "\n",
        "**Tip:** Recuerden investigar los métodos que tienen los DataFrames para ver si alguno de ellos les ayuda a resolver un problema particular.\n"
      ]
    },
    {
      "cell_type": "code",
      "metadata": {
        "id": "xcDrfZ-XP9Nc",
        "colab": {
          "base_uri": "https://localhost:8080/"
        },
        "outputId": "4a9fdda0-c7e7-4766-e222-624f8d992179"
      },
      "source": [
        "# Una vez descargado el archivo se llamará \"recorridos-realizados-2021-sample.csv\"\n",
        "! wget \"https://raw.githubusercontent.com/IEEESBITBA/Curso-Python/master/Curso_Analisis_de_Datos_Datos/recorridos-realizados-2021-sample.csv\"\n"
      ],
      "execution_count": null,
      "outputs": [
        {
          "output_type": "stream",
          "name": "stdout",
          "text": [
            "--2024-09-27 22:01:12--  https://raw.githubusercontent.com/IEEESBITBA/Curso-Python/master/Curso_Analisis_de_Datos_Datos/recorridos-realizados-2021-sample.csv\n",
            "Resolving raw.githubusercontent.com (raw.githubusercontent.com)... 185.199.108.133, 185.199.109.133, 185.199.110.133, ...\n",
            "Connecting to raw.githubusercontent.com (raw.githubusercontent.com)|185.199.108.133|:443... connected.\n",
            "HTTP request sent, awaiting response... 200 OK\n",
            "Length: 1370907 (1.3M) [text/plain]\n",
            "Saving to: ‘recorridos-realizados-2021-sample.csv’\n",
            "\n",
            "recorridos-realizad 100%[===================>]   1.31M  --.-KB/s    in 0.05s   \n",
            "\n",
            "2024-09-27 22:01:12 (24.3 MB/s) - ‘recorridos-realizados-2021-sample.csv’ saved [1370907/1370907]\n",
            "\n"
          ]
        }
      ]
    },
    {
      "cell_type": "code",
      "metadata": {
        "id": "OwnDYXrkWi1O",
        "colab": {
          "base_uri": "https://localhost:8080/"
        },
        "outputId": "8dfaff07-a33d-4164-c952-e1110fa45a8d"
      },
      "source": [
        "import pandas as pd\n",
        "import numpy as np\n",
        "\n",
        "archivo = pd.read_csv(\"recorridos-realizados-2021-sample.csv\")\n",
        "print(archivo)"
      ],
      "execution_count": null,
      "outputs": [
        {
          "output_type": "stream",
          "name": "stdout",
          "text": [
            "            ID Estado cerrado  Duración  Id de estación de inicio  \\\n",
            "0     11204995         NORMAL       437                       131   \n",
            "1     11204938         NORMAL       406                       387   \n",
            "2     11204928         NORMAL       299                       232   \n",
            "3     11204920         NORMAL       400                       117   \n",
            "4     11204919         NORMAL       591                       212   \n",
            "...        ...            ...       ...                       ...   \n",
            "9994  11192944         NORMAL      1116                        20   \n",
            "9995  11192943         NORMAL      2474                       202   \n",
            "9996  11192942         NORMAL      1340                       322   \n",
            "9997  11192941         NORMAL       325                       206   \n",
            "9998  11192940         NORMAL       716                       202   \n",
            "\n",
            "          Fecha de inicio Nombre de estación de inicio         Fecha de fin  \\\n",
            "0     2021-06-02 16:14:35    131- HOSPITAL DE CLÍNICAS  2021-06-02 16:21:52   \n",
            "1     2021-06-02 16:11:01         278 - Donato Alvarez  2021-06-02 16:17:47   \n",
            "2     2021-06-02 16:10:08              252 - Tamborini  2021-06-02 16:15:07   \n",
            "3     2021-06-02 16:09:34            117 - HUMBERTO 1°  2021-06-02 16:16:14   \n",
            "4     2021-06-02 16:09:32                129 - Velasco  2021-06-02 16:19:23   \n",
            "...                   ...                          ...                  ...   \n",
            "9994  2021-05-31 20:04:46   020 - Distrito Audiovisual  2021-05-31 20:23:22   \n",
            "9995  2021-05-31 20:04:43    001 - FACULTAD DE DERECHO  2021-05-31 20:45:57   \n",
            "9996  2021-05-31 20:04:41             289 - MONTAÑESES  2021-05-31 20:27:01   \n",
            "9997  2021-05-31 20:04:41     159 - Fitz Roy & Gorriti  2021-05-31 20:10:06   \n",
            "9998  2021-05-31 20:04:33    001 - FACULTAD DE DERECHO  2021-05-31 20:16:29   \n",
            "\n",
            "      Id de estación de fin de viaje Nombre de estación de fin de viaje  \\\n",
            "0                               38.0               038 - Plaza Libertad   \n",
            "1                              262.0             349 - Plaza Saenz Peña   \n",
            "2                              386.0                      277 - Coghlan   \n",
            "3                              175.0                 147 - Constitución   \n",
            "4                              158.0                   158 - VILLARROEL   \n",
            "...                              ...                                ...   \n",
            "9994                           275.0                256 - PLAZA NORUEGA   \n",
            "9995                           202.0          001 - FACULTAD DE DERECHO   \n",
            "9996                           324.0                    280 - JURAMENTO   \n",
            "9997                           182.0        182 - RAVIGNANI Y GUATEMALA   \n",
            "9998                           131.0          131- HOSPITAL DE CLÍNICAS   \n",
            "\n",
            "      ID de ciclista Tipo de ciclista Modelo de bicicleta Origen de viaje  \n",
            "0             119795           MEMBER              ICONIC            CODE  \n",
            "1             348428           MEMBER              ICONIC            CODE  \n",
            "2             690073           MEMBER              ICONIC            CODE  \n",
            "3             713938           MEMBER              ICONIC            CODE  \n",
            "4              35926           MEMBER              ICONIC            CODE  \n",
            "...              ...              ...                 ...             ...  \n",
            "9994          232302           MEMBER              ICONIC            CODE  \n",
            "9995          699567           MEMBER              ICONIC            CODE  \n",
            "9996          769257           MEMBER              ICONIC            CODE  \n",
            "9997          205413           MEMBER              ICONIC            CODE  \n",
            "9998           21509           MEMBER              ICONIC            CODE  \n",
            "\n",
            "[9999 rows x 13 columns]\n"
          ]
        }
      ]
    },
    {
      "cell_type": "markdown",
      "metadata": {
        "id": "JZkXQVHHB9ps"
      },
      "source": [
        "## $\\medio$ El tiempo es dinero\n",
        "\n",
        "Temas:\n",
        "*   ***Analisís de información estructurada***\n",
        "*   ***Librerías***\n",
        "\n",
        "La administración del dinero es una tarea que requiere una altísima fiabilidad.\n",
        "En esta ocasión tu objetivo será programar un script que **actualize la cantidad** de dinero de una serie de usuarios a partir de la información de las transferencias que fueron realizadas.\n",
        "Más concretamente recibiras una **base de datos con la cantidad de dinero de una serie de usuarios**, un base de datos con una serie de transferencias que los usuarios se realizan entre si, y deberás generar con eso **una nueva base de datos con el dinero actualizado de cada usuario**.\n",
        "\n",
        "*   Importar el archivo **Finanzas.xlsx** que contiene la cantidad de dinero de los usuarios y las transferencias en dos hojas de archivo.\n",
        "*   Exportar un archivo **usuarios_actualizados.xlsx** que contiene las cantidades de dinero actualizadas.\n",
        "\n"
      ]
    },
    {
      "cell_type": "code",
      "metadata": {
        "id": "xDfaq9hDCAii",
        "colab": {
          "base_uri": "https://localhost:8080/"
        },
        "outputId": "884bebc4-c3f7-4f25-c1d1-ba0ec63c52f7"
      },
      "source": [
        "! wget \"https://raw.githubusercontent.com/IEEESBITBA/Curso-Python/master/Curso_Analisis_de_Datos_Datos/Finanzas.xlsx\""
      ],
      "execution_count": null,
      "outputs": [
        {
          "output_type": "stream",
          "name": "stdout",
          "text": [
            "--2024-09-07 03:16:21--  https://raw.githubusercontent.com/IEEESBITBA/Curso-Python/master/Curso_Analisis_de_Datos_Datos/Finanzas.xlsx\n",
            "Resolving raw.githubusercontent.com (raw.githubusercontent.com)... 185.199.111.133, 185.199.108.133, 185.199.110.133, ...\n",
            "Connecting to raw.githubusercontent.com (raw.githubusercontent.com)|185.199.111.133|:443... connected.\n",
            "HTTP request sent, awaiting response... 200 OK\n",
            "Length: 10809 (11K) [application/octet-stream]\n",
            "Saving to: ‘Finanzas.xlsx’\n",
            "\n",
            "\rFinanzas.xlsx         0%[                    ]       0  --.-KB/s               \rFinanzas.xlsx       100%[===================>]  10.56K  --.-KB/s    in 0s      \n",
            "\n",
            "2024-09-07 03:16:22 (44.9 MB/s) - ‘Finanzas.xlsx’ saved [10809/10809]\n",
            "\n"
          ]
        }
      ]
    },
    {
      "cell_type": "markdown",
      "metadata": {
        "id": "TCM6UYHPGIdl"
      },
      "source": [
        "Debes procesar las transferencias y actualizar el saldo de cada usuario (crear un nuevo archivo excel con los saldos actualizados)."
      ]
    },
    {
      "cell_type": "code",
      "metadata": {
        "id": "vNW7TVWHCc45",
        "colab": {
          "base_uri": "https://localhost:8080/"
        },
        "outputId": "95aeea9d-e40e-47dd-9a78-b05318ffa41b"
      },
      "source": [
        "usuarios_archivo = pd.read_excel(\"Finanzas.xlsx\", \"Usuarios\",index_col=\"Usuario\")\n",
        "#leemos los usuarios \"indexados\" por su nombre\n",
        "\n",
        "transferencias_archivo = pd.read_excel(\"Finanzas.xlsx\", \"Transferencias\")\n",
        "print(transferencias_archivo)\n",
        "print(usuarios_archivo)\n",
        "emisores = transferencias_archivo['Emisor']\n",
        "for emisor in range(len(transferencias_archivo['Emisor'])):\n",
        "  for usuario in range(len(usuarios_archivo['Usuario'])):\n",
        "    if transferencias_archivo == usuario:\n"
      ],
      "execution_count": null,
      "outputs": [
        {
          "output_type": "stream",
          "name": "stdout",
          "text": [
            "    Emisor Receptor   Monto Efectuada\n",
            "0  Claudia    Ariel     220        No\n",
            "1    Rocio    Ariel    2000        No\n",
            "2  Agustin    Rocio   43434        No\n",
            "3    Uriel  Joaquin   12423        No\n",
            "4   Martin   Andrés  234223        No\n",
            "5  Joaquin    Ariel   23323        No\n",
            "         Edad  Presupuesto\n",
            "Usuario                   \n",
            "Claudia    43        43433\n",
            "Agustin    22        23432\n",
            "Rocio      25        65444\n",
            "Ariel      34        76533\n",
            "Joaquin    65        34521\n",
            "Uriel      43        23422\n",
            "Martin     32        34534\n",
            "Andrés     26        23423\n"
          ]
        }
      ]
    },
    {
      "cell_type": "markdown",
      "source": [
        "## $\\medio $ Gastos y descuentos\n",
        "\n",
        "Utilizando esta información acerca de las ventas registradas por un supermercado a lo largo de un día.  \n",
        "\n",
        "Averigüe cuál fue el número vendido de cada uno de los productos.\n",
        "Determine cuáles clientes gastaron más de 50 pesos y ofrézcales un descuento la próxima vez que visiten el local.\n",
        "Calcule cuánto gasta un cliente promedio en un dia en el local.\n",
        "\n",
        "Ejemplo de funcionamiento:\n",
        "\n",
        "Datos:\n",
        "\n",
        "| Nombre   | Producto compardo | Numero comprado | Valor del producto |\n",
        "| -------- | ------- | -------- | ------- |\n",
        "| Miguel   | Pan     | 12   | 5    |\n",
        "| Franco   | Pan     | 2   | 5    |\n",
        "\n",
        "Salida:\n",
        "\n",
        "'Hay que comprar 14 unidades de Pan para el dia siguiente'\n",
        "\n",
        "'Cliente/a Miguel le queremos ofrecer una promocion para la proxima vez que visite la tienda!!'\n",
        "\n",
        "\n",
        "\n"
      ],
      "metadata": {
        "id": "Bk-cczH5g51l"
      }
    },
    {
      "cell_type": "code",
      "source": [
        "! wget \"https://raw.githubusercontent.com/IEEESBITBA/Curso-Python/master/Curso_Analisis_de_Datos_Datos/datosClientes.xlsx\""
      ],
      "metadata": {
        "colab": {
          "base_uri": "https://localhost:8080/"
        },
        "id": "fF-xqG65hpCY",
        "outputId": "ab54954d-f6ef-4e58-c9a1-08e01537c204"
      },
      "execution_count": null,
      "outputs": [
        {
          "output_type": "stream",
          "name": "stdout",
          "text": [
            "--2024-09-29 20:59:55--  https://raw.githubusercontent.com/IEEESBITBA/Curso-Python/master/Curso_Analisis_de_Datos_Datos/datosClientes.xlsx\n",
            "Resolving raw.githubusercontent.com (raw.githubusercontent.com)... 185.199.108.133, 185.199.109.133, 185.199.110.133, ...\n",
            "Connecting to raw.githubusercontent.com (raw.githubusercontent.com)|185.199.108.133|:443... connected.\n",
            "HTTP request sent, awaiting response... 200 OK\n",
            "Length: 5126 (5.0K) [application/octet-stream]\n",
            "Saving to: ‘datosClientes.xlsx’\n",
            "\n",
            "datosClientes.xlsx  100%[===================>]   5.01K  --.-KB/s    in 0s      \n",
            "\n",
            "2024-09-29 20:59:55 (49.9 MB/s) - ‘datosClientes.xlsx’ saved [5126/5126]\n",
            "\n"
          ]
        }
      ]
    },
    {
      "cell_type": "code",
      "source": [
        "import pandas as pd\n",
        "datos = pd.read_excel(\"datosClientes.xlsx\")\n",
        "print(datos)"
      ],
      "metadata": {
        "colab": {
          "base_uri": "https://localhost:8080/"
        },
        "id": "piKcFBq1h4uO",
        "outputId": "3ef2dd10-03e0-4f55-ffa9-8de228872e9e"
      },
      "execution_count": null,
      "outputs": [
        {
          "output_type": "stream",
          "name": "stdout",
          "text": [
            "       Nombre Producto comprado  Numero comprado  Valor del producto\n",
            "0        Juan                Te               20                   5\n",
            "1       Pedro         Chocolate                5                  10\n",
            "2     Ignacio                Te                5                   5\n",
            "3     Julieta            Huevos               12                   7\n",
            "4    Ezequiel            Huevos               24                   7\n",
            "5      Martin            Chicle               40                   2\n",
            "6    Josefina              Cafe               22                   8\n",
            "7     Esteban            Chicle               15                   2\n",
            "8       Karen              Cafe               14                   8\n",
            "9   Valentina              Cafe               32                   8\n",
            "10   Riquelme         Chocolate               12                  10\n"
          ]
        }
      ]
    },
    {
      "cell_type": "markdown",
      "metadata": {
        "id": "8CmN7SuE6ml-"
      },
      "source": [
        "## $\\dificil $ Buscando la $\n",
        "\n",
        "\n",
        "Tema:\n",
        "*   ***Procesamiento de información estructurada***\n",
        "*   ***Librerías***\n",
        "\n",
        "Utilizando el set de datos del archivo **california_housing_train.xlsx**\n",
        "\n",
        "Dividir el area cubierta por el censo en cuadrantes de 0.5 de latitud x 0.5  de longitud, encontrar para qué cuadrante el valor medio de 'median_house_value' es máximo. Asignar el paso como una variable para que pueda cambiarse facilmente. Para filtrar las zonas de muy baja residencia descarten los valores cuando hay menos de 100 casas.\n",
        "\n",
        "Datos utiles:\n",
        "- Minimo de longitud: -124.3\n",
        "- Máximo de longitud: -114.3\n",
        "- Minimo de latitud: 32.5\n",
        "- Máximo de latitud: 42.5\n",
        "\n",
        "**Tips:** El programa va a tardar en correr, no se asusten! Pueden investigar funciones de numpy para ayudarlos a resolver el problema, como [numpy.arange](https://docs.scipy.org/doc/numpy/reference/generated/numpy.arange.html).\n",
        "\n",
        "**Nota final**: ¡Busquen en el mapa estas coordenadas para ver donde quedan!\n",
        "\n",
        "\n",
        "\n"
      ]
    },
    {
      "cell_type": "code",
      "metadata": {
        "id": "HFNVBCai692J"
      },
      "source": [
        "import pandas as pd\n",
        "import numpy as np\n",
        "\n",
        "archivo = pd.read_excel(\"california_housing_train.xlsx\")\n",
        "paso = .5\n",
        "\n",
        "lats = np.arange(32.5,42.5,paso)\n",
        "lons = np.arange(-124.3,113.3,paso)\n",
        "maximoValor = 0\n",
        "maximaLat = 0\n",
        "maximaLon = 0"
      ],
      "execution_count": null,
      "outputs": []
    },
    {
      "cell_type": "markdown",
      "metadata": {
        "id": "JzDX-mNenfJ-"
      },
      "source": [
        "## $\\imposible $ Unificación de bases de datos\n",
        "\n",
        "El objetivo de este problema es unificar dos bases de datos que contienen mails. Esto quiere decir, tomar dos bases de datos de formato *.csv*: **lista1.csv** y **lista2.csv** y combinarlas en una misma base de datos **listafinal.csv**.\n",
        "El contenido de las bases de datos son listas de mails, que contienen mails y otras informaciones de distintos usuarios. Tener en cuenta que las dos bases de datos pueden tener informaciones distintas de los usuarios.\n",
        "\n",
        "**Recomendamos** descargar los archivos para ver su contenido (Con excel pueden abrirlos, pensar que un csv es prácticamente equivalente a un excel).\n"
      ]
    },
    {
      "cell_type": "code",
      "metadata": {
        "id": "EKEKk7pOnjpD"
      },
      "source": [
        "! wget \"https://raw.githubusercontent.com/IEEESBITBA/Curso-Python/master/Curso_Analisis_de_Datos_Datos/lista1.csv\"\n",
        "# primera lista de clientes\n",
        "\n",
        "! wget \"https://raw.githubusercontent.com/IEEESBITBA/Curso-Python/master/Curso_Analisis_de_Datos_Datos/lista2.csv\"\n",
        "# segunda lista de clientes\n",
        "\n",
        "! wget \"https://raw.githubusercontent.com/IEEESBITBA/Curso-Python/master/Curso_Analisis_de_Datos_Datos/lista_final.csv\"\n",
        "# ejemplo de como tiene que quedar (las columnas pueden quedar en otro orden! salvo la primera)"
      ],
      "execution_count": null,
      "outputs": []
    },
    {
      "cell_type": "code",
      "metadata": {
        "id": "Yc_Da8Kf61q5"
      },
      "source": [],
      "execution_count": null,
      "outputs": []
    },
    {
      "cell_type": "markdown",
      "source": [
        "# Anexos"
      ],
      "metadata": {
        "id": "wKwDhEeE6zao"
      }
    },
    {
      "cell_type": "markdown",
      "metadata": {
        "id": "nAnJeVXQKstS"
      },
      "source": [
        "## Anexo A: JSON\n",
        "La lectura de los Anexos es **100% opcional** y NO es un requisito para continuar con el curso."
      ]
    },
    {
      "cell_type": "markdown",
      "metadata": {
        "id": "5TaNz7sq6_Th"
      },
      "source": [
        "*JSON* es un formato de representación de información estructurada que es de gran utilidad. Su sintaxis es simple y fácil de leer a simple vista, además de que tiene una gran similitud con la sintaxis propia de Python. En la [página web](https://www.json.org/json-es.html) de *JSON* hay explicaciones bastante claras acerca de los detalles de su sintaxis.\n",
        "\n",
        "En *JSON* los objetos se rodean con llaves `{objeto}`, las listas con corchetes `[lista]` y los strings con comillas dobles `\"string\"`. Por el momento se puede pensar que un objeto es igual a un diccionario de Python, pudiendo almacenar datos con claves, por ejemplo:\n",
        "\n",
        "```json\n",
        "{  \n",
        "  \"columna_1\": [1, 8, 4, 6, 2, 8, 5],\n",
        "  \"columna_2\": [99, 56, 223, 301, 56, 2],\n",
        "  \"columna_2\": [0, -1, -66, -210, -333, 334]\n",
        "}\n",
        "```\n",
        "\n",
        "El texto de arriba es código de Python _válido_ y un objeto json! Si quisieramos cargarlo a nuestro código Python bastaría con copiarlo y pegarlo a nuestro código. Pero no siempre vamos a estar nosotros para copiar y pegar el texto json.\n",
        "\n",
        "En el caso presentado a continuación se tiene un string de código json y precisamos [leerlo y procesarlo](https://www.w3schools.com/python/python_json.asp). Para eso usamos el modulo `json` de Python. A continuación se muestra un ejemplo:"
      ]
    },
    {
      "cell_type": "code",
      "metadata": {
        "id": "4zkx4E3FGvol"
      },
      "source": [
        "import json\n",
        "s = '{ \"a\" : [1, 2, 3], \"b\" : [4, 6, 8], \"c\":[99, 98, 97] }'\n",
        "d= json.loads(s)\n",
        "print(d[\"a\"])\n",
        "print(len(d[\"b\"]))\n",
        "print(sum(d[\"c\"]))"
      ],
      "execution_count": null,
      "outputs": []
    },
    {
      "cell_type": "markdown",
      "metadata": {
        "id": "QMi42SOUH_Hp"
      },
      "source": [
        "Verán que se imprimen la lista `\"a\"`, la longitud de la lista `\"b\"` y la suma de los elementos de la lista `\"c\"`.\n",
        "\n",
        "Vamos a utilizar en el próximo desafío **opcional** la librería `json` para leer el texto que nos llega por `input()`, lo cual podría ocurrir si estamos comunicándonos con un servidor."
      ]
    },
    {
      "cell_type": "markdown",
      "metadata": {
        "id": "JmqpWNphG0To"
      },
      "source": [
        "### **Opcional**: Mini-desafío json\n",
        "Estás encargado de un servidor con millones de usuarios.\n",
        "\n",
        "Se pide escribir un programa que reciba el email y contraseña del usuario y se fije si existe el usuario y si coincide la contraseña.\n",
        "\n",
        "Se tienen datos encolumnados en formato json que nos llegan del siguiente formato:\n",
        "```json\n",
        "{\n",
        "\t\"usuarios\": [\"mica@mail.co\", \"jerry@gma.com\",\"alber@soup.co\"],\n",
        "\t\"contra\": [\"abc123\",\"caballitos\",\"yoloswag\"]\n",
        "}\n",
        "```\n",
        "La entrada del programa son tres lineas, el programa entonces va tener tres `input()`. La primer linea contiene el `json`, la segunda el `email` a verificar, y la tercera la `contraseña`. Por ende, las primeras lineas de su programa podrían ser:\n",
        "```python\n",
        "import json\n",
        "usuarios = json.loads(input())\n",
        "email = input()\n",
        "password = input()\n",
        "```\n",
        "\n",
        "La salida del programa será `OK` si el usuario **se encuentra en la base de datos** ***y*** **si coincide la contraseña**, imprimimos `DNE` (does not exist) si el usuario no existe y `NO` en cualquier otro caso.\n",
        "\n",
        "#### Caso ejemplo\n",
        "**Entrada**:\n",
        "```plaintext\n",
        "{\"usuarios\": [\"mica@mail.co\",\"jerry@gma.com\",\"alber@soup.co\"],\"contra\": [\"abc123\",\"caballitos\",\"yoloswag\"]}\n",
        "mica@mail.co\n",
        "caballitos\n",
        "```\n",
        "El usuario existe y la contraseña también... pero no le corresponde la contraseña `caballitos` al usuario `mica@mail.co` (la contraseña de `mica@mail.co` sería `abc123`) por ende imprimimos:\n",
        "\n",
        "**Salida**\n",
        "```\n",
        "NO\n",
        "```\n",
        "\n",
        "_Considere que no hay usuarios repetidos_."
      ]
    },
    {
      "cell_type": "code",
      "metadata": {
        "id": "zgmCCY7q4Dpy"
      },
      "source": [],
      "execution_count": null,
      "outputs": []
    },
    {
      "cell_type": "markdown",
      "metadata": {
        "id": "ZzwH4JZkKm5N"
      },
      "source": [
        "## Anexo B: API's\n",
        "La lectura de los Anexos es **100% opcional** y NO es un requisito para continuar con el curso."
      ]
    },
    {
      "cell_type": "markdown",
      "metadata": {
        "id": "MD7B9lqk7C9p"
      },
      "source": [
        "En este curso, uno de los objetivos es poder automatizar tareas comunes. Ya empezamos a ver como podemos interactuar con archivos de datos desde nuestro programa en Python, pero esto puede no ser suficiente.\n",
        "\n",
        "Es usual tener que interactuar con una aplicación, por ejemplo, podríamos querer acceder a una página web, o al servidor de nuestra empresa. Para lograr la interacción entre una aplicación y nuestro programa se utilizan API's (Application Programming Interface) las cuales permiten estandarizar el formato de la información que se intercambia.\n",
        "\n",
        "Para lograr esta comunicación una de las herramientas más comunes es el uso de archivos *JSON* ya que de manera simple y concisa pueden representar estructuras de datos relativamente complejas.\n",
        "\n",
        "No todas las aplicaciones tendrán API's. Además, no todas las API's proveen el acceso a todos los datos deseados, por lo cual es posible que haya que recurrir a otros métodos menos elegantes para obtener la información deseada, tales como los **scrapers**.\n",
        "\n",
        "[Este video](https://youtu.be/BxV14h0kFs0) hecho por Tom Scott puede ayudar para comprender un poco más acerca de qué se tratan las API's.\n",
        "\n",
        "Para mostrar un ejemplo práctico del uso de API's, utilizamos uno de los códigos de ejemplo en la documentación de la API de YouTube que pueden ver en [este link](https://developers.google.com/youtube/reporting/v1/code_samples/python?hl=es#retrieve_daily_channel_statistics). Las aplicaciones de Google (Maps, Youtube, etc.) suelen tener API's relativamente buenas y completas. En este caso el ejemplo obtiene ciertas estadísticas del [Canal de YouTube de IEEE-ITBA](https://www.youtube.com/channel/UCpWHvOSiPtDIwIw8Tb_9g6A/featured) entre los días 1 y 13 del mes de octubre 2020. Los resultados **reales** de este programa se muestran a continuación tal cual como fueron enviados por la API de YouTube y recibidos por nuestro programa en Python:\n",
        "\n",
        "```json\n",
        "{\n",
        "    \"columnHeaders\": [\n",
        "        {\n",
        "            \"columnType\": \"DIMENSION\",\n",
        "            \"dataType\": \"STRING\",\n",
        "            \"name\": \"day\"\n",
        "        },\n",
        "        {\n",
        "            \"columnType\": \"METRIC\",\n",
        "            \"dataType\": \"INTEGER\",\n",
        "            \"name\": \"estimatedMinutesWatched\"\n",
        "        },\n",
        "        {\n",
        "            \"columnType\": \"METRIC\",\n",
        "            \"dataType\": \"INTEGER\",\n",
        "            \"name\": \"views\"\n",
        "        },\n",
        "        {\n",
        "            \"columnType\": \"METRIC\",\n",
        "            \"dataType\": \"INTEGER\",\n",
        "            \"name\": \"likes\"\n",
        "        },\n",
        "        {\n",
        "            \"columnType\": \"METRIC\",\n",
        "            \"dataType\": \"INTEGER\",\n",
        "            \"name\": \"subscribersGained\"\n",
        "        }\n",
        "    ],\n",
        "    \"kind\": \"youtubeAnalytics#resultTable\",\n",
        "    \"rows\": [\n",
        "        [\n",
        "            \"2020-10-01\",\n",
        "            26,\n",
        "            19,\n",
        "            0,\n",
        "            0\n",
        "        ],\n",
        "        [\n",
        "            \"2020-10-02\",\n",
        "            2,\n",
        "            14,\n",
        "            0,\n",
        "            0\n",
        "        ],\n",
        "        [\n",
        "            \"2020-10-03\",\n",
        "            120,\n",
        "            78,\n",
        "            0,\n",
        "            1\n",
        "        ],\n",
        "        [\n",
        "            \"2020-10-04\",\n",
        "            3280,\n",
        "            1203,\n",
        "            75,\n",
        "            88\n",
        "        ],\n",
        "        [\n",
        "            \"2020-10-05\",\n",
        "            2064,\n",
        "            747,\n",
        "            22,\n",
        "            44\n",
        "        ],\n",
        "        [\n",
        "            \"2020-10-06\",\n",
        "            2290,\n",
        "            824,\n",
        "            28,\n",
        "            26\n",
        "        ],\n",
        "        [\n",
        "            \"2020-10-07\",\n",
        "            2817,\n",
        "            950,\n",
        "            13,\n",
        "            20\n",
        "        ],\n",
        "        [\n",
        "            \"2020-10-08\",\n",
        "            4594,\n",
        "            1491,\n",
        "            9,\n",
        "            14\n",
        "        ],\n",
        "        [\n",
        "            \"2020-10-09\",\n",
        "            4238,\n",
        "            1254,\n",
        "            17,\n",
        "            19\n",
        "        ],\n",
        "        [\n",
        "            \"2020-10-10\",\n",
        "            31783,\n",
        "            3231,\n",
        "            126,\n",
        "            102\n",
        "        ],\n",
        "        [\n",
        "            \"2020-10-11\",\n",
        "            6233,\n",
        "            1529,\n",
        "            18,\n",
        "            22\n",
        "        ],\n",
        "        [\n",
        "            \"2020-10-12\",\n",
        "            4786,\n",
        "            1138,\n",
        "            9,\n",
        "            7\n",
        "        ],\n",
        "        [\n",
        "            \"2020-10-13\",\n",
        "            3977,\n",
        "            761,\n",
        "            17,\n",
        "            13\n",
        "        ]\n",
        "    ]\n",
        "}\n",
        "```\n",
        "\n",
        "Como se puede observar, el formato de los datos está definido por la API de YouTube, y consiste de una lista ```columnHeaders``` con los datos de cada columna, como por ejemplo el nombre de la columna, y luego una lista ```rows``` con los datos de cada fila en el mismo orden en que se indicaron las columnas.\n",
        "\n",
        "Usando la API de YouTube, se puede automatizar el análisis de las estadísticas de videos e incluso realizar cambios acordemente para mejorar su rendimiento, como por ejemplo, cambiar el título o la imagen de portada.\n",
        "\n",
        "Otro ejemplo podría ser el uso de la API de Google Maps para incorporar funcionalidad de mapas o de geolocalización a nuestra aplicación. En conclusión, las API's nos permiten interactuar desde nuestro programa con otras aplicaciones de forma simple y estandarizada para aprovechar todas las herramientas que nos ofrecen, y automatizar este proceso utilizando un lenguage de programación como Python."
      ]
    }
  ]
}